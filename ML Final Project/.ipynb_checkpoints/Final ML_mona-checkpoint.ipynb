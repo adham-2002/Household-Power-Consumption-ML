{
 "cells": [
  {
   "cell_type": "markdown",
   "id": "3df5bac8",
   "metadata": {},
   "source": [
    "# Household-Power-Consumption\n",
    "## Introduction\n",
    "With the advent of new gadgets and a push towards greater electrification projects globally, power consumption is rising globally. \n",
    "\n",
    "Thus, we can also expect that household or residential power consumption is so on the rise. With greater access to global power consumption data, forecasting power consumption is an emerging challenge.\n",
    "\n",
    "An accurate forecast can help both the consumer as well as the supplier side. For the consumer, a power forecast helps in financial planning as making more green choices overall. For the supplier, an accurate forecast will definitely help in supply regulation. Thus, such models can help to optimize the overall supply chain of the household power industry.\n",
    "\n",
    "## Project Goal:\n",
    "\n",
    "<strong> Track the power consumption of individual households in almost real time. </strong>\n",
    "\n",
    "![Insid1](https://assets.amigoenergy.com/wp-content/uploads/2021/12/the-power-grid-and-electrical-grid.jpg)\n",
    "\n",
    "\n",
    "## Used Language and Libraries:\n",
    "  \n",
    "```\n",
    "└── Python\n",
    "      ├── Numpy   \n",
    "      ├── Pandas\n",
    "      ├── Matplotlib\n",
    "      ├── Seaborn\n",
    "      ├── Sklearn\n",
    "      ├── datetime\n",
    "      └── missingno   \n",
    "       \n",
    "```"
   ]
  },
  {
   "cell_type": "code",
   "execution_count": 1,
   "id": "aa2fe472",
   "metadata": {},
   "outputs": [],
   "source": [
    "# ignore warnings \n",
    "import warnings\n",
    "warnings.filterwarnings(\"ignore\")"
   ]
  },
  {
   "cell_type": "code",
   "execution_count": 2,
   "id": "fdcbbe28",
   "metadata": {},
   "outputs": [],
   "source": [
    "import numpy as np\n",
    "import pandas as pd\n",
    "import matplotlib.pyplot as plt\n",
    "import seaborn as sns\n",
    "import missingno as msno\n",
    "from datetime import datetime\n",
    "\n",
    "from sklearn import metrics \n",
    "from sklearn.preprocessing import StandardScaler\n",
    "from sklearn.model_selection import train_test_split\n",
    "from sklearn.preprocessing import MinMaxScaler\n",
    "from sklearn.linear_model import LinearRegression\n",
    "from sklearn.metrics import r2_score\n",
    "from sklearn.preprocessing import PolynomialFeatures\n",
    "from sklearn.pipeline import Pipeline"
   ]
  },
  {
   "cell_type": "markdown",
   "id": "16df658f",
   "metadata": {},
   "source": [
    "# Dataset\n",
    "\n",
    "Measurements of electric power consumption in one household with a one-minute sampling rate over a period of almost 4 years. Different electrical quantities and some sub-metering values are available.\n",
    "\n",
    "### Data Set Characteristics:\n",
    "Multivariate, Time-Series\n",
    "\n",
    "### Associated Tasks:\n",
    "Regression, Clustering\n",
    "\n",
    "### Data Set Information:\n",
    "\n",
    "This archive contains 185711 (sample of original dataset) measurements gathered between December 2006 and November 2010 (47 months).\n",
    "\n",
    "## Notes:\n",
    "1.(global_active_power*1000/60 - sub_metering_1 - sub_metering_2 - sub_metering_3) represents the active energy consumed every minute (in watt hour) in the household by electrical equipment not measured in sub-meterings 1, 2 and 3.\n",
    "\n",
    "2.The dataset contains some missing values in the measurements. All calendar timestamps are present in the dataset but for some timestamps, the measurement values are missing: a missing value is represented by the absence of value between two consecutive semi-colon attribute separators. For instance, the dataset shows missing values on April 28, 2007.\n",
    "\n",
    "## Attribute Information:\n",
    "1.date: Date in format dd/mm/yyyy\n",
    "\n",
    "2.time: time in format hh:mm:ss\n",
    "\n",
    "3.global_active_power: household global minute-averaged active power (in kilowatt)\n",
    "\n",
    "4.global_reactive_power: household global minute-averaged reactive power (in kilowatt)\n",
    "\n",
    "5.voltage: minute-averaged voltage (in volt)\n",
    "\n",
    "6.global_intensity: household global minute-averaged current intensity (in ampere)\n",
    "\n",
    "7.sub_metering_1: energy sub-metering No. 1 (in watt-hour of active energy). It corresponds to the kitchen, containing mainly a dishwasher, an oven and a microwave (hot plates are not electric but gas powered).\n",
    "\n",
    "8.sub_metering_2: energy sub-metering No. 2 (in watt-hour of active energy). It corresponds to the laundry room, containing a washing-machine, a tumble-drier, a refrigerator and a light.\n",
    "\n",
    "9.sub_metering_3: energy sub-metering No. 3 (in watt-hour of active energy). It corresponds to an electric water-heater and an air-conditioner."
   ]
  },
  {
   "cell_type": "code",
   "execution_count": 3,
   "id": "3124a89e-e957-42ef-8d43-748bd68e65b7",
   "metadata": {},
   "outputs": [
    {
     "data": {
      "text/html": [
       "<div>\n",
       "<style scoped>\n",
       "    .dataframe tbody tr th:only-of-type {\n",
       "        vertical-align: middle;\n",
       "    }\n",
       "\n",
       "    .dataframe tbody tr th {\n",
       "        vertical-align: top;\n",
       "    }\n",
       "\n",
       "    .dataframe thead th {\n",
       "        text-align: right;\n",
       "    }\n",
       "</style>\n",
       "<table border=\"1\" class=\"dataframe\">\n",
       "  <thead>\n",
       "    <tr style=\"text-align: right;\">\n",
       "      <th></th>\n",
       "      <th>Date</th>\n",
       "      <th>Time</th>\n",
       "      <th>Global_active_power</th>\n",
       "      <th>Global_reactive_power</th>\n",
       "      <th>Voltage</th>\n",
       "      <th>Global_intensity</th>\n",
       "      <th>Sub_metering_1</th>\n",
       "      <th>Sub_metering_2</th>\n",
       "      <th>Sub_metering_3</th>\n",
       "    </tr>\n",
       "  </thead>\n",
       "  <tbody>\n",
       "    <tr>\n",
       "      <th>0</th>\n",
       "      <td>16/12/2006</td>\n",
       "      <td>17:24:00</td>\n",
       "      <td>4.216</td>\n",
       "      <td>0.418</td>\n",
       "      <td>234.840</td>\n",
       "      <td>18.400</td>\n",
       "      <td>0.000</td>\n",
       "      <td>1.000</td>\n",
       "      <td>17.0</td>\n",
       "    </tr>\n",
       "    <tr>\n",
       "      <th>1</th>\n",
       "      <td>16/12/2006</td>\n",
       "      <td>17:25:00</td>\n",
       "      <td>5.360</td>\n",
       "      <td>0.436</td>\n",
       "      <td>233.630</td>\n",
       "      <td>23.000</td>\n",
       "      <td>0.000</td>\n",
       "      <td>1.000</td>\n",
       "      <td>16.0</td>\n",
       "    </tr>\n",
       "    <tr>\n",
       "      <th>2</th>\n",
       "      <td>16/12/2006</td>\n",
       "      <td>17:26:00</td>\n",
       "      <td>5.374</td>\n",
       "      <td>0.498</td>\n",
       "      <td>233.290</td>\n",
       "      <td>23.000</td>\n",
       "      <td>0.000</td>\n",
       "      <td>2.000</td>\n",
       "      <td>17.0</td>\n",
       "    </tr>\n",
       "    <tr>\n",
       "      <th>3</th>\n",
       "      <td>16/12/2006</td>\n",
       "      <td>17:27:00</td>\n",
       "      <td>5.388</td>\n",
       "      <td>0.502</td>\n",
       "      <td>233.740</td>\n",
       "      <td>23.000</td>\n",
       "      <td>0.000</td>\n",
       "      <td>1.000</td>\n",
       "      <td>17.0</td>\n",
       "    </tr>\n",
       "    <tr>\n",
       "      <th>4</th>\n",
       "      <td>16/12/2006</td>\n",
       "      <td>17:28:00</td>\n",
       "      <td>3.666</td>\n",
       "      <td>0.528</td>\n",
       "      <td>235.680</td>\n",
       "      <td>15.800</td>\n",
       "      <td>0.000</td>\n",
       "      <td>1.000</td>\n",
       "      <td>17.0</td>\n",
       "    </tr>\n",
       "  </tbody>\n",
       "</table>\n",
       "</div>"
      ],
      "text/plain": [
       "         Date      Time Global_active_power Global_reactive_power  Voltage  \\\n",
       "0  16/12/2006  17:24:00               4.216                 0.418  234.840   \n",
       "1  16/12/2006  17:25:00               5.360                 0.436  233.630   \n",
       "2  16/12/2006  17:26:00               5.374                 0.498  233.290   \n",
       "3  16/12/2006  17:27:00               5.388                 0.502  233.740   \n",
       "4  16/12/2006  17:28:00               3.666                 0.528  235.680   \n",
       "\n",
       "  Global_intensity Sub_metering_1 Sub_metering_2  Sub_metering_3  \n",
       "0           18.400          0.000          1.000            17.0  \n",
       "1           23.000          0.000          1.000            16.0  \n",
       "2           23.000          0.000          2.000            17.0  \n",
       "3           23.000          0.000          1.000            17.0  \n",
       "4           15.800          0.000          1.000            17.0  "
      ]
     },
     "execution_count": 3,
     "metadata": {},
     "output_type": "execute_result"
    }
   ],
   "source": [
    "df = pd.read_csv('data/Household Power Consumption.txt', sep=';')\n",
    "df.head(5)"
   ]
  },
  {
   "cell_type": "code",
   "execution_count": 4,
   "id": "f35a64c6",
   "metadata": {},
   "outputs": [
    {
     "data": {
      "text/plain": [
       "(185711, 9)"
      ]
     },
     "execution_count": 4,
     "metadata": {},
     "output_type": "execute_result"
    }
   ],
   "source": [
    "df.shape"
   ]
  },
  {
   "cell_type": "code",
   "execution_count": 5,
   "id": "e54b9dcb",
   "metadata": {},
   "outputs": [
    {
     "data": {
      "text/html": [
       "<div>\n",
       "<style scoped>\n",
       "    .dataframe tbody tr th:only-of-type {\n",
       "        vertical-align: middle;\n",
       "    }\n",
       "\n",
       "    .dataframe tbody tr th {\n",
       "        vertical-align: top;\n",
       "    }\n",
       "\n",
       "    .dataframe thead th {\n",
       "        text-align: right;\n",
       "    }\n",
       "</style>\n",
       "<table border=\"1\" class=\"dataframe\">\n",
       "  <thead>\n",
       "    <tr style=\"text-align: right;\">\n",
       "      <th></th>\n",
       "      <th>Sub_metering_3</th>\n",
       "    </tr>\n",
       "  </thead>\n",
       "  <tbody>\n",
       "    <tr>\n",
       "      <th>count</th>\n",
       "      <td>185702.000000</td>\n",
       "    </tr>\n",
       "    <tr>\n",
       "      <th>mean</th>\n",
       "      <td>6.553521</td>\n",
       "    </tr>\n",
       "    <tr>\n",
       "      <th>std</th>\n",
       "      <td>8.469009</td>\n",
       "    </tr>\n",
       "    <tr>\n",
       "      <th>min</th>\n",
       "      <td>0.000000</td>\n",
       "    </tr>\n",
       "    <tr>\n",
       "      <th>25%</th>\n",
       "      <td>0.000000</td>\n",
       "    </tr>\n",
       "    <tr>\n",
       "      <th>50%</th>\n",
       "      <td>0.000000</td>\n",
       "    </tr>\n",
       "    <tr>\n",
       "      <th>75%</th>\n",
       "      <td>17.000000</td>\n",
       "    </tr>\n",
       "    <tr>\n",
       "      <th>max</th>\n",
       "      <td>20.000000</td>\n",
       "    </tr>\n",
       "  </tbody>\n",
       "</table>\n",
       "</div>"
      ],
      "text/plain": [
       "       Sub_metering_3\n",
       "count   185702.000000\n",
       "mean         6.553521\n",
       "std          8.469009\n",
       "min          0.000000\n",
       "25%          0.000000\n",
       "50%          0.000000\n",
       "75%         17.000000\n",
       "max         20.000000"
      ]
     },
     "execution_count": 5,
     "metadata": {},
     "output_type": "execute_result"
    }
   ],
   "source": [
    "df.describe()"
   ]
  },
  {
   "cell_type": "code",
   "execution_count": 6,
   "id": "0b186a22",
   "metadata": {},
   "outputs": [
    {
     "data": {
      "text/plain": [
       "count        185711\n",
       "unique          131\n",
       "top       18/2/2007\n",
       "freq           1440\n",
       "Name: Date, dtype: object"
      ]
     },
     "execution_count": 6,
     "metadata": {},
     "output_type": "execute_result"
    }
   ],
   "source": [
    "df['Date'].describe()"
   ]
  },
  {
   "cell_type": "code",
   "execution_count": 7,
   "id": "0f34818f",
   "metadata": {},
   "outputs": [
    {
     "data": {
      "text/plain": [
       "Date                     0\n",
       "Time                     0\n",
       "Global_active_power      0\n",
       "Global_reactive_power    0\n",
       "Voltage                  0\n",
       "Global_intensity         0\n",
       "Sub_metering_1           0\n",
       "Sub_metering_2           0\n",
       "Sub_metering_3           9\n",
       "dtype: int64"
      ]
     },
     "execution_count": 7,
     "metadata": {},
     "output_type": "execute_result"
    }
   ],
   "source": [
    "df.isna().sum()"
   ]
  },
  {
   "cell_type": "code",
   "execution_count": 8,
   "id": "5201469c",
   "metadata": {},
   "outputs": [
    {
     "data": {
      "text/plain": [
       "<AxesSubplot:>"
      ]
     },
     "execution_count": 8,
     "metadata": {},
     "output_type": "execute_result"
    },
    {
     "data": {
      "image/png": "[encoded data removed]",
      "text/plain": [
       "<Figure size 864x288 with 2 Axes>"
      ]
     },
     "metadata": {
      "needs_background": "light"
     },
     "output_type": "display_data"
    }
   ],
   "source": [
    "# Number of missing data.\n",
    "msno.matrix(df, figsize=(12, 4))"
   ]
  },
  {
   "cell_type": "code",
   "execution_count": 9,
   "id": "8918b687",
   "metadata": {},
   "outputs": [],
   "source": [
    "# Replace all ? with NAN. \n",
    "# This is useful in cases when you know the origin of the data and can be certain which values should be missing.\n",
    "# Inplace=True parameter means that the changes will be made directly to the original DataFrame. (df), and it won't return a new DataFrame. Instead, the existing DataFrame is modified.\n",
    "df.replace('?', np.nan, inplace=True)\n",
    "df.replace(' ', np.nan, inplace=True)\n",
    "df.replace('  ', np.nan, inplace=True)\n",
    "df.replace('   ', np.nan, inplace=True)"
   ]
  },
  {
   "cell_type": "code",
   "execution_count": 10,
   "id": "1cc172cd",
   "metadata": {},
   "outputs": [
    {
     "data": {
      "text/plain": [
       "18/2/2007     1440\n",
       "22/4/2007     1440\n",
       "19/3/2007     1440\n",
       "18/3/2007     1440\n",
       "17/3/2007     1440\n",
       "              ... \n",
       "21/4/2007     1440\n",
       "20/1/2007     1439\n",
       "24/4/2007      995\n",
       "16/12/2006     396\n",
       "8                1\n",
       "Name: Date, Length: 131, dtype: int64"
      ]
     },
     "execution_count": 10,
     "metadata": {},
     "output_type": "execute_result"
    }
   ],
   "source": [
    "# 24*60 = 1440 \n",
    "df['Date'].value_counts()"
   ]
  },
  {
   "cell_type": "code",
   "execution_count": 11,
   "id": "d12de301",
   "metadata": {},
   "outputs": [
    {
     "data": {
      "text/html": [
       "<div>\n",
       "<style scoped>\n",
       "    .dataframe tbody tr th:only-of-type {\n",
       "        vertical-align: middle;\n",
       "    }\n",
       "\n",
       "    .dataframe tbody tr th {\n",
       "        vertical-align: top;\n",
       "    }\n",
       "\n",
       "    .dataframe thead th {\n",
       "        text-align: right;\n",
       "    }\n",
       "</style>\n",
       "<table border=\"1\" class=\"dataframe\">\n",
       "  <thead>\n",
       "    <tr style=\"text-align: right;\">\n",
       "      <th></th>\n",
       "      <th>Date</th>\n",
       "      <th>Time</th>\n",
       "      <th>Global_active_power</th>\n",
       "      <th>Global_reactive_power</th>\n",
       "      <th>Voltage</th>\n",
       "      <th>Global_intensity</th>\n",
       "      <th>Sub_metering_1</th>\n",
       "      <th>Sub_metering_2</th>\n",
       "      <th>Sub_metering_3</th>\n",
       "    </tr>\n",
       "  </thead>\n",
       "  <tbody>\n",
       "    <tr>\n",
       "      <th>49850</th>\n",
       "      <td>20/1/2007</td>\n",
       "      <td>08:14:00</td>\n",
       "      <td>1.122</td>\n",
       "      <td>0.106</td>\n",
       "      <td>237.880</td>\n",
       "      <td>4.800</td>\n",
       "      <td>0.000</td>\n",
       "      <td>0.000</td>\n",
       "      <td>0.0</td>\n",
       "    </tr>\n",
       "    <tr>\n",
       "      <th>49851</th>\n",
       "      <td>20/1/2007</td>\n",
       "      <td>08:15:00</td>\n",
       "      <td>1.122</td>\n",
       "      <td>0.108</td>\n",
       "      <td>238.400</td>\n",
       "      <td>4.600</td>\n",
       "      <td>0.000</td>\n",
       "      <td>0.000</td>\n",
       "      <td>0.0</td>\n",
       "    </tr>\n",
       "    <tr>\n",
       "      <th>49852</th>\n",
       "      <td>20/1/2007</td>\n",
       "      <td>08:16:00</td>\n",
       "      <td>1.118</td>\n",
       "      <td>0.108</td>\n",
       "      <td>238.230</td>\n",
       "      <td>4.600</td>\n",
       "      <td>0.000</td>\n",
       "      <td>0.000</td>\n",
       "      <td>0.0</td>\n",
       "    </tr>\n",
       "    <tr>\n",
       "      <th>49853</th>\n",
       "      <td>20/1/2007</td>\n",
       "      <td>08:17:00</td>\n",
       "      <td>1.606</td>\n",
       "      <td>0.102</td>\n",
       "      <td>237.830</td>\n",
       "      <td>7.600</td>\n",
       "      <td>0.000</td>\n",
       "      <td>0.000</td>\n",
       "      <td>0.0</td>\n",
       "    </tr>\n",
       "    <tr>\n",
       "      <th>49854</th>\n",
       "      <td>20/1/2007</td>\n",
       "      <td>08:18:00</td>\n",
       "      <td>3.124</td>\n",
       "      <td>0.084</td>\n",
       "      <td>236.420</td>\n",
       "      <td>13.200</td>\n",
       "      <td>0.000</td>\n",
       "      <td>0.000</td>\n",
       "      <td>0.0</td>\n",
       "    </tr>\n",
       "    <tr>\n",
       "      <th>49855</th>\n",
       "      <td>8</td>\n",
       "      <td>08:19:00</td>\n",
       "      <td>2.984</td>\n",
       "      <td>0.086</td>\n",
       "      <td>236.340</td>\n",
       "      <td>12.600</td>\n",
       "      <td>0.000</td>\n",
       "      <td>0.000</td>\n",
       "      <td>0.0</td>\n",
       "    </tr>\n",
       "    <tr>\n",
       "      <th>49856</th>\n",
       "      <td>20/1/2007</td>\n",
       "      <td>08:20:00</td>\n",
       "      <td>1.622</td>\n",
       "      <td>0.102</td>\n",
       "      <td>238.160</td>\n",
       "      <td>7.800</td>\n",
       "      <td>0.000</td>\n",
       "      <td>0.000</td>\n",
       "      <td>0.0</td>\n",
       "    </tr>\n",
       "    <tr>\n",
       "      <th>49857</th>\n",
       "      <td>20/1/2007</td>\n",
       "      <td>08:21:00</td>\n",
       "      <td>0.840</td>\n",
       "      <td>0.114</td>\n",
       "      <td>239.480</td>\n",
       "      <td>3.600</td>\n",
       "      <td>0.000</td>\n",
       "      <td>0.000</td>\n",
       "      <td>0.0</td>\n",
       "    </tr>\n",
       "    <tr>\n",
       "      <th>49858</th>\n",
       "      <td>20/1/2007</td>\n",
       "      <td>08:22:00</td>\n",
       "      <td>0.828</td>\n",
       "      <td>0.112</td>\n",
       "      <td>239.070</td>\n",
       "      <td>3.400</td>\n",
       "      <td>0.000</td>\n",
       "      <td>0.000</td>\n",
       "      <td>0.0</td>\n",
       "    </tr>\n",
       "    <tr>\n",
       "      <th>49859</th>\n",
       "      <td>20/1/2007</td>\n",
       "      <td>08:23:00</td>\n",
       "      <td>0.834</td>\n",
       "      <td>0.118</td>\n",
       "      <td>240.460</td>\n",
       "      <td>3.400</td>\n",
       "      <td>0.000</td>\n",
       "      <td>0.000</td>\n",
       "      <td>0.0</td>\n",
       "    </tr>\n",
       "  </tbody>\n",
       "</table>\n",
       "</div>"
      ],
      "text/plain": [
       "            Date      Time Global_active_power Global_reactive_power  Voltage  \\\n",
       "49850  20/1/2007  08:14:00               1.122                 0.106  237.880   \n",
       "49851  20/1/2007  08:15:00               1.122                 0.108  238.400   \n",
       "49852  20/1/2007  08:16:00               1.118                 0.108  238.230   \n",
       "49853  20/1/2007  08:17:00               1.606                 0.102  237.830   \n",
       "49854  20/1/2007  08:18:00               3.124                 0.084  236.420   \n",
       "49855          8  08:19:00               2.984                 0.086  236.340   \n",
       "49856  20/1/2007  08:20:00               1.622                 0.102  238.160   \n",
       "49857  20/1/2007  08:21:00               0.840                 0.114  239.480   \n",
       "49858  20/1/2007  08:22:00               0.828                 0.112  239.070   \n",
       "49859  20/1/2007  08:23:00               0.834                 0.118  240.460   \n",
       "\n",
       "      Global_intensity Sub_metering_1 Sub_metering_2  Sub_metering_3  \n",
       "49850            4.800          0.000          0.000             0.0  \n",
       "49851            4.600          0.000          0.000             0.0  \n",
       "49852            4.600          0.000          0.000             0.0  \n",
       "49853            7.600          0.000          0.000             0.0  \n",
       "49854           13.200          0.000          0.000             0.0  \n",
       "49855           12.600          0.000          0.000             0.0  \n",
       "49856            7.800          0.000          0.000             0.0  \n",
       "49857            3.600          0.000          0.000             0.0  \n",
       "49858            3.400          0.000          0.000             0.0  \n",
       "49859            3.400          0.000          0.000             0.0  "
      ]
     },
     "execution_count": 11,
     "metadata": {},
     "output_type": "execute_result"
    }
   ],
   "source": [
    "df.iloc[49850:49860,:]"
   ]
  },
  {
   "cell_type": "code",
   "execution_count": 12,
   "id": "9401dd44",
   "metadata": {},
   "outputs": [],
   "source": [
    "df.replace({'8': '20/1/2007'}, inplace=True)"
   ]
  },
  {
   "cell_type": "code",
   "execution_count": 13,
   "id": "331521cb",
   "metadata": {},
   "outputs": [
    {
     "data": {
      "text/html": [
       "<div>\n",
       "<style scoped>\n",
       "    .dataframe tbody tr th:only-of-type {\n",
       "        vertical-align: middle;\n",
       "    }\n",
       "\n",
       "    .dataframe tbody tr th {\n",
       "        vertical-align: top;\n",
       "    }\n",
       "\n",
       "    .dataframe thead th {\n",
       "        text-align: right;\n",
       "    }\n",
       "</style>\n",
       "<table border=\"1\" class=\"dataframe\">\n",
       "  <thead>\n",
       "    <tr style=\"text-align: right;\">\n",
       "      <th></th>\n",
       "      <th>Date</th>\n",
       "      <th>Time</th>\n",
       "      <th>Global_active_power</th>\n",
       "      <th>Global_reactive_power</th>\n",
       "      <th>Voltage</th>\n",
       "      <th>Global_intensity</th>\n",
       "      <th>Sub_metering_1</th>\n",
       "      <th>Sub_metering_2</th>\n",
       "      <th>Sub_metering_3</th>\n",
       "    </tr>\n",
       "  </thead>\n",
       "  <tbody>\n",
       "    <tr>\n",
       "      <th>49850</th>\n",
       "      <td>20/1/2007</td>\n",
       "      <td>08:14:00</td>\n",
       "      <td>1.122</td>\n",
       "      <td>0.106</td>\n",
       "      <td>237.880</td>\n",
       "      <td>4.800</td>\n",
       "      <td>0.000</td>\n",
       "      <td>0.000</td>\n",
       "      <td>0.0</td>\n",
       "    </tr>\n",
       "    <tr>\n",
       "      <th>49851</th>\n",
       "      <td>20/1/2007</td>\n",
       "      <td>08:15:00</td>\n",
       "      <td>1.122</td>\n",
       "      <td>0.108</td>\n",
       "      <td>238.400</td>\n",
       "      <td>4.600</td>\n",
       "      <td>0.000</td>\n",
       "      <td>0.000</td>\n",
       "      <td>0.0</td>\n",
       "    </tr>\n",
       "    <tr>\n",
       "      <th>49852</th>\n",
       "      <td>20/1/2007</td>\n",
       "      <td>08:16:00</td>\n",
       "      <td>1.118</td>\n",
       "      <td>0.108</td>\n",
       "      <td>238.230</td>\n",
       "      <td>4.600</td>\n",
       "      <td>0.000</td>\n",
       "      <td>0.000</td>\n",
       "      <td>0.0</td>\n",
       "    </tr>\n",
       "    <tr>\n",
       "      <th>49853</th>\n",
       "      <td>20/1/2007</td>\n",
       "      <td>08:17:00</td>\n",
       "      <td>1.606</td>\n",
       "      <td>0.102</td>\n",
       "      <td>237.830</td>\n",
       "      <td>7.600</td>\n",
       "      <td>0.000</td>\n",
       "      <td>0.000</td>\n",
       "      <td>0.0</td>\n",
       "    </tr>\n",
       "    <tr>\n",
       "      <th>49854</th>\n",
       "      <td>20/1/2007</td>\n",
       "      <td>08:18:00</td>\n",
       "      <td>3.124</td>\n",
       "      <td>0.084</td>\n",
       "      <td>236.420</td>\n",
       "      <td>13.200</td>\n",
       "      <td>0.000</td>\n",
       "      <td>0.000</td>\n",
       "      <td>0.0</td>\n",
       "    </tr>\n",
       "    <tr>\n",
       "      <th>49855</th>\n",
       "      <td>20/1/2007</td>\n",
       "      <td>08:19:00</td>\n",
       "      <td>2.984</td>\n",
       "      <td>0.086</td>\n",
       "      <td>236.340</td>\n",
       "      <td>12.600</td>\n",
       "      <td>0.000</td>\n",
       "      <td>0.000</td>\n",
       "      <td>0.0</td>\n",
       "    </tr>\n",
       "    <tr>\n",
       "      <th>49856</th>\n",
       "      <td>20/1/2007</td>\n",
       "      <td>08:20:00</td>\n",
       "      <td>1.622</td>\n",
       "      <td>0.102</td>\n",
       "      <td>238.160</td>\n",
       "      <td>7.800</td>\n",
       "      <td>0.000</td>\n",
       "      <td>0.000</td>\n",
       "      <td>0.0</td>\n",
       "    </tr>\n",
       "    <tr>\n",
       "      <th>49857</th>\n",
       "      <td>20/1/2007</td>\n",
       "      <td>08:21:00</td>\n",
       "      <td>0.840</td>\n",
       "      <td>0.114</td>\n",
       "      <td>239.480</td>\n",
       "      <td>3.600</td>\n",
       "      <td>0.000</td>\n",
       "      <td>0.000</td>\n",
       "      <td>0.0</td>\n",
       "    </tr>\n",
       "    <tr>\n",
       "      <th>49858</th>\n",
       "      <td>20/1/2007</td>\n",
       "      <td>08:22:00</td>\n",
       "      <td>0.828</td>\n",
       "      <td>0.112</td>\n",
       "      <td>239.070</td>\n",
       "      <td>3.400</td>\n",
       "      <td>0.000</td>\n",
       "      <td>0.000</td>\n",
       "      <td>0.0</td>\n",
       "    </tr>\n",
       "    <tr>\n",
       "      <th>49859</th>\n",
       "      <td>20/1/2007</td>\n",
       "      <td>08:23:00</td>\n",
       "      <td>0.834</td>\n",
       "      <td>0.118</td>\n",
       "      <td>240.460</td>\n",
       "      <td>3.400</td>\n",
       "      <td>0.000</td>\n",
       "      <td>0.000</td>\n",
       "      <td>0.0</td>\n",
       "    </tr>\n",
       "  </tbody>\n",
       "</table>\n",
       "</div>"
      ],
      "text/plain": [
       "            Date      Time Global_active_power Global_reactive_power  Voltage  \\\n",
       "49850  20/1/2007  08:14:00               1.122                 0.106  237.880   \n",
       "49851  20/1/2007  08:15:00               1.122                 0.108  238.400   \n",
       "49852  20/1/2007  08:16:00               1.118                 0.108  238.230   \n",
       "49853  20/1/2007  08:17:00               1.606                 0.102  237.830   \n",
       "49854  20/1/2007  08:18:00               3.124                 0.084  236.420   \n",
       "49855  20/1/2007  08:19:00               2.984                 0.086  236.340   \n",
       "49856  20/1/2007  08:20:00               1.622                 0.102  238.160   \n",
       "49857  20/1/2007  08:21:00               0.840                 0.114  239.480   \n",
       "49858  20/1/2007  08:22:00               0.828                 0.112  239.070   \n",
       "49859  20/1/2007  08:23:00               0.834                 0.118  240.460   \n",
       "\n",
       "      Global_intensity Sub_metering_1 Sub_metering_2  Sub_metering_3  \n",
       "49850            4.800          0.000          0.000             0.0  \n",
       "49851            4.600          0.000          0.000             0.0  \n",
       "49852            4.600          0.000          0.000             0.0  \n",
       "49853            7.600          0.000          0.000             0.0  \n",
       "49854           13.200          0.000          0.000             0.0  \n",
       "49855           12.600          0.000          0.000             0.0  \n",
       "49856            7.800          0.000          0.000             0.0  \n",
       "49857            3.600          0.000          0.000             0.0  \n",
       "49858            3.400          0.000          0.000             0.0  \n",
       "49859            3.400          0.000          0.000             0.0  "
      ]
     },
     "execution_count": 13,
     "metadata": {},
     "output_type": "execute_result"
    }
   ],
   "source": [
    "df.iloc[49850:49860,:]"
   ]
  },
  {
   "cell_type": "code",
   "execution_count": 14,
   "id": "bd51d489",
   "metadata": {},
   "outputs": [
    {
     "data": {
      "text/html": [
       "<div>\n",
       "<style scoped>\n",
       "    .dataframe tbody tr th:only-of-type {\n",
       "        vertical-align: middle;\n",
       "    }\n",
       "\n",
       "    .dataframe tbody tr th {\n",
       "        vertical-align: top;\n",
       "    }\n",
       "\n",
       "    .dataframe thead th {\n",
       "        text-align: right;\n",
       "    }\n",
       "</style>\n",
       "<table border=\"1\" class=\"dataframe\">\n",
       "  <thead>\n",
       "    <tr style=\"text-align: right;\">\n",
       "      <th></th>\n",
       "      <th>Date</th>\n",
       "      <th>Time</th>\n",
       "      <th>Global_active_power</th>\n",
       "      <th>Global_reactive_power</th>\n",
       "      <th>Voltage</th>\n",
       "      <th>Global_intensity</th>\n",
       "      <th>Sub_metering_1</th>\n",
       "      <th>Sub_metering_2</th>\n",
       "      <th>Sub_metering_3</th>\n",
       "    </tr>\n",
       "  </thead>\n",
       "  <tbody>\n",
       "    <tr>\n",
       "      <th>49860</th>\n",
       "      <td>20/1/2007</td>\n",
       "      <td>08:24:00</td>\n",
       "      <td>1.212</td>\n",
       "      <td>0.110</td>\n",
       "      <td>239.990</td>\n",
       "      <td>6.000</td>\n",
       "      <td>0.000</td>\n",
       "      <td>0.000</td>\n",
       "      <td>0.0</td>\n",
       "    </tr>\n",
       "    <tr>\n",
       "      <th>49861</th>\n",
       "      <td>20/1/2007</td>\n",
       "      <td>08:25:00</td>\n",
       "      <td>2.844</td>\n",
       "      <td>0.088</td>\n",
       "      <td>237.700</td>\n",
       "      <td>12.000</td>\n",
       "      <td>0.000</td>\n",
       "      <td>0.000</td>\n",
       "      <td>0.0</td>\n",
       "    </tr>\n",
       "    <tr>\n",
       "      <th>49862</th>\n",
       "      <td>20/1/2007</td>\n",
       "      <td>08:26:00</td>\n",
       "      <td>2.832</td>\n",
       "      <td>0.084</td>\n",
       "      <td>237.050</td>\n",
       "      <td>11.800</td>\n",
       "      <td>0.000</td>\n",
       "      <td>0.000</td>\n",
       "      <td>0.0</td>\n",
       "    </tr>\n",
       "    <tr>\n",
       "      <th>49863</th>\n",
       "      <td>20/1/2007</td>\n",
       "      <td>08:27:00</td>\n",
       "      <td>1.378</td>\n",
       "      <td>0.102</td>\n",
       "      <td>238.520</td>\n",
       "      <td>6.800</td>\n",
       "      <td>0.000</td>\n",
       "      <td>0.000</td>\n",
       "      <td>0.0</td>\n",
       "    </tr>\n",
       "    <tr>\n",
       "      <th>49864</th>\n",
       "      <td>20/1/2007</td>\n",
       "      <td>08:28:00</td>\n",
       "      <td>0.960</td>\n",
       "      <td>0.114</td>\n",
       "      <td>240.700</td>\n",
       "      <td>4.000</td>\n",
       "      <td>0.000</td>\n",
       "      <td>0.000</td>\n",
       "      <td>0.0</td>\n",
       "    </tr>\n",
       "    <tr>\n",
       "      <th>49865</th>\n",
       "      <td>20/1/2007</td>\n",
       "      <td>08:29:00</td>\n",
       "      <td>1.160</td>\n",
       "      <td>0.116</td>\n",
       "      <td>241.690</td>\n",
       "      <td>5.000</td>\n",
       "      <td>0.000</td>\n",
       "      <td>0.000</td>\n",
       "      <td>0.0</td>\n",
       "    </tr>\n",
       "    <tr>\n",
       "      <th>49866</th>\n",
       "      <td>20/1/2007</td>\n",
       "      <td>08:30:00</td>\n",
       "      <td>1.942</td>\n",
       "      <td>0.108</td>\n",
       "      <td>240.170</td>\n",
       "      <td>8.000</td>\n",
       "      <td>0.000</td>\n",
       "      <td>0.000</td>\n",
       "      <td>0.0</td>\n",
       "    </tr>\n",
       "    <tr>\n",
       "      <th>49867</th>\n",
       "      <td>20/1/2007</td>\n",
       "      <td>08:31:00</td>\n",
       "      <td>2.080</td>\n",
       "      <td>0.106</td>\n",
       "      <td>239.990</td>\n",
       "      <td>8.800</td>\n",
       "      <td>0.000</td>\n",
       "      <td>0.000</td>\n",
       "      <td>0.0</td>\n",
       "    </tr>\n",
       "    <tr>\n",
       "      <th>49868</th>\n",
       "      <td>20/1/2007</td>\n",
       "      <td>08:32:00</td>\n",
       "      <td>3.980</td>\n",
       "      <td>0.216</td>\n",
       "      <td>238.420</td>\n",
       "      <td>16.600</td>\n",
       "      <td>0.000</td>\n",
       "      <td>0.000</td>\n",
       "      <td>0.0</td>\n",
       "    </tr>\n",
       "    <tr>\n",
       "      <th>49869</th>\n",
       "      <td>20/1/2007</td>\n",
       "      <td>08:33:00</td>\n",
       "      <td>4.048</td>\n",
       "      <td>0.316</td>\n",
       "      <td>238.640</td>\n",
       "      <td>17.000</td>\n",
       "      <td>0.000</td>\n",
       "      <td>0.000</td>\n",
       "      <td>0.0</td>\n",
       "    </tr>\n",
       "  </tbody>\n",
       "</table>\n",
       "</div>"
      ],
      "text/plain": [
       "            Date      Time Global_active_power Global_reactive_power  Voltage  \\\n",
       "49860  20/1/2007  08:24:00               1.212                 0.110  239.990   \n",
       "49861  20/1/2007  08:25:00               2.844                 0.088  237.700   \n",
       "49862  20/1/2007  08:26:00               2.832                 0.084  237.050   \n",
       "49863  20/1/2007  08:27:00               1.378                 0.102  238.520   \n",
       "49864  20/1/2007  08:28:00               0.960                 0.114  240.700   \n",
       "49865  20/1/2007  08:29:00               1.160                 0.116  241.690   \n",
       "49866  20/1/2007  08:30:00               1.942                 0.108  240.170   \n",
       "49867  20/1/2007  08:31:00               2.080                 0.106  239.990   \n",
       "49868  20/1/2007  08:32:00               3.980                 0.216  238.420   \n",
       "49869  20/1/2007  08:33:00               4.048                 0.316  238.640   \n",
       "\n",
       "      Global_intensity Sub_metering_1 Sub_metering_2  Sub_metering_3  \n",
       "49860            6.000          0.000          0.000             0.0  \n",
       "49861           12.000          0.000          0.000             0.0  \n",
       "49862           11.800          0.000          0.000             0.0  \n",
       "49863            6.800          0.000          0.000             0.0  \n",
       "49864            4.000          0.000          0.000             0.0  \n",
       "49865            5.000          0.000          0.000             0.0  \n",
       "49866            8.000          0.000          0.000             0.0  \n",
       "49867            8.800          0.000          0.000             0.0  \n",
       "49868           16.600          0.000          0.000             0.0  \n",
       "49869           17.000          0.000          0.000             0.0  "
      ]
     },
     "execution_count": 14,
     "metadata": {},
     "output_type": "execute_result"
    }
   ],
   "source": [
    "df.iloc[49860:49870,:]"
   ]
  },
  {
   "cell_type": "code",
   "execution_count": 15,
   "id": "7e75efe1",
   "metadata": {},
   "outputs": [
    {
     "data": {
      "text/plain": [
       "(185711, 10)"
      ]
     },
     "execution_count": 15,
     "metadata": {},
     "output_type": "execute_result"
    }
   ],
   "source": [
    "# Check Duplicates\n",
    "df[\"is_duplicate\"]= df.duplicated()\n",
    "df.shape"
   ]
  },
  {
   "cell_type": "code",
   "execution_count": 16,
   "id": "8e4622f6",
   "metadata": {},
   "outputs": [
    {
     "data": {
      "text/plain": [
       "(185711, 9)"
      ]
     },
     "execution_count": 16,
     "metadata": {},
     "output_type": "execute_result"
    }
   ],
   "source": [
    "# Remove Duplicates \n",
    "df = df.drop_duplicates(subset=None,keep=\"first\") # Dropping duplicate rows\n",
    "df = df.drop(['is_duplicate'],axis=1)  # Dropping created 'is_duplicate' column \n",
    "df.shape"
   ]
  },
  {
   "cell_type": "code",
   "execution_count": 17,
   "id": "f306ce56",
   "metadata": {},
   "outputs": [
    {
     "name": "stdout",
     "output_type": "stream",
     "text": [
      "<class 'pandas.core.frame.DataFrame'>\n",
      "Int64Index: 185711 entries, 0 to 185710\n",
      "Data columns (total 9 columns):\n",
      " #   Column                 Non-Null Count   Dtype  \n",
      "---  ------                 --------------   -----  \n",
      " 0   Date                   185711 non-null  object \n",
      " 1   Time                   185711 non-null  object \n",
      " 2   Global_active_power    185701 non-null  object \n",
      " 3   Global_reactive_power  185702 non-null  object \n",
      " 4   Voltage                185701 non-null  object \n",
      " 5   Global_intensity       185700 non-null  object \n",
      " 6   Sub_metering_1         185702 non-null  object \n",
      " 7   Sub_metering_2         185702 non-null  object \n",
      " 8   Sub_metering_3         185702 non-null  float64\n",
      "dtypes: float64(1), object(8)\n",
      "memory usage: 14.2+ MB\n"
     ]
    }
   ],
   "source": [
    "df.info()"
   ]
  },
  {
   "cell_type": "code",
   "execution_count": 18,
   "id": "9fe54aa8",
   "metadata": {},
   "outputs": [],
   "source": [
    "# make dataset numeric\n",
    "df['Global_active_power'] = [float(x) for x in df['Global_active_power']]\n",
    "df['Global_reactive_power'] = [float(x) for x in df['Global_reactive_power']]\n",
    "df['Voltage'] = [float(x) for x in df['Voltage']]\n",
    "df['Global_intensity'] = [float(x) for x in df['Global_intensity']]\n",
    "df['Sub_metering_1'] = [float(x) for x in df['Sub_metering_1']]\n",
    "df['Sub_metering_2'] = [float(x) for x in df['Sub_metering_2']]\n",
    "df['Sub_metering_3'] = [float(x) for x in df['Sub_metering_3']]"
   ]
  },
  {
   "cell_type": "code",
   "execution_count": 19,
   "id": "ff72252b",
   "metadata": {},
   "outputs": [],
   "source": [
    "# Replace the missing values with the mean (avarage)\n",
    "df['Global_active_power'].fillna(df['Global_active_power'].mean(),inplace=True)\n",
    "df['Global_reactive_power'].fillna(df['Global_reactive_power'].mean(),inplace=True)\n",
    "df['Voltage'].fillna(df['Voltage'].mean(),inplace=True)\n",
    "df['Global_intensity'].fillna(df['Global_intensity'].mean(),inplace=True)\n",
    "df['Sub_metering_1'].fillna(df['Sub_metering_1'].mean(),inplace=True)\n",
    "df['Sub_metering_2'].fillna(df['Sub_metering_2'].mean(),inplace=True)\n",
    "df['Sub_metering_3'].fillna(df['Sub_metering_3'].mean(),inplace=True)"
   ]
  },
  {
   "cell_type": "code",
   "execution_count": 20,
   "id": "3bc825cf",
   "metadata": {},
   "outputs": [
    {
     "data": {
      "text/plain": [
       "count        185711\n",
       "unique          130\n",
       "top       19/2/2007\n",
       "freq           1440\n",
       "Name: Date, dtype: object"
      ]
     },
     "execution_count": 20,
     "metadata": {},
     "output_type": "execute_result"
    }
   ],
   "source": [
    "df['Date'].describe() # the unique values shows that there is a dataset of 130 day [from 2006-12-06 to 2007-04-24] \n",
    "                    #   and the top freq is 1440 [24 hours * 60 min] that means the data of each min a day"
   ]
  },
  {
   "cell_type": "code",
   "execution_count": 21,
   "id": "fdebddc1",
   "metadata": {},
   "outputs": [
    {
     "data": {
      "text/plain": [
       "Date                     0\n",
       "Time                     0\n",
       "Global_active_power      0\n",
       "Global_reactive_power    0\n",
       "Voltage                  0\n",
       "Global_intensity         0\n",
       "Sub_metering_1           0\n",
       "Sub_metering_2           0\n",
       "Sub_metering_3           0\n",
       "dtype: int64"
      ]
     },
     "execution_count": 21,
     "metadata": {},
     "output_type": "execute_result"
    }
   ],
   "source": [
    "df.isna().sum()"
   ]
  },
  {
   "cell_type": "code",
   "execution_count": 22,
   "id": "a045c910",
   "metadata": {},
   "outputs": [
    {
     "data": {
      "image/png": "[encoded data removed]",
      "text/plain": [
       "<Figure size 432x288 with 1 Axes>"
      ]
     },
     "metadata": {
      "needs_background": "light"
     },
     "output_type": "display_data"
    }
   ],
   "source": [
    "# Plot hourly Power Consumption for one day\n",
    "df_plot = df[df.Date == '18/2/2007']\n",
    "df_plot['hour'] = pd.to_datetime(df['Time'], format='%H:%M:%S').dt.hour\n",
    "\n",
    "hourly_data = df_plot[['hour', 'Global_active_power']]\n",
    "hourly_data = df_plot.groupby(['hour'], as_index = False)['Global_active_power'].agg('sum')\n",
    "\n",
    "plt.plot(hourly_data['hour'], hourly_data['Global_active_power'], 'r', linewidth=2.0)\n",
    "plt.xlabel('Hours')\n",
    "plt.ylabel('Power Consumption')\n",
    "plt.suptitle('One Day Power Consumption')\n",
    "plt.grid(True)\n",
    "plt.show()"
   ]
  },
  {
   "cell_type": "code",
   "execution_count": 23,
   "id": "a06c70fb-c179-4df4-b6a5-32557601c47b",
   "metadata": {},
   "outputs": [
    {
     "data": {
      "text/html": [
       "<div>\n",
       "<style scoped>\n",
       "    .dataframe tbody tr th:only-of-type {\n",
       "        vertical-align: middle;\n",
       "    }\n",
       "\n",
       "    .dataframe tbody tr th {\n",
       "        vertical-align: top;\n",
       "    }\n",
       "\n",
       "    .dataframe thead th {\n",
       "        text-align: right;\n",
       "    }\n",
       "</style>\n",
       "<table border=\"1\" class=\"dataframe\">\n",
       "  <thead>\n",
       "    <tr style=\"text-align: right;\">\n",
       "      <th></th>\n",
       "      <th>Date</th>\n",
       "      <th>Time</th>\n",
       "      <th>Global_active_power</th>\n",
       "      <th>Global_reactive_power</th>\n",
       "      <th>Voltage</th>\n",
       "      <th>Global_intensity</th>\n",
       "      <th>Sub_metering_1</th>\n",
       "      <th>Sub_metering_2</th>\n",
       "      <th>Sub_metering_3</th>\n",
       "      <th>DateTime</th>\n",
       "    </tr>\n",
       "  </thead>\n",
       "  <tbody>\n",
       "    <tr>\n",
       "      <th>0</th>\n",
       "      <td>16/12/2006</td>\n",
       "      <td>17:24:00</td>\n",
       "      <td>4.216</td>\n",
       "      <td>0.418</td>\n",
       "      <td>234.84</td>\n",
       "      <td>18.4</td>\n",
       "      <td>0.0</td>\n",
       "      <td>1.0</td>\n",
       "      <td>17.0</td>\n",
       "      <td>2006-12-16 17:24:00</td>\n",
       "    </tr>\n",
       "    <tr>\n",
       "      <th>1</th>\n",
       "      <td>16/12/2006</td>\n",
       "      <td>17:25:00</td>\n",
       "      <td>5.360</td>\n",
       "      <td>0.436</td>\n",
       "      <td>233.63</td>\n",
       "      <td>23.0</td>\n",
       "      <td>0.0</td>\n",
       "      <td>1.0</td>\n",
       "      <td>16.0</td>\n",
       "      <td>2006-12-16 17:25:00</td>\n",
       "    </tr>\n",
       "    <tr>\n",
       "      <th>2</th>\n",
       "      <td>16/12/2006</td>\n",
       "      <td>17:26:00</td>\n",
       "      <td>5.374</td>\n",
       "      <td>0.498</td>\n",
       "      <td>233.29</td>\n",
       "      <td>23.0</td>\n",
       "      <td>0.0</td>\n",
       "      <td>2.0</td>\n",
       "      <td>17.0</td>\n",
       "      <td>2006-12-16 17:26:00</td>\n",
       "    </tr>\n",
       "    <tr>\n",
       "      <th>3</th>\n",
       "      <td>16/12/2006</td>\n",
       "      <td>17:27:00</td>\n",
       "      <td>5.388</td>\n",
       "      <td>0.502</td>\n",
       "      <td>233.74</td>\n",
       "      <td>23.0</td>\n",
       "      <td>0.0</td>\n",
       "      <td>1.0</td>\n",
       "      <td>17.0</td>\n",
       "      <td>2006-12-16 17:27:00</td>\n",
       "    </tr>\n",
       "    <tr>\n",
       "      <th>4</th>\n",
       "      <td>16/12/2006</td>\n",
       "      <td>17:28:00</td>\n",
       "      <td>3.666</td>\n",
       "      <td>0.528</td>\n",
       "      <td>235.68</td>\n",
       "      <td>15.8</td>\n",
       "      <td>0.0</td>\n",
       "      <td>1.0</td>\n",
       "      <td>17.0</td>\n",
       "      <td>2006-12-16 17:28:00</td>\n",
       "    </tr>\n",
       "  </tbody>\n",
       "</table>\n",
       "</div>"
      ],
      "text/plain": [
       "         Date      Time  Global_active_power  Global_reactive_power  Voltage  \\\n",
       "0  16/12/2006  17:24:00                4.216                  0.418   234.84   \n",
       "1  16/12/2006  17:25:00                5.360                  0.436   233.63   \n",
       "2  16/12/2006  17:26:00                5.374                  0.498   233.29   \n",
       "3  16/12/2006  17:27:00                5.388                  0.502   233.74   \n",
       "4  16/12/2006  17:28:00                3.666                  0.528   235.68   \n",
       "\n",
       "   Global_intensity  Sub_metering_1  Sub_metering_2  Sub_metering_3  \\\n",
       "0              18.4             0.0             1.0            17.0   \n",
       "1              23.0             0.0             1.0            16.0   \n",
       "2              23.0             0.0             2.0            17.0   \n",
       "3              23.0             0.0             1.0            17.0   \n",
       "4              15.8             0.0             1.0            17.0   \n",
       "\n",
       "             DateTime  \n",
       "0 2006-12-16 17:24:00  \n",
       "1 2006-12-16 17:25:00  \n",
       "2 2006-12-16 17:26:00  \n",
       "3 2006-12-16 17:27:00  \n",
       "4 2006-12-16 17:28:00  "
      ]
     },
     "execution_count": 23,
     "metadata": {},
     "output_type": "execute_result"
    }
   ],
   "source": [
    "# merge Date and Time into a datetime\n",
    "util_series = df['Date'] + ' ' + df['Time']\n",
    "df['DateTime'] = util_series.apply(lambda x: datetime.strptime(x,'%d/%m/%Y %H:%M:%S'))\n",
    "df.head(5)"
   ]
  },
  {
   "cell_type": "code",
   "execution_count": 24,
   "id": "316b3112",
   "metadata": {},
   "outputs": [],
   "source": [
    "dt = df.copy()"
   ]
  },
  {
   "cell_type": "code",
   "execution_count": 25,
   "id": "8b0e7209-0b42-4e53-8173-26f83cc258d4",
   "metadata": {},
   "outputs": [
    {
     "data": {
      "text/html": [
       "<div>\n",
       "<style scoped>\n",
       "    .dataframe tbody tr th:only-of-type {\n",
       "        vertical-align: middle;\n",
       "    }\n",
       "\n",
       "    .dataframe tbody tr th {\n",
       "        vertical-align: top;\n",
       "    }\n",
       "\n",
       "    .dataframe thead th {\n",
       "        text-align: right;\n",
       "    }\n",
       "</style>\n",
       "<table border=\"1\" class=\"dataframe\">\n",
       "  <thead>\n",
       "    <tr style=\"text-align: right;\">\n",
       "      <th></th>\n",
       "      <th>Global_active_power</th>\n",
       "      <th>Global_reactive_power</th>\n",
       "      <th>Voltage</th>\n",
       "      <th>Global_intensity</th>\n",
       "      <th>Sub_metering_1</th>\n",
       "      <th>Sub_metering_2</th>\n",
       "      <th>Sub_metering_3</th>\n",
       "      <th>DateTime</th>\n",
       "    </tr>\n",
       "  </thead>\n",
       "  <tbody>\n",
       "    <tr>\n",
       "      <th>0</th>\n",
       "      <td>4.216</td>\n",
       "      <td>0.418</td>\n",
       "      <td>234.84</td>\n",
       "      <td>18.4</td>\n",
       "      <td>0.0</td>\n",
       "      <td>1.0</td>\n",
       "      <td>17.0</td>\n",
       "      <td>2006-12-16 17:24:00</td>\n",
       "    </tr>\n",
       "    <tr>\n",
       "      <th>1</th>\n",
       "      <td>5.360</td>\n",
       "      <td>0.436</td>\n",
       "      <td>233.63</td>\n",
       "      <td>23.0</td>\n",
       "      <td>0.0</td>\n",
       "      <td>1.0</td>\n",
       "      <td>16.0</td>\n",
       "      <td>2006-12-16 17:25:00</td>\n",
       "    </tr>\n",
       "    <tr>\n",
       "      <th>2</th>\n",
       "      <td>5.374</td>\n",
       "      <td>0.498</td>\n",
       "      <td>233.29</td>\n",
       "      <td>23.0</td>\n",
       "      <td>0.0</td>\n",
       "      <td>2.0</td>\n",
       "      <td>17.0</td>\n",
       "      <td>2006-12-16 17:26:00</td>\n",
       "    </tr>\n",
       "    <tr>\n",
       "      <th>3</th>\n",
       "      <td>5.388</td>\n",
       "      <td>0.502</td>\n",
       "      <td>233.74</td>\n",
       "      <td>23.0</td>\n",
       "      <td>0.0</td>\n",
       "      <td>1.0</td>\n",
       "      <td>17.0</td>\n",
       "      <td>2006-12-16 17:27:00</td>\n",
       "    </tr>\n",
       "    <tr>\n",
       "      <th>4</th>\n",
       "      <td>3.666</td>\n",
       "      <td>0.528</td>\n",
       "      <td>235.68</td>\n",
       "      <td>15.8</td>\n",
       "      <td>0.0</td>\n",
       "      <td>1.0</td>\n",
       "      <td>17.0</td>\n",
       "      <td>2006-12-16 17:28:00</td>\n",
       "    </tr>\n",
       "    <tr>\n",
       "      <th>...</th>\n",
       "      <td>...</td>\n",
       "      <td>...</td>\n",
       "      <td>...</td>\n",
       "      <td>...</td>\n",
       "      <td>...</td>\n",
       "      <td>...</td>\n",
       "      <td>...</td>\n",
       "      <td>...</td>\n",
       "    </tr>\n",
       "    <tr>\n",
       "      <th>185706</th>\n",
       "      <td>0.320</td>\n",
       "      <td>0.082</td>\n",
       "      <td>235.19</td>\n",
       "      <td>1.6</td>\n",
       "      <td>0.0</td>\n",
       "      <td>2.0</td>\n",
       "      <td>0.0</td>\n",
       "      <td>2007-04-24 16:30:00</td>\n",
       "    </tr>\n",
       "    <tr>\n",
       "      <th>185707</th>\n",
       "      <td>0.328</td>\n",
       "      <td>0.078</td>\n",
       "      <td>234.53</td>\n",
       "      <td>1.6</td>\n",
       "      <td>0.0</td>\n",
       "      <td>1.0</td>\n",
       "      <td>0.0</td>\n",
       "      <td>2007-04-24 16:31:00</td>\n",
       "    </tr>\n",
       "    <tr>\n",
       "      <th>185708</th>\n",
       "      <td>0.344</td>\n",
       "      <td>0.088</td>\n",
       "      <td>234.90</td>\n",
       "      <td>1.8</td>\n",
       "      <td>0.0</td>\n",
       "      <td>1.0</td>\n",
       "      <td>0.0</td>\n",
       "      <td>2007-04-24 16:32:00</td>\n",
       "    </tr>\n",
       "    <tr>\n",
       "      <th>185709</th>\n",
       "      <td>0.416</td>\n",
       "      <td>0.174</td>\n",
       "      <td>235.29</td>\n",
       "      <td>2.0</td>\n",
       "      <td>0.0</td>\n",
       "      <td>1.0</td>\n",
       "      <td>0.0</td>\n",
       "      <td>2007-04-24 16:33:00</td>\n",
       "    </tr>\n",
       "    <tr>\n",
       "      <th>185710</th>\n",
       "      <td>0.408</td>\n",
       "      <td>0.174</td>\n",
       "      <td>234.82</td>\n",
       "      <td>2.0</td>\n",
       "      <td>0.0</td>\n",
       "      <td>1.0</td>\n",
       "      <td>0.0</td>\n",
       "      <td>2007-04-24 16:34:00</td>\n",
       "    </tr>\n",
       "  </tbody>\n",
       "</table>\n",
       "<p>185711 rows × 8 columns</p>\n",
       "</div>"
      ],
      "text/plain": [
       "        Global_active_power  Global_reactive_power  Voltage  Global_intensity  \\\n",
       "0                     4.216                  0.418   234.84              18.4   \n",
       "1                     5.360                  0.436   233.63              23.0   \n",
       "2                     5.374                  0.498   233.29              23.0   \n",
       "3                     5.388                  0.502   233.74              23.0   \n",
       "4                     3.666                  0.528   235.68              15.8   \n",
       "...                     ...                    ...      ...               ...   \n",
       "185706                0.320                  0.082   235.19               1.6   \n",
       "185707                0.328                  0.078   234.53               1.6   \n",
       "185708                0.344                  0.088   234.90               1.8   \n",
       "185709                0.416                  0.174   235.29               2.0   \n",
       "185710                0.408                  0.174   234.82               2.0   \n",
       "\n",
       "        Sub_metering_1  Sub_metering_2  Sub_metering_3            DateTime  \n",
       "0                  0.0             1.0            17.0 2006-12-16 17:24:00  \n",
       "1                  0.0             1.0            16.0 2006-12-16 17:25:00  \n",
       "2                  0.0             2.0            17.0 2006-12-16 17:26:00  \n",
       "3                  0.0             1.0            17.0 2006-12-16 17:27:00  \n",
       "4                  0.0             1.0            17.0 2006-12-16 17:28:00  \n",
       "...                ...             ...             ...                 ...  \n",
       "185706             0.0             2.0             0.0 2007-04-24 16:30:00  \n",
       "185707             0.0             1.0             0.0 2007-04-24 16:31:00  \n",
       "185708             0.0             1.0             0.0 2007-04-24 16:32:00  \n",
       "185709             0.0             1.0             0.0 2007-04-24 16:33:00  \n",
       "185710             0.0             1.0             0.0 2007-04-24 16:34:00  \n",
       "\n",
       "[185711 rows x 8 columns]"
      ]
     },
     "execution_count": 25,
     "metadata": {},
     "output_type": "execute_result"
    }
   ],
   "source": [
    "#drop old Date and Time columns\n",
    "df.drop(columns = ['Date','Time'],inplace = True)\n",
    "df"
   ]
  },
  {
   "cell_type": "code",
   "execution_count": 26,
   "id": "9c694574-2cc5-4166-ac20-1ae0a1942171",
   "metadata": {},
   "outputs": [
    {
     "data": {
      "text/html": [
       "<div>\n",
       "<style scoped>\n",
       "    .dataframe tbody tr th:only-of-type {\n",
       "        vertical-align: middle;\n",
       "    }\n",
       "\n",
       "    .dataframe tbody tr th {\n",
       "        vertical-align: top;\n",
       "    }\n",
       "\n",
       "    .dataframe thead th {\n",
       "        text-align: right;\n",
       "    }\n",
       "</style>\n",
       "<table border=\"1\" class=\"dataframe\">\n",
       "  <thead>\n",
       "    <tr style=\"text-align: right;\">\n",
       "      <th></th>\n",
       "      <th>DateTime</th>\n",
       "      <th>Global_active_power</th>\n",
       "      <th>Global_reactive_power</th>\n",
       "      <th>Voltage</th>\n",
       "      <th>Global_intensity</th>\n",
       "      <th>Sub_metering_1</th>\n",
       "      <th>Sub_metering_2</th>\n",
       "      <th>Sub_metering_3</th>\n",
       "    </tr>\n",
       "  </thead>\n",
       "  <tbody>\n",
       "    <tr>\n",
       "      <th>0</th>\n",
       "      <td>2006-12-16 17:24:00</td>\n",
       "      <td>4.216</td>\n",
       "      <td>0.418</td>\n",
       "      <td>234.84</td>\n",
       "      <td>18.4</td>\n",
       "      <td>0.0</td>\n",
       "      <td>1.0</td>\n",
       "      <td>17.0</td>\n",
       "    </tr>\n",
       "    <tr>\n",
       "      <th>1</th>\n",
       "      <td>2006-12-16 17:25:00</td>\n",
       "      <td>5.360</td>\n",
       "      <td>0.436</td>\n",
       "      <td>233.63</td>\n",
       "      <td>23.0</td>\n",
       "      <td>0.0</td>\n",
       "      <td>1.0</td>\n",
       "      <td>16.0</td>\n",
       "    </tr>\n",
       "    <tr>\n",
       "      <th>2</th>\n",
       "      <td>2006-12-16 17:26:00</td>\n",
       "      <td>5.374</td>\n",
       "      <td>0.498</td>\n",
       "      <td>233.29</td>\n",
       "      <td>23.0</td>\n",
       "      <td>0.0</td>\n",
       "      <td>2.0</td>\n",
       "      <td>17.0</td>\n",
       "    </tr>\n",
       "    <tr>\n",
       "      <th>3</th>\n",
       "      <td>2006-12-16 17:27:00</td>\n",
       "      <td>5.388</td>\n",
       "      <td>0.502</td>\n",
       "      <td>233.74</td>\n",
       "      <td>23.0</td>\n",
       "      <td>0.0</td>\n",
       "      <td>1.0</td>\n",
       "      <td>17.0</td>\n",
       "    </tr>\n",
       "    <tr>\n",
       "      <th>4</th>\n",
       "      <td>2006-12-16 17:28:00</td>\n",
       "      <td>3.666</td>\n",
       "      <td>0.528</td>\n",
       "      <td>235.68</td>\n",
       "      <td>15.8</td>\n",
       "      <td>0.0</td>\n",
       "      <td>1.0</td>\n",
       "      <td>17.0</td>\n",
       "    </tr>\n",
       "    <tr>\n",
       "      <th>...</th>\n",
       "      <td>...</td>\n",
       "      <td>...</td>\n",
       "      <td>...</td>\n",
       "      <td>...</td>\n",
       "      <td>...</td>\n",
       "      <td>...</td>\n",
       "      <td>...</td>\n",
       "      <td>...</td>\n",
       "    </tr>\n",
       "    <tr>\n",
       "      <th>185706</th>\n",
       "      <td>2007-04-24 16:30:00</td>\n",
       "      <td>0.320</td>\n",
       "      <td>0.082</td>\n",
       "      <td>235.19</td>\n",
       "      <td>1.6</td>\n",
       "      <td>0.0</td>\n",
       "      <td>2.0</td>\n",
       "      <td>0.0</td>\n",
       "    </tr>\n",
       "    <tr>\n",
       "      <th>185707</th>\n",
       "      <td>2007-04-24 16:31:00</td>\n",
       "      <td>0.328</td>\n",
       "      <td>0.078</td>\n",
       "      <td>234.53</td>\n",
       "      <td>1.6</td>\n",
       "      <td>0.0</td>\n",
       "      <td>1.0</td>\n",
       "      <td>0.0</td>\n",
       "    </tr>\n",
       "    <tr>\n",
       "      <th>185708</th>\n",
       "      <td>2007-04-24 16:32:00</td>\n",
       "      <td>0.344</td>\n",
       "      <td>0.088</td>\n",
       "      <td>234.90</td>\n",
       "      <td>1.8</td>\n",
       "      <td>0.0</td>\n",
       "      <td>1.0</td>\n",
       "      <td>0.0</td>\n",
       "    </tr>\n",
       "    <tr>\n",
       "      <th>185709</th>\n",
       "      <td>2007-04-24 16:33:00</td>\n",
       "      <td>0.416</td>\n",
       "      <td>0.174</td>\n",
       "      <td>235.29</td>\n",
       "      <td>2.0</td>\n",
       "      <td>0.0</td>\n",
       "      <td>1.0</td>\n",
       "      <td>0.0</td>\n",
       "    </tr>\n",
       "    <tr>\n",
       "      <th>185710</th>\n",
       "      <td>2007-04-24 16:34:00</td>\n",
       "      <td>0.408</td>\n",
       "      <td>0.174</td>\n",
       "      <td>234.82</td>\n",
       "      <td>2.0</td>\n",
       "      <td>0.0</td>\n",
       "      <td>1.0</td>\n",
       "      <td>0.0</td>\n",
       "    </tr>\n",
       "  </tbody>\n",
       "</table>\n",
       "<p>185711 rows × 8 columns</p>\n",
       "</div>"
      ],
      "text/plain": [
       "                  DateTime  Global_active_power  Global_reactive_power  \\\n",
       "0      2006-12-16 17:24:00                4.216                  0.418   \n",
       "1      2006-12-16 17:25:00                5.360                  0.436   \n",
       "2      2006-12-16 17:26:00                5.374                  0.498   \n",
       "3      2006-12-16 17:27:00                5.388                  0.502   \n",
       "4      2006-12-16 17:28:00                3.666                  0.528   \n",
       "...                    ...                  ...                    ...   \n",
       "185706 2007-04-24 16:30:00                0.320                  0.082   \n",
       "185707 2007-04-24 16:31:00                0.328                  0.078   \n",
       "185708 2007-04-24 16:32:00                0.344                  0.088   \n",
       "185709 2007-04-24 16:33:00                0.416                  0.174   \n",
       "185710 2007-04-24 16:34:00                0.408                  0.174   \n",
       "\n",
       "        Voltage  Global_intensity  Sub_metering_1  Sub_metering_2  \\\n",
       "0        234.84              18.4             0.0             1.0   \n",
       "1        233.63              23.0             0.0             1.0   \n",
       "2        233.29              23.0             0.0             2.0   \n",
       "3        233.74              23.0             0.0             1.0   \n",
       "4        235.68              15.8             0.0             1.0   \n",
       "...         ...               ...             ...             ...   \n",
       "185706   235.19               1.6             0.0             2.0   \n",
       "185707   234.53               1.6             0.0             1.0   \n",
       "185708   234.90               1.8             0.0             1.0   \n",
       "185709   235.29               2.0             0.0             1.0   \n",
       "185710   234.82               2.0             0.0             1.0   \n",
       "\n",
       "        Sub_metering_3  \n",
       "0                 17.0  \n",
       "1                 16.0  \n",
       "2                 17.0  \n",
       "3                 17.0  \n",
       "4                 17.0  \n",
       "...                ...  \n",
       "185706             0.0  \n",
       "185707             0.0  \n",
       "185708             0.0  \n",
       "185709             0.0  \n",
       "185710             0.0  \n",
       "\n",
       "[185711 rows x 8 columns]"
      ]
     },
     "execution_count": 26,
     "metadata": {},
     "output_type": "execute_result"
    }
   ],
   "source": [
    "# Rearranging columns\n",
    "cols = list(df.columns)\n",
    "cols = cols[-1:] + cols[:-1]\n",
    "data = df[cols]\n",
    "data"
   ]
  },
  {
   "cell_type": "markdown",
   "id": "4899f46a",
   "metadata": {},
   "source": [
    "# Data Analysis"
   ]
  },
  {
   "cell_type": "code",
   "execution_count": 27,
   "id": "3fdf3722",
   "metadata": {},
   "outputs": [
    {
     "data": {
      "text/plain": [
       "[<matplotlib.lines.Line2D at 0x2422e7813d0>]"
      ]
     },
     "execution_count": 27,
     "metadata": {},
     "output_type": "execute_result"
    },
    {
     "data": {
      "image/png": "[encoded data removed]",
      "text/plain": [
       "<Figure size 2880x720 with 1 Axes>"
      ]
     },
     "metadata": {
      "needs_background": "light"
     },
     "output_type": "display_data"
    }
   ],
   "source": [
    "plt.figure(figsize=(40,10))\n",
    "\n",
    "# plot for 5 days = 7200 minutes\n",
    "plt.plot(data['DateTime'][:7200],[float(x) for x in data['Global_active_power']][:7200])"
   ]
  },
  {
   "cell_type": "code",
   "execution_count": 28,
   "id": "36bbcd20",
   "metadata": {},
   "outputs": [
    {
     "data": {
      "text/plain": [
       "0"
      ]
     },
     "execution_count": 28,
     "metadata": {},
     "output_type": "execute_result"
    }
   ],
   "source": [
    "data.isnull().any(axis = 1).sum()"
   ]
  },
  {
   "cell_type": "code",
   "execution_count": 29,
   "id": "799ed894",
   "metadata": {},
   "outputs": [
    {
     "data": {
      "image/png": "[encoded data removed]",
      "text/plain": [
       "<Figure size 432x432 with 3 Axes>"
      ]
     },
     "metadata": {
      "needs_background": "light"
     },
     "output_type": "display_data"
    }
   ],
   "source": [
    "# The correlations between 'Global_intensity', 'Global_active_power'\n",
    "sns.jointplot(x='Global_intensity', y='Global_active_power', data=df)  \n",
    "plt.show()"
   ]
  },
  {
   "cell_type": "code",
   "execution_count": 30,
   "id": "15a63be0",
   "metadata": {},
   "outputs": [
    {
     "data": {
      "image/png": "[encoded data removed]",
      "text/plain": [
       "<Figure size 432x432 with 3 Axes>"
      ]
     },
     "metadata": {
      "needs_background": "light"
     },
     "output_type": "display_data"
    }
   ],
   "source": [
    "# The correlations between 'Voltage' and  'Global_active_power'\n",
    "\n",
    "sns.jointplot(x='Voltage', y='Global_active_power', data=df)  \n",
    "plt.show()"
   ]
  },
  {
   "cell_type": "code",
   "execution_count": 31,
   "id": "cac5dbcc",
   "metadata": {},
   "outputs": [
    {
     "data": {
      "image/png": "[encoded data removed]",
      "text/plain": [
       "<Figure size 432x288 with 1 Axes>"
      ]
     },
     "metadata": {
      "needs_background": "light"
     },
     "output_type": "display_data"
    }
   ],
   "source": [
    "# rename columns\n",
    "names = ['Act_power', 'React_power', 'Sub_met_1', 'Sub_met_2', 'Sub_met_3'] \n",
    "values = [23.042456, 2.027712, 1.232561, 1.783675, 6.553521]\n",
    "plt.bar(names, values)\n",
    "plt.show()"
   ]
  },
  {
   "cell_type": "markdown",
   "id": "11666e0e",
   "metadata": {},
   "source": [
    "#### From above two plots it is seen that 'Global_intensity' and 'Global_active_power' correlated. But 'Voltage', 'Global_active_power' are less correlated. This is important observation for machine learning purpose."
   ]
  },
  {
   "cell_type": "code",
   "execution_count": 32,
   "id": "cc52b883",
   "metadata": {},
   "outputs": [
    {
     "data": {
      "image/png": "[encoded data removed]",
      "text/plain": [
       "<Figure size 720x720 with 2 Axes>"
      ]
     },
     "metadata": {
      "needs_background": "light"
     },
     "output_type": "display_data"
    }
   ],
   "source": [
    "# Calculate correlations among Columns\n",
    "#There is a strong correlation between 'Global_active_power and 'Global_intensity' beacuse P = V * I\n",
    "plt.figure(figsize=(10,10))\n",
    "ax=sns.heatmap(df.corr(), vmin=-1, cmap='coolwarm', annot=True);\n",
    "ax.set_ylim(8, 0)\n",
    "plt.show()\n"
   ]
  },
  {
   "cell_type": "code",
   "execution_count": 33,
   "id": "c7ec79cd",
   "metadata": {},
   "outputs": [],
   "source": [
    "def month(x):\n",
    "    return x.month\n",
    "data['Month']= data['DateTime'].apply(lambda x: month(x))\n",
    "\n",
    "def Day(x):\n",
    "    return x.Day\n",
    "data['Day']=data['DateTime'].apply(lambda x: x.day)\n",
    "\n",
    "def hour(x):\n",
    "    return x.hour\n",
    "data['Hour']= data['DateTime'].apply(lambda x: hour(x))"
   ]
  },
  {
   "cell_type": "code",
   "execution_count": 34,
   "id": "5a9d3a96",
   "metadata": {},
   "outputs": [
    {
     "data": {
      "text/html": [
       "<div>\n",
       "<style scoped>\n",
       "    .dataframe tbody tr th:only-of-type {\n",
       "        vertical-align: middle;\n",
       "    }\n",
       "\n",
       "    .dataframe tbody tr th {\n",
       "        vertical-align: top;\n",
       "    }\n",
       "\n",
       "    .dataframe thead th {\n",
       "        text-align: right;\n",
       "    }\n",
       "</style>\n",
       "<table border=\"1\" class=\"dataframe\">\n",
       "  <thead>\n",
       "    <tr style=\"text-align: right;\">\n",
       "      <th></th>\n",
       "      <th>Global_active_power</th>\n",
       "      <th>Global_reactive_power</th>\n",
       "      <th>Voltage</th>\n",
       "      <th>Global_intensity</th>\n",
       "      <th>Sub_metering_1</th>\n",
       "      <th>Sub_metering_2</th>\n",
       "      <th>Sub_metering_3</th>\n",
       "      <th>Month</th>\n",
       "      <th>Day</th>\n",
       "      <th>Hour</th>\n",
       "    </tr>\n",
       "  </thead>\n",
       "  <tbody>\n",
       "    <tr>\n",
       "      <th>185706</th>\n",
       "      <td>0.320</td>\n",
       "      <td>0.082</td>\n",
       "      <td>235.19</td>\n",
       "      <td>1.6</td>\n",
       "      <td>0.0</td>\n",
       "      <td>2.0</td>\n",
       "      <td>0.0</td>\n",
       "      <td>4</td>\n",
       "      <td>24</td>\n",
       "      <td>16</td>\n",
       "    </tr>\n",
       "    <tr>\n",
       "      <th>185707</th>\n",
       "      <td>0.328</td>\n",
       "      <td>0.078</td>\n",
       "      <td>234.53</td>\n",
       "      <td>1.6</td>\n",
       "      <td>0.0</td>\n",
       "      <td>1.0</td>\n",
       "      <td>0.0</td>\n",
       "      <td>4</td>\n",
       "      <td>24</td>\n",
       "      <td>16</td>\n",
       "    </tr>\n",
       "    <tr>\n",
       "      <th>185708</th>\n",
       "      <td>0.344</td>\n",
       "      <td>0.088</td>\n",
       "      <td>234.90</td>\n",
       "      <td>1.8</td>\n",
       "      <td>0.0</td>\n",
       "      <td>1.0</td>\n",
       "      <td>0.0</td>\n",
       "      <td>4</td>\n",
       "      <td>24</td>\n",
       "      <td>16</td>\n",
       "    </tr>\n",
       "    <tr>\n",
       "      <th>185709</th>\n",
       "      <td>0.416</td>\n",
       "      <td>0.174</td>\n",
       "      <td>235.29</td>\n",
       "      <td>2.0</td>\n",
       "      <td>0.0</td>\n",
       "      <td>1.0</td>\n",
       "      <td>0.0</td>\n",
       "      <td>4</td>\n",
       "      <td>24</td>\n",
       "      <td>16</td>\n",
       "    </tr>\n",
       "    <tr>\n",
       "      <th>185710</th>\n",
       "      <td>0.408</td>\n",
       "      <td>0.174</td>\n",
       "      <td>234.82</td>\n",
       "      <td>2.0</td>\n",
       "      <td>0.0</td>\n",
       "      <td>1.0</td>\n",
       "      <td>0.0</td>\n",
       "      <td>4</td>\n",
       "      <td>24</td>\n",
       "      <td>16</td>\n",
       "    </tr>\n",
       "  </tbody>\n",
       "</table>\n",
       "</div>"
      ],
      "text/plain": [
       "        Global_active_power  Global_reactive_power  Voltage  Global_intensity  \\\n",
       "185706                0.320                  0.082   235.19               1.6   \n",
       "185707                0.328                  0.078   234.53               1.6   \n",
       "185708                0.344                  0.088   234.90               1.8   \n",
       "185709                0.416                  0.174   235.29               2.0   \n",
       "185710                0.408                  0.174   234.82               2.0   \n",
       "\n",
       "        Sub_metering_1  Sub_metering_2  Sub_metering_3  Month  Day  Hour  \n",
       "185706             0.0             2.0             0.0      4   24    16  \n",
       "185707             0.0             1.0             0.0      4   24    16  \n",
       "185708             0.0             1.0             0.0      4   24    16  \n",
       "185709             0.0             1.0             0.0      4   24    16  \n",
       "185710             0.0             1.0             0.0      4   24    16  "
      ]
     },
     "execution_count": 34,
     "metadata": {},
     "output_type": "execute_result"
    }
   ],
   "source": [
    "data.drop('DateTime',axis=1,inplace=True)\n",
    "data.tail()"
   ]
  },
  {
   "cell_type": "code",
   "execution_count": 35,
   "id": "00d7596c",
   "metadata": {},
   "outputs": [
    {
     "data": {
      "text/plain": [
       "<AxesSubplot:xlabel='Month', ylabel='Global_active_power'>"
      ]
     },
     "execution_count": 35,
     "metadata": {},
     "output_type": "execute_result"
    },
    {
     "data": {
      "image/png": "[encoded data removed]",
      "text/plain": [
       "<Figure size 360x360 with 1 Axes>"
      ]
     },
     "metadata": {
      "needs_background": "light"
     },
     "output_type": "display_data"
    }
   ],
   "source": [
    "# Monthly change of Global_active_power\n",
    "plt.figure(figsize=(5,5))\n",
    "plt.grid('both')\n",
    "sns.lineplot(x=\"Month\", y=\"Global_active_power\",data=data)"
   ]
  },
  {
   "cell_type": "code",
   "execution_count": 36,
   "id": "db43c133",
   "metadata": {},
   "outputs": [
    {
     "data": {
      "text/plain": [
       "<AxesSubplot:xlabel='Day', ylabel='Global_active_power'>"
      ]
     },
     "execution_count": 36,
     "metadata": {},
     "output_type": "execute_result"
    },
    {
     "data": {
      "image/png": "[encoded data removed]",
      "text/plain": [
       "<Figure size 360x360 with 1 Axes>"
      ]
     },
     "metadata": {
      "needs_background": "light"
     },
     "output_type": "display_data"
    }
   ],
   "source": [
    "# Dayly change of Global_active_power\n",
    "plt.figure(figsize=(5,5))\n",
    "plt.grid('both')\n",
    "sns.lineplot(x=\"Day\", y=\"Global_active_power\",data=data)"
   ]
  },
  {
   "cell_type": "code",
   "execution_count": 37,
   "id": "aad94ce9",
   "metadata": {},
   "outputs": [
    {
     "data": {
      "text/plain": [
       "<AxesSubplot:xlabel='Month', ylabel='Global_active_power'>"
      ]
     },
     "execution_count": 37,
     "metadata": {},
     "output_type": "execute_result"
    },
    {
     "data": {
      "image/png": "[encoded data removed]",
      "text/plain": [
       "<Figure size 360x360 with 1 Axes>"
      ]
     },
     "metadata": {
      "needs_background": "light"
     },
     "output_type": "display_data"
    }
   ],
   "source": [
    "plt.figure(figsize=(5,5))\n",
    "plt.grid('x')\n",
    "sns.barplot(x=\"Month\", y=\"Global_active_power\",data=data)"
   ]
  },
  {
   "cell_type": "code",
   "execution_count": 38,
   "id": "b64a08bf",
   "metadata": {},
   "outputs": [
    {
     "data": {
      "text/plain": [
       "<AxesSubplot:xlabel='Day', ylabel='Global_active_power'>"
      ]
     },
     "execution_count": 38,
     "metadata": {},
     "output_type": "execute_result"
    },
    {
     "data": {
      "image/png": "[encoded data removed]",
      "text/plain": [
       "<Figure size 576x576 with 1 Axes>"
      ]
     },
     "metadata": {
      "needs_background": "light"
     },
     "output_type": "display_data"
    }
   ],
   "source": [
    "plt.figure(figsize=(8,8))\n",
    "sns.barplot(x=\"Day\", y=\"Global_active_power\",data=data)"
   ]
  },
  {
   "cell_type": "markdown",
   "id": "a6183e50",
   "metadata": {},
   "source": [
    "# Data Pre-processing"
   ]
  },
  {
   "cell_type": "code",
   "execution_count": 39,
   "id": "4d3b6eb3",
   "metadata": {},
   "outputs": [
    {
     "data": {
      "text/html": [
       "<div>\n",
       "<style scoped>\n",
       "    .dataframe tbody tr th:only-of-type {\n",
       "        vertical-align: middle;\n",
       "    }\n",
       "\n",
       "    .dataframe tbody tr th {\n",
       "        vertical-align: top;\n",
       "    }\n",
       "\n",
       "    .dataframe thead th {\n",
       "        text-align: right;\n",
       "    }\n",
       "</style>\n",
       "<table border=\"1\" class=\"dataframe\">\n",
       "  <thead>\n",
       "    <tr style=\"text-align: right;\">\n",
       "      <th></th>\n",
       "      <th>Date</th>\n",
       "      <th>Time</th>\n",
       "      <th>Global_active_power</th>\n",
       "      <th>Global_reactive_power</th>\n",
       "      <th>Voltage</th>\n",
       "      <th>Global_intensity</th>\n",
       "      <th>Sub_metering_1</th>\n",
       "      <th>Sub_metering_2</th>\n",
       "      <th>Sub_metering_3</th>\n",
       "      <th>DateTime</th>\n",
       "    </tr>\n",
       "  </thead>\n",
       "  <tbody>\n",
       "    <tr>\n",
       "      <th>0</th>\n",
       "      <td>16/12/2006</td>\n",
       "      <td>17:24:00</td>\n",
       "      <td>4.216</td>\n",
       "      <td>0.418</td>\n",
       "      <td>234.84</td>\n",
       "      <td>18.4</td>\n",
       "      <td>0.0</td>\n",
       "      <td>1.0</td>\n",
       "      <td>17.0</td>\n",
       "      <td>2006-12-16 17:24:00</td>\n",
       "    </tr>\n",
       "    <tr>\n",
       "      <th>1</th>\n",
       "      <td>16/12/2006</td>\n",
       "      <td>17:25:00</td>\n",
       "      <td>5.360</td>\n",
       "      <td>0.436</td>\n",
       "      <td>233.63</td>\n",
       "      <td>23.0</td>\n",
       "      <td>0.0</td>\n",
       "      <td>1.0</td>\n",
       "      <td>16.0</td>\n",
       "      <td>2006-12-16 17:25:00</td>\n",
       "    </tr>\n",
       "    <tr>\n",
       "      <th>2</th>\n",
       "      <td>16/12/2006</td>\n",
       "      <td>17:26:00</td>\n",
       "      <td>5.374</td>\n",
       "      <td>0.498</td>\n",
       "      <td>233.29</td>\n",
       "      <td>23.0</td>\n",
       "      <td>0.0</td>\n",
       "      <td>2.0</td>\n",
       "      <td>17.0</td>\n",
       "      <td>2006-12-16 17:26:00</td>\n",
       "    </tr>\n",
       "    <tr>\n",
       "      <th>3</th>\n",
       "      <td>16/12/2006</td>\n",
       "      <td>17:27:00</td>\n",
       "      <td>5.388</td>\n",
       "      <td>0.502</td>\n",
       "      <td>233.74</td>\n",
       "      <td>23.0</td>\n",
       "      <td>0.0</td>\n",
       "      <td>1.0</td>\n",
       "      <td>17.0</td>\n",
       "      <td>2006-12-16 17:27:00</td>\n",
       "    </tr>\n",
       "    <tr>\n",
       "      <th>4</th>\n",
       "      <td>16/12/2006</td>\n",
       "      <td>17:28:00</td>\n",
       "      <td>3.666</td>\n",
       "      <td>0.528</td>\n",
       "      <td>235.68</td>\n",
       "      <td>15.8</td>\n",
       "      <td>0.0</td>\n",
       "      <td>1.0</td>\n",
       "      <td>17.0</td>\n",
       "      <td>2006-12-16 17:28:00</td>\n",
       "    </tr>\n",
       "  </tbody>\n",
       "</table>\n",
       "</div>"
      ],
      "text/plain": [
       "         Date      Time  Global_active_power  Global_reactive_power  Voltage  \\\n",
       "0  16/12/2006  17:24:00                4.216                  0.418   234.84   \n",
       "1  16/12/2006  17:25:00                5.360                  0.436   233.63   \n",
       "2  16/12/2006  17:26:00                5.374                  0.498   233.29   \n",
       "3  16/12/2006  17:27:00                5.388                  0.502   233.74   \n",
       "4  16/12/2006  17:28:00                3.666                  0.528   235.68   \n",
       "\n",
       "   Global_intensity  Sub_metering_1  Sub_metering_2  Sub_metering_3  \\\n",
       "0              18.4             0.0             1.0            17.0   \n",
       "1              23.0             0.0             1.0            16.0   \n",
       "2              23.0             0.0             2.0            17.0   \n",
       "3              23.0             0.0             1.0            17.0   \n",
       "4              15.8             0.0             1.0            17.0   \n",
       "\n",
       "             DateTime  \n",
       "0 2006-12-16 17:24:00  \n",
       "1 2006-12-16 17:25:00  \n",
       "2 2006-12-16 17:26:00  \n",
       "3 2006-12-16 17:27:00  \n",
       "4 2006-12-16 17:28:00  "
      ]
     },
     "execution_count": 39,
     "metadata": {},
     "output_type": "execute_result"
    }
   ],
   "source": [
    "dt.head()"
   ]
  },
  {
   "cell_type": "code",
   "execution_count": 40,
   "id": "d83f65bc",
   "metadata": {},
   "outputs": [],
   "source": [
    "X = df[['Global_reactive_power','Voltage','Global_intensity','Sub_metering_1','Sub_metering_2','Sub_metering_3']]\n",
    "y = df['Global_active_power']"
   ]
  },
  {
   "cell_type": "code",
   "execution_count": 41,
   "id": "ade4a694",
   "metadata": {},
   "outputs": [
    {
     "data": {
      "text/html": [
       "<div>\n",
       "<style scoped>\n",
       "    .dataframe tbody tr th:only-of-type {\n",
       "        vertical-align: middle;\n",
       "    }\n",
       "\n",
       "    .dataframe tbody tr th {\n",
       "        vertical-align: top;\n",
       "    }\n",
       "\n",
       "    .dataframe thead th {\n",
       "        text-align: right;\n",
       "    }\n",
       "</style>\n",
       "<table border=\"1\" class=\"dataframe\">\n",
       "  <thead>\n",
       "    <tr style=\"text-align: right;\">\n",
       "      <th></th>\n",
       "      <th>Global_reactive_power</th>\n",
       "      <th>Voltage</th>\n",
       "      <th>Global_intensity</th>\n",
       "      <th>Sub_metering_1</th>\n",
       "      <th>Sub_metering_2</th>\n",
       "      <th>Sub_metering_3</th>\n",
       "    </tr>\n",
       "  </thead>\n",
       "  <tbody>\n",
       "    <tr>\n",
       "      <th>0</th>\n",
       "      <td>0.418</td>\n",
       "      <td>234.84</td>\n",
       "      <td>18.4</td>\n",
       "      <td>0.0</td>\n",
       "      <td>1.0</td>\n",
       "      <td>17.0</td>\n",
       "    </tr>\n",
       "    <tr>\n",
       "      <th>1</th>\n",
       "      <td>0.436</td>\n",
       "      <td>233.63</td>\n",
       "      <td>23.0</td>\n",
       "      <td>0.0</td>\n",
       "      <td>1.0</td>\n",
       "      <td>16.0</td>\n",
       "    </tr>\n",
       "    <tr>\n",
       "      <th>2</th>\n",
       "      <td>0.498</td>\n",
       "      <td>233.29</td>\n",
       "      <td>23.0</td>\n",
       "      <td>0.0</td>\n",
       "      <td>2.0</td>\n",
       "      <td>17.0</td>\n",
       "    </tr>\n",
       "    <tr>\n",
       "      <th>3</th>\n",
       "      <td>0.502</td>\n",
       "      <td>233.74</td>\n",
       "      <td>23.0</td>\n",
       "      <td>0.0</td>\n",
       "      <td>1.0</td>\n",
       "      <td>17.0</td>\n",
       "    </tr>\n",
       "    <tr>\n",
       "      <th>4</th>\n",
       "      <td>0.528</td>\n",
       "      <td>235.68</td>\n",
       "      <td>15.8</td>\n",
       "      <td>0.0</td>\n",
       "      <td>1.0</td>\n",
       "      <td>17.0</td>\n",
       "    </tr>\n",
       "  </tbody>\n",
       "</table>\n",
       "</div>"
      ],
      "text/plain": [
       "   Global_reactive_power  Voltage  Global_intensity  Sub_metering_1  \\\n",
       "0                  0.418   234.84              18.4             0.0   \n",
       "1                  0.436   233.63              23.0             0.0   \n",
       "2                  0.498   233.29              23.0             0.0   \n",
       "3                  0.502   233.74              23.0             0.0   \n",
       "4                  0.528   235.68              15.8             0.0   \n",
       "\n",
       "   Sub_metering_2  Sub_metering_3  \n",
       "0             1.0            17.0  \n",
       "1             1.0            16.0  \n",
       "2             2.0            17.0  \n",
       "3             1.0            17.0  \n",
       "4             1.0            17.0  "
      ]
     },
     "execution_count": 41,
     "metadata": {},
     "output_type": "execute_result"
    }
   ],
   "source": [
    "X.head()"
   ]
  },
  {
   "cell_type": "code",
   "execution_count": null,
   "id": "51b1c212",
   "metadata": {},
   "outputs": [],
   "source": [
    "scaler = StandardScaler()\n",
    "scaler.fit_transform(X)"
   ]
  },
  {
   "cell_type": "code",
   "execution_count": null,
   "id": "3542f8c6",
   "metadata": {},
   "outputs": [],
   "source": [
    "dt.shape"
   ]
  },
  {
   "cell_type": "code",
   "execution_count": null,
   "id": "25d8f275",
   "metadata": {},
   "outputs": [],
   "source": [
    "# Rearranging columns\n",
    "cols = list(dt.columns)\n",
    "cols = cols[-1:] + cols[:-1]\n",
    "dt2 = dt[cols]\n",
    "dt2.head(5)"
   ]
  },
  {
   "cell_type": "code",
   "execution_count": null,
   "id": "53b4017a",
   "metadata": {},
   "outputs": [],
   "source": [
    "# Column for for the remainder of sub metering\n",
    "# Calculate the energy consumption in kilowatt-hours\n",
    "eq1 = (dt2['Global_active_power'] * 1000/60)  # Convert Global_active_power to kilowatt-hours\n",
    "\n",
    "# Calculate the sum of sub metering 1, 2, and 3\n",
    "eq2 = dt2['Sub_metering_1'] + dt2['Sub_metering_2'] + dt2['Sub_metering_3']\n",
    "\n",
    "# Calculate the value for the new column 'Sub_metering_4'\n",
    "dt2['Sub_metering_4'] = eq1 - eq2\n",
    "\n",
    "# Display the first 3 rows of the updated DataFrame\n",
    "dt2.head(3)\n"
   ]
  },
  {
   "cell_type": "code",
   "execution_count": null,
   "id": "71ec04b3",
   "metadata": {},
   "outputs": [],
   "source": [
    "# drop old Date and Time columns\n",
    "dt2.drop(columns = ['Date','Time'],inplace = True)\n",
    "dt2.head(3)"
   ]
  },
  {
   "cell_type": "markdown",
   "id": "2b07cb0a",
   "metadata": {},
   "source": [
    "# Splitting dataset into train, validation, and test"
   ]
  },
  {
   "cell_type": "code",
   "execution_count": null,
   "id": "d3727fda",
   "metadata": {},
   "outputs": [],
   "source": [
    "# First, split the data into testing 30% and the rest (training + validation) 70%\n",
    "X_rem, X_test, y_rem, y_test = train_test_split(\n",
    "    X,\n",
    "    y,\n",
    "    random_state=0,\n",
    "    test_size=0.30,\n",
    ")\n",
    "\n",
    "# Second, split the remaining data (training + validation) into validation 30%\n",
    "X_train, X_val, y_train, y_val = train_test_split(\n",
    "    X_rem,\n",
    "    y_rem,\n",
    "    random_state=0,\n",
    "    test_size=0.30,\n",
    ")\n",
    "\n",
    "print(\"x_train\", X_train.shape)\n",
    "print(\"y_train\", y_train.shape)\n",
    "print(\"---------------------\")\n",
    "print(\"x_test\", X_test.shape)\n",
    "print(\"y_test\", y_test.shape)\n",
    "print(\"---------------------\")\n",
    "print(\"x_val\", X_val.shape)\n",
    "print(\"y_val\", y_val.shape)"
   ]
  },
  {
   "cell_type": "markdown",
   "id": "bfd47c09",
   "metadata": {},
   "source": [
    "# Helper Function : Evaluate Model"
   ]
  },
  {
   "cell_type": "code",
   "execution_count": null,
   "id": "b1c6f116",
   "metadata": {},
   "outputs": [],
   "source": [
    "from sklearn.metrics import mean_squared_error\n",
    "def eval_model(model, X_train, y_train, X_val, y_val):\n",
    "    model.fit(X_train, y_train)\n",
    "    y_pred_train = model.predict(X_train)\n",
    "    y_pred_val = model.predict(X_val)\n",
    " \n",
    "    mse_train = mean_squared_error(y_train, y_pred_train)\n",
    "    mse_val = mean_squared_error(y_val, y_pred_val)\n",
    "    \n",
    "    return mse_train, mse_val"
   ]
  },
  {
   "cell_type": "markdown",
   "id": "48a84a3d",
   "metadata": {},
   "source": [
    "### Normalizing the Data\n",
    "\n",
    "**Using a MinMaxScaler to normalize the feature data X_train and X_test. Recall we don't want data leakge from the test set so we only fit on the X_train data.**"
   ]
  },
  {
   "cell_type": "code",
   "execution_count": null,
   "id": "029489d6",
   "metadata": {},
   "outputs": [],
   "source": [
    "scaler = MinMaxScaler()"
   ]
  },
  {
   "cell_type": "code",
   "execution_count": null,
   "id": "60395af3",
   "metadata": {},
   "outputs": [],
   "source": [
    "X_train = scaler.fit_transform(X_train)"
   ]
  },
  {
   "cell_type": "code",
   "execution_count": null,
   "id": "72115070",
   "metadata": {},
   "outputs": [],
   "source": [
    "X_test = scaler.transform(X_test)"
   ]
  },
  {
   "cell_type": "code",
   "execution_count": null,
   "id": "e8f38698",
   "metadata": {},
   "outputs": [],
   "source": [
    "X_test"
   ]
  },
  {
   "cell_type": "code",
   "execution_count": null,
   "id": "96062393",
   "metadata": {},
   "outputs": [],
   "source": [
    "X_train"
   ]
  },
  {
   "cell_type": "markdown",
   "id": "5c10b6d2",
   "metadata": {},
   "source": [
    "### Linear Regression"
   ]
  },
  {
   "cell_type": "code",
   "execution_count": null,
   "id": "6589393f",
   "metadata": {},
   "outputs": [],
   "source": [
    "lm = LinearRegression()\n",
    "eval_model(lm, X_train, y_train, X_val, y_val)"
   ]
  },
  {
   "cell_type": "code",
   "execution_count": null,
   "id": "cce3e0d3",
   "metadata": {},
   "outputs": [],
   "source": [
    "predictions = lm.predict( X_test)"
   ]
  },
  {
   "cell_type": "code",
   "execution_count": null,
   "id": "d02b2a01",
   "metadata": {},
   "outputs": [],
   "source": [
    "plt.figure(figsize=(5,5))\n",
    "plt.scatter(y_test,predictions)\n",
    "plt.xlabel('Y Test')\n",
    "plt.ylabel('Predicted Y')\n",
    "plt.show()"
   ]
  },
  {
   "cell_type": "code",
   "execution_count": null,
   "id": "d41f9e5f",
   "metadata": {},
   "outputs": [],
   "source": [
    "print('MSE for Linear Regression:', metrics.mean_squared_error(y_test, predictions))"
   ]
  },
  {
   "cell_type": "code",
   "execution_count": null,
   "id": "3e5287dc",
   "metadata": {},
   "outputs": [],
   "source": [
    "# create a distribution plot (histogram) of the differences between the actual values (y_test) and the predicted values (predictions)\n",
    "# The resulting array represents the residuals, which are the errors made by the model in its predictions\n",
    "# \n",
    "sns.distplot((y_test-predictions),bins=50)"
   ]
  },
  {
   "cell_type": "code",
   "execution_count": null,
   "id": "4b026ad6",
   "metadata": {},
   "outputs": [],
   "source": [
    "df_result = pd.DataFrame({'Actual Value': y_test, 'Predicted Value': predictions})\n",
    "df_result"
   ]
  },
  {
   "cell_type": "markdown",
   "id": "ad7b121f",
   "metadata": {},
   "source": [
    "# Non Linear Regression"
   ]
  },
  {
   "cell_type": "code",
   "execution_count": null,
   "id": "1f91c162",
   "metadata": {},
   "outputs": [],
   "source": [
    "# first, we create an object of PolynomialFeatures transformer and in parameters gives degree = 2\n",
    "pf = PolynomialFeatures(degree=2)\n",
    "\n",
    "# then we transform our features\n",
    "X_train_poly = pf.fit_transform(X_train)\n",
    "X_val_poly = pf.transform(X_val)\n",
    "X_test_poly = pf.transform(X_test)\n",
    "\n",
    "nonlinear_reg = LinearRegression()\n",
    "eval_model(nonlinear_reg, X_train_poly, y_train, X_val_poly, y_val)"
   ]
  },
  {
   "cell_type": "markdown",
   "id": "b56438ef",
   "metadata": {},
   "source": [
    "# Hyper Parameters Tuning for degree in Polynomial Features"
   ]
  },
  {
   "cell_type": "code",
   "execution_count": null,
   "id": "be391cb1",
   "metadata": {},
   "outputs": [],
   "source": [
    "degree_values = list(range(1, 5)) # 1 2 3 4\n",
    "mse_train_values = []\n",
    "mse_val_values = []\n",
    "\n",
    "for degree in degree_values:\n",
    "    nonlinear_reg = Pipeline([\n",
    "        ('feature_scaling', StandardScaler()),\n",
    "        ('polynomial_features', PolynomialFeatures(degree=degree)),\n",
    "        ('regression', LinearRegression()),\n",
    "    ])\n",
    "    mse_train, mse_val = eval_model(nonlinear_reg, X_train, y_train, X_val, y_val)\n",
    "    mse_train_values.append(mse_train)\n",
    "    mse_val_values.append(mse_val)\n",
    "    \n",
    "results = pd.DataFrame({\n",
    "    'degree': degree_values,\n",
    "    'mse_train': mse_train_values,\n",
    "    'mse_val': mse_val_values,\n",
    "})\n",
    "\n",
    "results"
   ]
  },
  {
   "cell_type": "markdown",
   "id": "1d8ebf31",
   "metadata": {},
   "source": [
    "<p style=\"font-size: 16px\"> from above DataFrame we take R2-Scores with degree 4</p>"
   ]
  },
  {
   "cell_type": "markdown",
   "id": "e0dacf10",
   "metadata": {},
   "source": [
    "<p style=\"font-size: 18px\"> ploting degree in x-axis and r2-score (r2_train, r2_val) in y-axis</p>"
   ]
  },
  {
   "cell_type": "code",
   "execution_count": null,
   "id": "300f2dd7",
   "metadata": {},
   "outputs": [],
   "source": [
    "import matplotlib.pyplot as plt\n",
    "\n",
    "\n",
    "# Plotting the training R2 scores\n",
    "plt.plot(results['degree'], results['mse_train'], label='Training MSE', marker='.')\n",
    "\n",
    "# Plotting the validation R2 scores\n",
    "plt.plot(results['degree'], results['mse_val'], label='Validation MSE', marker='.')\n",
    "\n",
    "# Adding labels and title\n",
    "plt.xlabel('Polynomial Degree')\n",
    "plt.ylabel('MSE Score')\n",
    "plt.title('Polynomial Regression')\n",
    "plt.legend()\n",
    "plt.grid('both')\n",
    "# Show the plot\n",
    "plt.show()\n"
   ]
  },
  {
   "cell_type": "code",
   "execution_count": null,
   "id": "476621a3",
   "metadata": {},
   "outputs": [],
   "source": [
    "best_model = Pipeline([\n",
    "    ('feature_scaling', StandardScaler()),\n",
    "    ('polynomial_features', PolynomialFeatures(degree=4)),\n",
    "    ('regression', LinearRegression()),\n",
    "])\n",
    "best_model.fit(X_train, y_train)\n",
    "y_pred_test = best_model.predict(X_test)\n",
    "mean_squared_error(y_test, y_pred_test)"
   ]
  },
  {
   "cell_type": "markdown",
   "id": "918f397a",
   "metadata": {},
   "source": [
    "# Visualizing Our test predictions"
   ]
  },
  {
   "cell_type": "code",
   "execution_count": null,
   "id": "3c4f2fba",
   "metadata": {},
   "outputs": [],
   "source": [
    "plt.figure(figsize=(5, 5))\n",
    "plt.scatter(y_test, y_pred_test, alpha=0.4)\n",
    "plt.plot([0, 10], [0, 10], c='red')\n",
    "plt.xlabel('y_true')\n",
    "plt.ylabel('y_pred')\n",
    "plt.show()"
   ]
  },
  {
   "cell_type": "markdown",
   "id": "1e607e80",
   "metadata": {},
   "source": [
    "# Random Forest (RF)"
   ]
  },
  {
   "cell_type": "code",
   "execution_count": null,
   "id": "1a07a3ad",
   "metadata": {},
   "outputs": [],
   "source": [
    "from sklearn.ensemble import RandomForestRegressor \n",
    "rf=RandomForestRegressor(n_estimators=100,random_state=0,max_depth=3)\n",
    "rf.fit(X_train, y_train)\n",
    "y_pred_train = rf.predict(X_train)\n",
    "y_pred_val = rf.predict(X_val)\n",
    "mse_train = mean_squared_error(y_train, y_pred_train)\n",
    "mse_val = mean_squared_error(y_val, y_pred_val)\n",
    "\n",
    "print(mse_train, mse_val)"
   ]
  },
  {
   "cell_type": "markdown",
   "id": "c238076d",
   "metadata": {},
   "source": [
    "## Optimizing n_estimators"
   ]
  },
  {
   "cell_type": "code",
   "execution_count": null,
   "id": "08b44abe",
   "metadata": {},
   "outputs": [],
   "source": [
    "n_estimators_values = [5,10,15,20,25,30,35,40]\n",
    "\n",
    "mse_train_values = []\n",
    "mse_val_values = []\n",
    "\n",
    "for n_estimators in n_estimators_values:\n",
    "    model = RandomForestRegressor(n_estimators=n_estimators, max_depth=3, random_state=0)\n",
    "    mse_train, mse_val = eval_model(model, X_train, y_train, X_val, y_val)\n",
    "    mse_train_values.append(mse_train)\n",
    "    mse_val_values.append(mse_val)\n",
    "    \n",
    "results = pd.DataFrame({\n",
    "    'n_estimators': n_estimators_values,\n",
    "    'mse_train': mse_train_values,\n",
    "    'mse_val': mse_val_values,\n",
    "})"
   ]
  },
  {
   "cell_type": "code",
   "execution_count": null,
   "id": "98b57913",
   "metadata": {},
   "outputs": [],
   "source": [
    "results['diff']=results['mse_train']-results['mse_val']\n",
    "results"
   ]
  },
  {
   "cell_type": "code",
   "execution_count": null,
   "id": "dac1e796",
   "metadata": {},
   "outputs": [],
   "source": [
    "# 100\n",
    "results.plot(x='n_estimators', y=['mse_train', 'mse_val'], figsize=(8, 6))\n",
    "plt.grid(axis='both')\n",
    "plt.xticks(n_estimators_values)\n",
    "plt.show()"
   ]
  },
  {
   "cell_type": "markdown",
   "id": "dcf10b09",
   "metadata": {},
   "source": [
    "# KNN"
   ]
  },
  {
   "cell_type": "code",
   "execution_count": null,
   "id": "cb97aa9c",
   "metadata": {},
   "outputs": [],
   "source": [
    "from sklearn.neighbors import KNeighborsRegressor\n",
    "from sklearn.metrics import mean_squared_error"
   ]
  },
  {
   "cell_type": "code",
   "execution_count": null,
   "id": "a0d9bc28",
   "metadata": {},
   "outputs": [],
   "source": [
    "# Create a KNN regressor\n",
    "model = KNeighborsRegressor(n_neighbors=5, weights='distance')\n",
    "\n",
    "# Evaluate the KNN regressor using the eval_model function\n",
    "mse_train, mse_val = eval_model(model, X_train, y_train, X_val, y_val)"
   ]
  },
  {
   "cell_type": "code",
   "execution_count": null,
   "id": "a1c77a1e",
   "metadata": {},
   "outputs": [],
   "source": [
    "y_train_pred = model.predict(X_train)"
   ]
  },
  {
   "cell_type": "code",
   "execution_count": null,
   "id": "698a516f",
   "metadata": {},
   "outputs": [],
   "source": [
    "# Plotting for Training Set\n",
    "plt.scatter(y_train, y_train_pred, color='green', label='Actual vs Predicted (Training Set)')\n",
    "plt.plot([min(y_train), max(y_train)], [min(y_train), max(y_train)], linestyle='--', color='orange', label='Perfect Predictions')\n",
    "plt.xlabel('True Values (Training Set)')\n",
    "plt.ylabel('Predicted Values (Training Set)')\n",
    "plt.title('Actual vs Predicted Values for KNN Regression (Training Set)')\n",
    "plt.legend()\n",
    "plt.show()"
   ]
  },
  {
   "cell_type": "code",
   "execution_count": null,
   "id": "e98f5f1a",
   "metadata": {},
   "outputs": [],
   "source": [
    "# Plotting for Validation Set\n",
    "y_val_pred = model.predict(X_val)\n",
    "plt.scatter(y_val, y_val_pred, color='purple', label='Actual vs Predicted (Validation Set)')\n",
    "plt.plot([min(y_val), max(y_val)], [min(y_val), max(y_val)], linestyle='--', color='pink', label='Perfect Predictions')\n",
    "plt.xlabel('True Values (Validation Set)')\n",
    "plt.ylabel('Predicted Values (Validation Set)')\n",
    "plt.title('Actual vs Predicted Values for KNN Regression (Validation Set)')\n",
    "plt.legend()\n",
    "plt.show()"
   ]
  },
  {
   "cell_type": "code",
   "execution_count": null,
   "id": "63eb45c5",
   "metadata": {},
   "outputs": [],
   "source": [
    "# Plotting for Test Set\n",
    "y_test_pred = model.predict(X_test)\n",
    "plt.scatter(y_test, y_test_pred, color='blue', label='Actual vs Predicted (Test Set)')\n",
    "plt.plot([min(y_test), max(y_test)], [min(y_test), max(y_test)], linestyle='--', color='red', label='Perfect Predictions')\n",
    "plt.xlabel('True Values (Test Set)')\n",
    "plt.ylabel('Predicted Values (Test Set)')\n",
    "plt.title('Actual vs Predicted Values for KNN Regression (Test Set)')\n",
    "plt.legend()\n",
    "plt.show()"
   ]
  },
  {
   "cell_type": "code",
   "execution_count": null,
   "id": "9a183ddc",
   "metadata": {},
   "outputs": [],
   "source": [
    "print(f'Training Mean Squared Error: {mse_train}')\n",
    "print(f'Validation Mean Squared Error: {mse_val}')\n",
    "print(f'Test Mean Squared Error: {mean_squared_error(y_test, y_test_pred)}')"
   ]
  },
  {
   "cell_type": "markdown",
   "id": "91e6e431",
   "metadata": {},
   "source": [
    "# Decision Tree Regression\n",
    "**Feature scaling is not needed for decision tree**"
   ]
  },
  {
   "cell_type": "code",
   "execution_count": null,
   "id": "eb081a71",
   "metadata": {},
   "outputs": [],
   "source": [
    "# DecisionTreeRegressor\n",
    "\n",
    "from sklearn.tree import DecisionTreeRegressor\n",
    "from sklearn.model_selection import GridSearchCV\n",
    "\n",
    "# Define the parameter grid\n",
    "param_grid_dt = {\n",
    "    'max_depth': [3, 5, 7, 9],\n",
    "    'min_samples_split': [2, 5, 10]\n",
    "}\n",
    "\n",
    "dt_reg = DecisionTreeRegressor()\n",
    "\n",
    "dt_reg = GridSearchCV(dt_reg, param_grid=param_grid_dt, cv=5, scoring='r2')\n",
    "dt_reg.fit(X_train, y_train)\n",
    "\n",
    "best_dt = dt_reg.best_estimator_\n",
    "best_score_dt = dt_reg.best_score_\n",
    "\n",
    "print(\"Best Decision Tree parameters:\", best_dt)\n",
    "print(\"Best Decision Tree R2 score:\", best_score_dt)"
   ]
  },
  {
   "cell_type": "markdown",
   "id": "af534fcf",
   "metadata": {},
   "source": []
  }
 ],
 "metadata": {
  "kernelspec": {
   "display_name": "Python 3 (ipykernel)",
   "language": "python",
   "name": "python3"
  },
  "language_info": {
   "codemirror_mode": {
    "name": "ipython",
    "version": 3
   },
   "file_extension": ".py",
   "mimetype": "text/x-python",
   "name": "python",
   "nbconvert_exporter": "python",
   "pygments_lexer": "ipython3",
   "version": "3.9.12"
  },
  "vscode": {
   "interpreter": {
    "hash": "4abe8f0d43810da8e0599c92fa77ff1bc3ba49df42db1369ea5b9c66bb667179"
   }
  }
 },
 "nbformat": 4,
 "nbformat_minor": 5
}
