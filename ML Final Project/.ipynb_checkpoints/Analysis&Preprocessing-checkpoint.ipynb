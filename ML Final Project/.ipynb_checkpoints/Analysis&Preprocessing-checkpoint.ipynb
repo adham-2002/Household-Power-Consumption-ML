{
 "cells": [
  {
   "cell_type": "code",
   "execution_count": 98,
   "id": "da88bd2f",
   "metadata": {},
   "outputs": [],
   "source": [
    "#!pip install missingno"
   ]
  },
  {
   "cell_type": "code",
   "execution_count": 99,
   "id": "fdcbbe28",
   "metadata": {},
   "outputs": [],
   "source": [
    "import numpy as np\n",
    "import pandas as pd\n",
    "import matplotlib.pyplot as plt\n",
    "import seaborn as sns\n",
    "import missingno as msno\n",
    "from datetime import datetime\n",
    "\n",
    "from sklearn import metrics \n",
    "from sklearn.preprocessing import StandardScaler\n",
    "from sklearn.model_selection import train_test_split\n",
    "from sklearn.preprocessing import MinMaxScaler\n",
    "from sklearn.linear_model import LinearRegression"
   ]
  },
  {
   "cell_type": "code",
   "execution_count": 100,
   "id": "3124a89e-e957-42ef-8d43-748bd68e65b7",
   "metadata": {},
   "outputs": [
    {
     "data": {
      "text/html": [
       "<div>\n",
       "<style scoped>\n",
       "    .dataframe tbody tr th:only-of-type {\n",
       "        vertical-align: middle;\n",
       "    }\n",
       "\n",
       "    .dataframe tbody tr th {\n",
       "        vertical-align: top;\n",
       "    }\n",
       "\n",
       "    .dataframe thead th {\n",
       "        text-align: right;\n",
       "    }\n",
       "</style>\n",
       "<table border=\"1\" class=\"dataframe\">\n",
       "  <thead>\n",
       "    <tr style=\"text-align: right;\">\n",
       "      <th></th>\n",
       "      <th>Date</th>\n",
       "      <th>Time</th>\n",
       "      <th>Global_active_power</th>\n",
       "      <th>Global_reactive_power</th>\n",
       "      <th>Voltage</th>\n",
       "      <th>Global_intensity</th>\n",
       "      <th>Sub_metering_1</th>\n",
       "      <th>Sub_metering_2</th>\n",
       "      <th>Sub_metering_3</th>\n",
       "    </tr>\n",
       "  </thead>\n",
       "  <tbody>\n",
       "    <tr>\n",
       "      <th>0</th>\n",
       "      <td>16/12/2006</td>\n",
       "      <td>17:24:00</td>\n",
       "      <td>4.216</td>\n",
       "      <td>0.418</td>\n",
       "      <td>234.840</td>\n",
       "      <td>18.400</td>\n",
       "      <td>0.000</td>\n",
       "      <td>1.000</td>\n",
       "      <td>17.0</td>\n",
       "    </tr>\n",
       "    <tr>\n",
       "      <th>1</th>\n",
       "      <td>16/12/2006</td>\n",
       "      <td>17:25:00</td>\n",
       "      <td>5.360</td>\n",
       "      <td>0.436</td>\n",
       "      <td>233.630</td>\n",
       "      <td>23.000</td>\n",
       "      <td>0.000</td>\n",
       "      <td>1.000</td>\n",
       "      <td>16.0</td>\n",
       "    </tr>\n",
       "    <tr>\n",
       "      <th>2</th>\n",
       "      <td>16/12/2006</td>\n",
       "      <td>17:26:00</td>\n",
       "      <td>5.374</td>\n",
       "      <td>0.498</td>\n",
       "      <td>233.290</td>\n",
       "      <td>23.000</td>\n",
       "      <td>0.000</td>\n",
       "      <td>2.000</td>\n",
       "      <td>17.0</td>\n",
       "    </tr>\n",
       "    <tr>\n",
       "      <th>3</th>\n",
       "      <td>16/12/2006</td>\n",
       "      <td>17:27:00</td>\n",
       "      <td>5.388</td>\n",
       "      <td>0.502</td>\n",
       "      <td>233.740</td>\n",
       "      <td>23.000</td>\n",
       "      <td>0.000</td>\n",
       "      <td>1.000</td>\n",
       "      <td>17.0</td>\n",
       "    </tr>\n",
       "    <tr>\n",
       "      <th>4</th>\n",
       "      <td>16/12/2006</td>\n",
       "      <td>17:28:00</td>\n",
       "      <td>3.666</td>\n",
       "      <td>0.528</td>\n",
       "      <td>235.680</td>\n",
       "      <td>15.800</td>\n",
       "      <td>0.000</td>\n",
       "      <td>1.000</td>\n",
       "      <td>17.0</td>\n",
       "    </tr>\n",
       "  </tbody>\n",
       "</table>\n",
       "</div>"
      ],
      "text/plain": [
       "         Date      Time Global_active_power Global_reactive_power  Voltage  \\\n",
       "0  16/12/2006  17:24:00               4.216                 0.418  234.840   \n",
       "1  16/12/2006  17:25:00               5.360                 0.436  233.630   \n",
       "2  16/12/2006  17:26:00               5.374                 0.498  233.290   \n",
       "3  16/12/2006  17:27:00               5.388                 0.502  233.740   \n",
       "4  16/12/2006  17:28:00               3.666                 0.528  235.680   \n",
       "\n",
       "  Global_intensity Sub_metering_1 Sub_metering_2  Sub_metering_3  \n",
       "0           18.400          0.000          1.000            17.0  \n",
       "1           23.000          0.000          1.000            16.0  \n",
       "2           23.000          0.000          2.000            17.0  \n",
       "3           23.000          0.000          1.000            17.0  \n",
       "4           15.800          0.000          1.000            17.0  "
      ]
     },
     "execution_count": 100,
     "metadata": {},
     "output_type": "execute_result"
    }
   ],
   "source": [
    "df = pd.read_csv('data/Household Power Consumption.txt', sep=';')\n",
    "df.head(5)"
   ]
  },
  {
   "cell_type": "code",
   "execution_count": 101,
   "id": "f35a64c6",
   "metadata": {},
   "outputs": [
    {
     "data": {
      "text/plain": [
       "(185711, 9)"
      ]
     },
     "execution_count": 101,
     "metadata": {},
     "output_type": "execute_result"
    }
   ],
   "source": [
    "df.shape"
   ]
  },
  {
   "cell_type": "code",
   "execution_count": 102,
   "id": "e54b9dcb",
   "metadata": {},
   "outputs": [
    {
     "data": {
      "text/html": [
       "<div>\n",
       "<style scoped>\n",
       "    .dataframe tbody tr th:only-of-type {\n",
       "        vertical-align: middle;\n",
       "    }\n",
       "\n",
       "    .dataframe tbody tr th {\n",
       "        vertical-align: top;\n",
       "    }\n",
       "\n",
       "    .dataframe thead th {\n",
       "        text-align: right;\n",
       "    }\n",
       "</style>\n",
       "<table border=\"1\" class=\"dataframe\">\n",
       "  <thead>\n",
       "    <tr style=\"text-align: right;\">\n",
       "      <th></th>\n",
       "      <th>Sub_metering_3</th>\n",
       "    </tr>\n",
       "  </thead>\n",
       "  <tbody>\n",
       "    <tr>\n",
       "      <th>count</th>\n",
       "      <td>185702.000000</td>\n",
       "    </tr>\n",
       "    <tr>\n",
       "      <th>mean</th>\n",
       "      <td>6.553521</td>\n",
       "    </tr>\n",
       "    <tr>\n",
       "      <th>std</th>\n",
       "      <td>8.469009</td>\n",
       "    </tr>\n",
       "    <tr>\n",
       "      <th>min</th>\n",
       "      <td>0.000000</td>\n",
       "    </tr>\n",
       "    <tr>\n",
       "      <th>25%</th>\n",
       "      <td>0.000000</td>\n",
       "    </tr>\n",
       "    <tr>\n",
       "      <th>50%</th>\n",
       "      <td>0.000000</td>\n",
       "    </tr>\n",
       "    <tr>\n",
       "      <th>75%</th>\n",
       "      <td>17.000000</td>\n",
       "    </tr>\n",
       "    <tr>\n",
       "      <th>max</th>\n",
       "      <td>20.000000</td>\n",
       "    </tr>\n",
       "  </tbody>\n",
       "</table>\n",
       "</div>"
      ],
      "text/plain": [
       "       Sub_metering_3\n",
       "count   185702.000000\n",
       "mean         6.553521\n",
       "std          8.469009\n",
       "min          0.000000\n",
       "25%          0.000000\n",
       "50%          0.000000\n",
       "75%         17.000000\n",
       "max         20.000000"
      ]
     },
     "execution_count": 102,
     "metadata": {},
     "output_type": "execute_result"
    }
   ],
   "source": [
    "df.describe()"
   ]
  },
  {
   "cell_type": "code",
   "execution_count": 103,
   "id": "0b186a22",
   "metadata": {},
   "outputs": [
    {
     "data": {
      "text/plain": [
       "count        185711\n",
       "unique          131\n",
       "top       18/2/2007\n",
       "freq           1440\n",
       "Name: Date, dtype: object"
      ]
     },
     "execution_count": 103,
     "metadata": {},
     "output_type": "execute_result"
    }
   ],
   "source": [
    "df['Date'].describe()"
   ]
  },
  {
   "cell_type": "code",
   "execution_count": 104,
   "id": "0f34818f",
   "metadata": {},
   "outputs": [
    {
     "data": {
      "text/plain": [
       "Date                     0\n",
       "Time                     0\n",
       "Global_active_power      0\n",
       "Global_reactive_power    0\n",
       "Voltage                  0\n",
       "Global_intensity         0\n",
       "Sub_metering_1           0\n",
       "Sub_metering_2           0\n",
       "Sub_metering_3           9\n",
       "dtype: int64"
      ]
     },
     "execution_count": 104,
     "metadata": {},
     "output_type": "execute_result"
    }
   ],
   "source": [
    "df.isna().sum()"
   ]
  },
  {
   "cell_type": "code",
   "execution_count": 105,
   "id": "5201469c",
   "metadata": {},
   "outputs": [
    {
     "data": {
      "text/plain": [
       "<AxesSubplot:>"
      ]
     },
     "execution_count": 105,
     "metadata": {},
     "output_type": "execute_result"
    },
    {
     "data": {
      "image/png": "[encoded data removed]",
      "text/plain": [
       "<Figure size 864x288 with 2 Axes>"
      ]
     },
     "metadata": {
      "needs_background": "light"
     },
     "output_type": "display_data"
    }
   ],
   "source": [
    "# Number of missing data.\n",
    "msno.matrix(df, figsize=(12, 4))"
   ]
  },
  {
   "cell_type": "code",
   "execution_count": 106,
   "id": "8918b687",
   "metadata": {},
   "outputs": [],
   "source": [
    "# Replace all ? with NAN. \n",
    "# This is useful in cases when you know the origin of the data and can be certain which values should be missing.\n",
    "# Inplace=True parameter means that the changes will be made directly to the original DataFrame. (df), and it won't return a new DataFrame. Instead, the existing DataFrame is modified.\n",
    "df.replace('?', np.nan, inplace=True)\n",
    "df.replace(' ', np.nan, inplace=True)\n",
    "df.replace('  ', np.nan, inplace=True)\n",
    "df.replace('   ', np.nan, inplace=True)"
   ]
  },
  {
   "cell_type": "code",
   "execution_count": 107,
   "id": "1cc172cd",
   "metadata": {},
   "outputs": [
    {
     "data": {
      "text/plain": [
       "18/2/2007     1440\n",
       "22/4/2007     1440\n",
       "19/3/2007     1440\n",
       "18/3/2007     1440\n",
       "17/3/2007     1440\n",
       "              ... \n",
       "21/4/2007     1440\n",
       "20/1/2007     1439\n",
       "24/4/2007      995\n",
       "16/12/2006     396\n",
       "8                1\n",
       "Name: Date, Length: 131, dtype: int64"
      ]
     },
     "execution_count": 107,
     "metadata": {},
     "output_type": "execute_result"
    }
   ],
   "source": [
    "# 24*60 = 1440 \n",
    "df['Date'].value_counts()"
   ]
  },
  {
   "cell_type": "code",
   "execution_count": 108,
   "id": "d12de301",
   "metadata": {},
   "outputs": [
    {
     "data": {
      "text/html": [
       "<div>\n",
       "<style scoped>\n",
       "    .dataframe tbody tr th:only-of-type {\n",
       "        vertical-align: middle;\n",
       "    }\n",
       "\n",
       "    .dataframe tbody tr th {\n",
       "        vertical-align: top;\n",
       "    }\n",
       "\n",
       "    .dataframe thead th {\n",
       "        text-align: right;\n",
       "    }\n",
       "</style>\n",
       "<table border=\"1\" class=\"dataframe\">\n",
       "  <thead>\n",
       "    <tr style=\"text-align: right;\">\n",
       "      <th></th>\n",
       "      <th>Date</th>\n",
       "      <th>Time</th>\n",
       "      <th>Global_active_power</th>\n",
       "      <th>Global_reactive_power</th>\n",
       "      <th>Voltage</th>\n",
       "      <th>Global_intensity</th>\n",
       "      <th>Sub_metering_1</th>\n",
       "      <th>Sub_metering_2</th>\n",
       "      <th>Sub_metering_3</th>\n",
       "    </tr>\n",
       "  </thead>\n",
       "  <tbody>\n",
       "    <tr>\n",
       "      <th>49850</th>\n",
       "      <td>20/1/2007</td>\n",
       "      <td>08:14:00</td>\n",
       "      <td>1.122</td>\n",
       "      <td>0.106</td>\n",
       "      <td>237.880</td>\n",
       "      <td>4.800</td>\n",
       "      <td>0.000</td>\n",
       "      <td>0.000</td>\n",
       "      <td>0.0</td>\n",
       "    </tr>\n",
       "    <tr>\n",
       "      <th>49851</th>\n",
       "      <td>20/1/2007</td>\n",
       "      <td>08:15:00</td>\n",
       "      <td>1.122</td>\n",
       "      <td>0.108</td>\n",
       "      <td>238.400</td>\n",
       "      <td>4.600</td>\n",
       "      <td>0.000</td>\n",
       "      <td>0.000</td>\n",
       "      <td>0.0</td>\n",
       "    </tr>\n",
       "    <tr>\n",
       "      <th>49852</th>\n",
       "      <td>20/1/2007</td>\n",
       "      <td>08:16:00</td>\n",
       "      <td>1.118</td>\n",
       "      <td>0.108</td>\n",
       "      <td>238.230</td>\n",
       "      <td>4.600</td>\n",
       "      <td>0.000</td>\n",
       "      <td>0.000</td>\n",
       "      <td>0.0</td>\n",
       "    </tr>\n",
       "    <tr>\n",
       "      <th>49853</th>\n",
       "      <td>20/1/2007</td>\n",
       "      <td>08:17:00</td>\n",
       "      <td>1.606</td>\n",
       "      <td>0.102</td>\n",
       "      <td>237.830</td>\n",
       "      <td>7.600</td>\n",
       "      <td>0.000</td>\n",
       "      <td>0.000</td>\n",
       "      <td>0.0</td>\n",
       "    </tr>\n",
       "    <tr>\n",
       "      <th>49854</th>\n",
       "      <td>20/1/2007</td>\n",
       "      <td>08:18:00</td>\n",
       "      <td>3.124</td>\n",
       "      <td>0.084</td>\n",
       "      <td>236.420</td>\n",
       "      <td>13.200</td>\n",
       "      <td>0.000</td>\n",
       "      <td>0.000</td>\n",
       "      <td>0.0</td>\n",
       "    </tr>\n",
       "    <tr>\n",
       "      <th>49855</th>\n",
       "      <td>8</td>\n",
       "      <td>08:19:00</td>\n",
       "      <td>2.984</td>\n",
       "      <td>0.086</td>\n",
       "      <td>236.340</td>\n",
       "      <td>12.600</td>\n",
       "      <td>0.000</td>\n",
       "      <td>0.000</td>\n",
       "      <td>0.0</td>\n",
       "    </tr>\n",
       "    <tr>\n",
       "      <th>49856</th>\n",
       "      <td>20/1/2007</td>\n",
       "      <td>08:20:00</td>\n",
       "      <td>1.622</td>\n",
       "      <td>0.102</td>\n",
       "      <td>238.160</td>\n",
       "      <td>7.800</td>\n",
       "      <td>0.000</td>\n",
       "      <td>0.000</td>\n",
       "      <td>0.0</td>\n",
       "    </tr>\n",
       "    <tr>\n",
       "      <th>49857</th>\n",
       "      <td>20/1/2007</td>\n",
       "      <td>08:21:00</td>\n",
       "      <td>0.840</td>\n",
       "      <td>0.114</td>\n",
       "      <td>239.480</td>\n",
       "      <td>3.600</td>\n",
       "      <td>0.000</td>\n",
       "      <td>0.000</td>\n",
       "      <td>0.0</td>\n",
       "    </tr>\n",
       "    <tr>\n",
       "      <th>49858</th>\n",
       "      <td>20/1/2007</td>\n",
       "      <td>08:22:00</td>\n",
       "      <td>0.828</td>\n",
       "      <td>0.112</td>\n",
       "      <td>239.070</td>\n",
       "      <td>3.400</td>\n",
       "      <td>0.000</td>\n",
       "      <td>0.000</td>\n",
       "      <td>0.0</td>\n",
       "    </tr>\n",
       "    <tr>\n",
       "      <th>49859</th>\n",
       "      <td>20/1/2007</td>\n",
       "      <td>08:23:00</td>\n",
       "      <td>0.834</td>\n",
       "      <td>0.118</td>\n",
       "      <td>240.460</td>\n",
       "      <td>3.400</td>\n",
       "      <td>0.000</td>\n",
       "      <td>0.000</td>\n",
       "      <td>0.0</td>\n",
       "    </tr>\n",
       "  </tbody>\n",
       "</table>\n",
       "</div>"
      ],
      "text/plain": [
       "            Date      Time Global_active_power Global_reactive_power  Voltage  \\\n",
       "49850  20/1/2007  08:14:00               1.122                 0.106  237.880   \n",
       "49851  20/1/2007  08:15:00               1.122                 0.108  238.400   \n",
       "49852  20/1/2007  08:16:00               1.118                 0.108  238.230   \n",
       "49853  20/1/2007  08:17:00               1.606                 0.102  237.830   \n",
       "49854  20/1/2007  08:18:00               3.124                 0.084  236.420   \n",
       "49855          8  08:19:00               2.984                 0.086  236.340   \n",
       "49856  20/1/2007  08:20:00               1.622                 0.102  238.160   \n",
       "49857  20/1/2007  08:21:00               0.840                 0.114  239.480   \n",
       "49858  20/1/2007  08:22:00               0.828                 0.112  239.070   \n",
       "49859  20/1/2007  08:23:00               0.834                 0.118  240.460   \n",
       "\n",
       "      Global_intensity Sub_metering_1 Sub_metering_2  Sub_metering_3  \n",
       "49850            4.800          0.000          0.000             0.0  \n",
       "49851            4.600          0.000          0.000             0.0  \n",
       "49852            4.600          0.000          0.000             0.0  \n",
       "49853            7.600          0.000          0.000             0.0  \n",
       "49854           13.200          0.000          0.000             0.0  \n",
       "49855           12.600          0.000          0.000             0.0  \n",
       "49856            7.800          0.000          0.000             0.0  \n",
       "49857            3.600          0.000          0.000             0.0  \n",
       "49858            3.400          0.000          0.000             0.0  \n",
       "49859            3.400          0.000          0.000             0.0  "
      ]
     },
     "execution_count": 108,
     "metadata": {},
     "output_type": "execute_result"
    }
   ],
   "source": [
    "df.iloc[49850:49860,:]"
   ]
  },
  {
   "cell_type": "code",
   "execution_count": 109,
   "id": "9401dd44",
   "metadata": {},
   "outputs": [],
   "source": [
    "df.replace({'8': '20/1/2007'}, inplace=True)"
   ]
  },
  {
   "cell_type": "code",
   "execution_count": 110,
   "id": "331521cb",
   "metadata": {},
   "outputs": [
    {
     "data": {
      "text/html": [
       "<div>\n",
       "<style scoped>\n",
       "    .dataframe tbody tr th:only-of-type {\n",
       "        vertical-align: middle;\n",
       "    }\n",
       "\n",
       "    .dataframe tbody tr th {\n",
       "        vertical-align: top;\n",
       "    }\n",
       "\n",
       "    .dataframe thead th {\n",
       "        text-align: right;\n",
       "    }\n",
       "</style>\n",
       "<table border=\"1\" class=\"dataframe\">\n",
       "  <thead>\n",
       "    <tr style=\"text-align: right;\">\n",
       "      <th></th>\n",
       "      <th>Date</th>\n",
       "      <th>Time</th>\n",
       "      <th>Global_active_power</th>\n",
       "      <th>Global_reactive_power</th>\n",
       "      <th>Voltage</th>\n",
       "      <th>Global_intensity</th>\n",
       "      <th>Sub_metering_1</th>\n",
       "      <th>Sub_metering_2</th>\n",
       "      <th>Sub_metering_3</th>\n",
       "    </tr>\n",
       "  </thead>\n",
       "  <tbody>\n",
       "    <tr>\n",
       "      <th>49850</th>\n",
       "      <td>20/1/2007</td>\n",
       "      <td>08:14:00</td>\n",
       "      <td>1.122</td>\n",
       "      <td>0.106</td>\n",
       "      <td>237.880</td>\n",
       "      <td>4.800</td>\n",
       "      <td>0.000</td>\n",
       "      <td>0.000</td>\n",
       "      <td>0.0</td>\n",
       "    </tr>\n",
       "    <tr>\n",
       "      <th>49851</th>\n",
       "      <td>20/1/2007</td>\n",
       "      <td>08:15:00</td>\n",
       "      <td>1.122</td>\n",
       "      <td>0.108</td>\n",
       "      <td>238.400</td>\n",
       "      <td>4.600</td>\n",
       "      <td>0.000</td>\n",
       "      <td>0.000</td>\n",
       "      <td>0.0</td>\n",
       "    </tr>\n",
       "    <tr>\n",
       "      <th>49852</th>\n",
       "      <td>20/1/2007</td>\n",
       "      <td>08:16:00</td>\n",
       "      <td>1.118</td>\n",
       "      <td>0.108</td>\n",
       "      <td>238.230</td>\n",
       "      <td>4.600</td>\n",
       "      <td>0.000</td>\n",
       "      <td>0.000</td>\n",
       "      <td>0.0</td>\n",
       "    </tr>\n",
       "    <tr>\n",
       "      <th>49853</th>\n",
       "      <td>20/1/2007</td>\n",
       "      <td>08:17:00</td>\n",
       "      <td>1.606</td>\n",
       "      <td>0.102</td>\n",
       "      <td>237.830</td>\n",
       "      <td>7.600</td>\n",
       "      <td>0.000</td>\n",
       "      <td>0.000</td>\n",
       "      <td>0.0</td>\n",
       "    </tr>\n",
       "    <tr>\n",
       "      <th>49854</th>\n",
       "      <td>20/1/2007</td>\n",
       "      <td>08:18:00</td>\n",
       "      <td>3.124</td>\n",
       "      <td>0.084</td>\n",
       "      <td>236.420</td>\n",
       "      <td>13.200</td>\n",
       "      <td>0.000</td>\n",
       "      <td>0.000</td>\n",
       "      <td>0.0</td>\n",
       "    </tr>\n",
       "    <tr>\n",
       "      <th>49855</th>\n",
       "      <td>20/1/2007</td>\n",
       "      <td>08:19:00</td>\n",
       "      <td>2.984</td>\n",
       "      <td>0.086</td>\n",
       "      <td>236.340</td>\n",
       "      <td>12.600</td>\n",
       "      <td>0.000</td>\n",
       "      <td>0.000</td>\n",
       "      <td>0.0</td>\n",
       "    </tr>\n",
       "    <tr>\n",
       "      <th>49856</th>\n",
       "      <td>20/1/2007</td>\n",
       "      <td>08:20:00</td>\n",
       "      <td>1.622</td>\n",
       "      <td>0.102</td>\n",
       "      <td>238.160</td>\n",
       "      <td>7.800</td>\n",
       "      <td>0.000</td>\n",
       "      <td>0.000</td>\n",
       "      <td>0.0</td>\n",
       "    </tr>\n",
       "    <tr>\n",
       "      <th>49857</th>\n",
       "      <td>20/1/2007</td>\n",
       "      <td>08:21:00</td>\n",
       "      <td>0.840</td>\n",
       "      <td>0.114</td>\n",
       "      <td>239.480</td>\n",
       "      <td>3.600</td>\n",
       "      <td>0.000</td>\n",
       "      <td>0.000</td>\n",
       "      <td>0.0</td>\n",
       "    </tr>\n",
       "    <tr>\n",
       "      <th>49858</th>\n",
       "      <td>20/1/2007</td>\n",
       "      <td>08:22:00</td>\n",
       "      <td>0.828</td>\n",
       "      <td>0.112</td>\n",
       "      <td>239.070</td>\n",
       "      <td>3.400</td>\n",
       "      <td>0.000</td>\n",
       "      <td>0.000</td>\n",
       "      <td>0.0</td>\n",
       "    </tr>\n",
       "    <tr>\n",
       "      <th>49859</th>\n",
       "      <td>20/1/2007</td>\n",
       "      <td>08:23:00</td>\n",
       "      <td>0.834</td>\n",
       "      <td>0.118</td>\n",
       "      <td>240.460</td>\n",
       "      <td>3.400</td>\n",
       "      <td>0.000</td>\n",
       "      <td>0.000</td>\n",
       "      <td>0.0</td>\n",
       "    </tr>\n",
       "  </tbody>\n",
       "</table>\n",
       "</div>"
      ],
      "text/plain": [
       "            Date      Time Global_active_power Global_reactive_power  Voltage  \\\n",
       "49850  20/1/2007  08:14:00               1.122                 0.106  237.880   \n",
       "49851  20/1/2007  08:15:00               1.122                 0.108  238.400   \n",
       "49852  20/1/2007  08:16:00               1.118                 0.108  238.230   \n",
       "49853  20/1/2007  08:17:00               1.606                 0.102  237.830   \n",
       "49854  20/1/2007  08:18:00               3.124                 0.084  236.420   \n",
       "49855  20/1/2007  08:19:00               2.984                 0.086  236.340   \n",
       "49856  20/1/2007  08:20:00               1.622                 0.102  238.160   \n",
       "49857  20/1/2007  08:21:00               0.840                 0.114  239.480   \n",
       "49858  20/1/2007  08:22:00               0.828                 0.112  239.070   \n",
       "49859  20/1/2007  08:23:00               0.834                 0.118  240.460   \n",
       "\n",
       "      Global_intensity Sub_metering_1 Sub_metering_2  Sub_metering_3  \n",
       "49850            4.800          0.000          0.000             0.0  \n",
       "49851            4.600          0.000          0.000             0.0  \n",
       "49852            4.600          0.000          0.000             0.0  \n",
       "49853            7.600          0.000          0.000             0.0  \n",
       "49854           13.200          0.000          0.000             0.0  \n",
       "49855           12.600          0.000          0.000             0.0  \n",
       "49856            7.800          0.000          0.000             0.0  \n",
       "49857            3.600          0.000          0.000             0.0  \n",
       "49858            3.400          0.000          0.000             0.0  \n",
       "49859            3.400          0.000          0.000             0.0  "
      ]
     },
     "execution_count": 110,
     "metadata": {},
     "output_type": "execute_result"
    }
   ],
   "source": [
    "df.iloc[49850:49860,:]"
   ]
  },
  {
   "cell_type": "code",
   "execution_count": 111,
   "id": "bd51d489",
   "metadata": {},
   "outputs": [
    {
     "data": {
      "text/html": [
       "<div>\n",
       "<style scoped>\n",
       "    .dataframe tbody tr th:only-of-type {\n",
       "        vertical-align: middle;\n",
       "    }\n",
       "\n",
       "    .dataframe tbody tr th {\n",
       "        vertical-align: top;\n",
       "    }\n",
       "\n",
       "    .dataframe thead th {\n",
       "        text-align: right;\n",
       "    }\n",
       "</style>\n",
       "<table border=\"1\" class=\"dataframe\">\n",
       "  <thead>\n",
       "    <tr style=\"text-align: right;\">\n",
       "      <th></th>\n",
       "      <th>Date</th>\n",
       "      <th>Time</th>\n",
       "      <th>Global_active_power</th>\n",
       "      <th>Global_reactive_power</th>\n",
       "      <th>Voltage</th>\n",
       "      <th>Global_intensity</th>\n",
       "      <th>Sub_metering_1</th>\n",
       "      <th>Sub_metering_2</th>\n",
       "      <th>Sub_metering_3</th>\n",
       "    </tr>\n",
       "  </thead>\n",
       "  <tbody>\n",
       "    <tr>\n",
       "      <th>49860</th>\n",
       "      <td>20/1/2007</td>\n",
       "      <td>08:24:00</td>\n",
       "      <td>1.212</td>\n",
       "      <td>0.110</td>\n",
       "      <td>239.990</td>\n",
       "      <td>6.000</td>\n",
       "      <td>0.000</td>\n",
       "      <td>0.000</td>\n",
       "      <td>0.0</td>\n",
       "    </tr>\n",
       "    <tr>\n",
       "      <th>49861</th>\n",
       "      <td>20/1/2007</td>\n",
       "      <td>08:25:00</td>\n",
       "      <td>2.844</td>\n",
       "      <td>0.088</td>\n",
       "      <td>237.700</td>\n",
       "      <td>12.000</td>\n",
       "      <td>0.000</td>\n",
       "      <td>0.000</td>\n",
       "      <td>0.0</td>\n",
       "    </tr>\n",
       "    <tr>\n",
       "      <th>49862</th>\n",
       "      <td>20/1/2007</td>\n",
       "      <td>08:26:00</td>\n",
       "      <td>2.832</td>\n",
       "      <td>0.084</td>\n",
       "      <td>237.050</td>\n",
       "      <td>11.800</td>\n",
       "      <td>0.000</td>\n",
       "      <td>0.000</td>\n",
       "      <td>0.0</td>\n",
       "    </tr>\n",
       "    <tr>\n",
       "      <th>49863</th>\n",
       "      <td>20/1/2007</td>\n",
       "      <td>08:27:00</td>\n",
       "      <td>1.378</td>\n",
       "      <td>0.102</td>\n",
       "      <td>238.520</td>\n",
       "      <td>6.800</td>\n",
       "      <td>0.000</td>\n",
       "      <td>0.000</td>\n",
       "      <td>0.0</td>\n",
       "    </tr>\n",
       "    <tr>\n",
       "      <th>49864</th>\n",
       "      <td>20/1/2007</td>\n",
       "      <td>08:28:00</td>\n",
       "      <td>0.960</td>\n",
       "      <td>0.114</td>\n",
       "      <td>240.700</td>\n",
       "      <td>4.000</td>\n",
       "      <td>0.000</td>\n",
       "      <td>0.000</td>\n",
       "      <td>0.0</td>\n",
       "    </tr>\n",
       "    <tr>\n",
       "      <th>49865</th>\n",
       "      <td>20/1/2007</td>\n",
       "      <td>08:29:00</td>\n",
       "      <td>1.160</td>\n",
       "      <td>0.116</td>\n",
       "      <td>241.690</td>\n",
       "      <td>5.000</td>\n",
       "      <td>0.000</td>\n",
       "      <td>0.000</td>\n",
       "      <td>0.0</td>\n",
       "    </tr>\n",
       "    <tr>\n",
       "      <th>49866</th>\n",
       "      <td>20/1/2007</td>\n",
       "      <td>08:30:00</td>\n",
       "      <td>1.942</td>\n",
       "      <td>0.108</td>\n",
       "      <td>240.170</td>\n",
       "      <td>8.000</td>\n",
       "      <td>0.000</td>\n",
       "      <td>0.000</td>\n",
       "      <td>0.0</td>\n",
       "    </tr>\n",
       "    <tr>\n",
       "      <th>49867</th>\n",
       "      <td>20/1/2007</td>\n",
       "      <td>08:31:00</td>\n",
       "      <td>2.080</td>\n",
       "      <td>0.106</td>\n",
       "      <td>239.990</td>\n",
       "      <td>8.800</td>\n",
       "      <td>0.000</td>\n",
       "      <td>0.000</td>\n",
       "      <td>0.0</td>\n",
       "    </tr>\n",
       "    <tr>\n",
       "      <th>49868</th>\n",
       "      <td>20/1/2007</td>\n",
       "      <td>08:32:00</td>\n",
       "      <td>3.980</td>\n",
       "      <td>0.216</td>\n",
       "      <td>238.420</td>\n",
       "      <td>16.600</td>\n",
       "      <td>0.000</td>\n",
       "      <td>0.000</td>\n",
       "      <td>0.0</td>\n",
       "    </tr>\n",
       "    <tr>\n",
       "      <th>49869</th>\n",
       "      <td>20/1/2007</td>\n",
       "      <td>08:33:00</td>\n",
       "      <td>4.048</td>\n",
       "      <td>0.316</td>\n",
       "      <td>238.640</td>\n",
       "      <td>17.000</td>\n",
       "      <td>0.000</td>\n",
       "      <td>0.000</td>\n",
       "      <td>0.0</td>\n",
       "    </tr>\n",
       "  </tbody>\n",
       "</table>\n",
       "</div>"
      ],
      "text/plain": [
       "            Date      Time Global_active_power Global_reactive_power  Voltage  \\\n",
       "49860  20/1/2007  08:24:00               1.212                 0.110  239.990   \n",
       "49861  20/1/2007  08:25:00               2.844                 0.088  237.700   \n",
       "49862  20/1/2007  08:26:00               2.832                 0.084  237.050   \n",
       "49863  20/1/2007  08:27:00               1.378                 0.102  238.520   \n",
       "49864  20/1/2007  08:28:00               0.960                 0.114  240.700   \n",
       "49865  20/1/2007  08:29:00               1.160                 0.116  241.690   \n",
       "49866  20/1/2007  08:30:00               1.942                 0.108  240.170   \n",
       "49867  20/1/2007  08:31:00               2.080                 0.106  239.990   \n",
       "49868  20/1/2007  08:32:00               3.980                 0.216  238.420   \n",
       "49869  20/1/2007  08:33:00               4.048                 0.316  238.640   \n",
       "\n",
       "      Global_intensity Sub_metering_1 Sub_metering_2  Sub_metering_3  \n",
       "49860            6.000          0.000          0.000             0.0  \n",
       "49861           12.000          0.000          0.000             0.0  \n",
       "49862           11.800          0.000          0.000             0.0  \n",
       "49863            6.800          0.000          0.000             0.0  \n",
       "49864            4.000          0.000          0.000             0.0  \n",
       "49865            5.000          0.000          0.000             0.0  \n",
       "49866            8.000          0.000          0.000             0.0  \n",
       "49867            8.800          0.000          0.000             0.0  \n",
       "49868           16.600          0.000          0.000             0.0  \n",
       "49869           17.000          0.000          0.000             0.0  "
      ]
     },
     "execution_count": 111,
     "metadata": {},
     "output_type": "execute_result"
    }
   ],
   "source": [
    "df.iloc[49860:49870,:]"
   ]
  },
  {
   "cell_type": "code",
   "execution_count": 112,
   "id": "7e75efe1",
   "metadata": {},
   "outputs": [
    {
     "data": {
      "text/plain": [
       "(185711, 10)"
      ]
     },
     "execution_count": 112,
     "metadata": {},
     "output_type": "execute_result"
    }
   ],
   "source": [
    "# Check Duplicates\n",
    "df[\"is_duplicate\"]= df.duplicated()\n",
    "df.shape"
   ]
  },
  {
   "cell_type": "code",
   "execution_count": 113,
   "id": "8e4622f6",
   "metadata": {},
   "outputs": [
    {
     "data": {
      "text/plain": [
       "(185711, 9)"
      ]
     },
     "execution_count": 113,
     "metadata": {},
     "output_type": "execute_result"
    }
   ],
   "source": [
    "# Remove Duplicates \n",
    "df = df.drop_duplicates(subset=None,keep=\"first\") # Dropping duplicate rows\n",
    "df = df.drop(['is_duplicate'],axis=1)  # Dropping created 'is_duplicate' column \n",
    "df.shape"
   ]
  },
  {
   "cell_type": "code",
   "execution_count": 114,
   "id": "f306ce56",
   "metadata": {},
   "outputs": [
    {
     "name": "stdout",
     "output_type": "stream",
     "text": [
      "<class 'pandas.core.frame.DataFrame'>\n",
      "Int64Index: 185711 entries, 0 to 185710\n",
      "Data columns (total 9 columns):\n",
      " #   Column                 Non-Null Count   Dtype  \n",
      "---  ------                 --------------   -----  \n",
      " 0   Date                   185711 non-null  object \n",
      " 1   Time                   185711 non-null  object \n",
      " 2   Global_active_power    185701 non-null  object \n",
      " 3   Global_reactive_power  185702 non-null  object \n",
      " 4   Voltage                185701 non-null  object \n",
      " 5   Global_intensity       185700 non-null  object \n",
      " 6   Sub_metering_1         185702 non-null  object \n",
      " 7   Sub_metering_2         185702 non-null  object \n",
      " 8   Sub_metering_3         185702 non-null  float64\n",
      "dtypes: float64(1), object(8)\n",
      "memory usage: 14.2+ MB\n"
     ]
    }
   ],
   "source": [
    "df.info()"
   ]
  },
  {
   "cell_type": "code",
   "execution_count": 115,
   "id": "9fe54aa8",
   "metadata": {},
   "outputs": [],
   "source": [
    "# make dataset numeric\n",
    "df['Global_active_power'] = [float(x) for x in df['Global_active_power']]\n",
    "df['Global_reactive_power'] = [float(x) for x in df['Global_reactive_power']]\n",
    "df['Voltage'] = [float(x) for x in df['Voltage']]\n",
    "df['Global_intensity'] = [float(x) for x in df['Global_intensity']]\n",
    "df['Sub_metering_1'] = [float(x) for x in df['Sub_metering_1']]\n",
    "df['Sub_metering_2'] = [float(x) for x in df['Sub_metering_2']]\n",
    "df['Sub_metering_3'] = [float(x) for x in df['Sub_metering_3']]"
   ]
  },
  {
   "cell_type": "code",
   "execution_count": 116,
   "id": "ff72252b",
   "metadata": {},
   "outputs": [],
   "source": [
    "# Replace the missing values with the mean (avarage)\n",
    "df['Global_active_power'].fillna(df['Global_active_power'].mean(),inplace=True)\n",
    "df['Global_reactive_power'].fillna(df['Global_reactive_power'].mean(),inplace=True)\n",
    "df['Voltage'].fillna(df['Voltage'].mean(),inplace=True)\n",
    "df['Global_intensity'].fillna(df['Global_intensity'].mean(),inplace=True)\n",
    "df['Sub_metering_1'].fillna(df['Sub_metering_1'].mean(),inplace=True)\n",
    "df['Sub_metering_2'].fillna(df['Sub_metering_2'].mean(),inplace=True)\n",
    "df['Sub_metering_3'].fillna(df['Sub_metering_3'].mean(),inplace=True)"
   ]
  },
  {
   "cell_type": "code",
   "execution_count": 117,
   "id": "3bc825cf",
   "metadata": {},
   "outputs": [
    {
     "data": {
      "text/plain": [
       "count        185711\n",
       "unique          130\n",
       "top       19/2/2007\n",
       "freq           1440\n",
       "Name: Date, dtype: object"
      ]
     },
     "execution_count": 117,
     "metadata": {},
     "output_type": "execute_result"
    }
   ],
   "source": [
    "df['Date'].describe() # the unique values shows that there is a dataset of 130 day [from 2006-12-06 to 2007-04-24] \n",
    "                    #   and the top freq is 1440 [24 hours * 60 min] that means the data of each min a day"
   ]
  },
  {
   "cell_type": "code",
   "execution_count": 118,
   "id": "fdebddc1",
   "metadata": {},
   "outputs": [
    {
     "data": {
      "text/plain": [
       "Date                     0\n",
       "Time                     0\n",
       "Global_active_power      0\n",
       "Global_reactive_power    0\n",
       "Voltage                  0\n",
       "Global_intensity         0\n",
       "Sub_metering_1           0\n",
       "Sub_metering_2           0\n",
       "Sub_metering_3           0\n",
       "dtype: int64"
      ]
     },
     "execution_count": 118,
     "metadata": {},
     "output_type": "execute_result"
    }
   ],
   "source": [
    "df.isna().sum()"
   ]
  },
  {
   "cell_type": "code",
   "execution_count": 119,
   "id": "a045c910",
   "metadata": {},
   "outputs": [
    {
     "name": "stderr",
     "output_type": "stream",
     "text": [
      "C:\\Users\\User\\AppData\\Local\\Temp\\ipykernel_2404\\2686295383.py:3: SettingWithCopyWarning: \n",
      "A value is trying to be set on a copy of a slice from a DataFrame.\n",
      "Try using .loc[row_indexer,col_indexer] = value instead\n",
      "\n",
      "See the caveats in the documentation: https://pandas.pydata.org/pandas-docs/stable/user_guide/indexing.html#returning-a-view-versus-a-copy\n",
      "  df_plot['hour'] = pd.to_datetime(df['Time'], format='%H:%M:%S').dt.hour\n"
     ]
    },
    {
     "data": {
      "image/png": "[encoded data removed]",
      "text/plain": [
       "<Figure size 432x288 with 1 Axes>"
      ]
     },
     "metadata": {
      "needs_background": "light"
     },
     "output_type": "display_data"
    }
   ],
   "source": [
    "# Plot hourly Power Consumption for one day\n",
    "df_plot = df[df.Date == '18/2/2007']\n",
    "df_plot['hour'] = pd.to_datetime(df['Time'], format='%H:%M:%S').dt.hour\n",
    "hourly_data = df_plot[['hour', 'Global_active_power']]\n",
    "hourly_data = df_plot.groupby(['hour'], as_index = False)['Global_active_power'].agg('sum')\n",
    "plt.plot(hourly_data['hour'], hourly_data['Global_active_power'], 'b', linewidth=2.0)\n",
    "plt.xlabel('Hours')\n",
    "plt.ylabel('Power Consumption')\n",
    "plt.suptitle('One Day Power Consumption')\n",
    "plt.grid(True)\n",
    "plt.show()"
   ]
  },
  {
   "cell_type": "code",
   "execution_count": 120,
   "id": "a06c70fb-c179-4df4-b6a5-32557601c47b",
   "metadata": {},
   "outputs": [
    {
     "data": {
      "text/html": [
       "<div>\n",
       "<style scoped>\n",
       "    .dataframe tbody tr th:only-of-type {\n",
       "        vertical-align: middle;\n",
       "    }\n",
       "\n",
       "    .dataframe tbody tr th {\n",
       "        vertical-align: top;\n",
       "    }\n",
       "\n",
       "    .dataframe thead th {\n",
       "        text-align: right;\n",
       "    }\n",
       "</style>\n",
       "<table border=\"1\" class=\"dataframe\">\n",
       "  <thead>\n",
       "    <tr style=\"text-align: right;\">\n",
       "      <th></th>\n",
       "      <th>Date</th>\n",
       "      <th>Time</th>\n",
       "      <th>Global_active_power</th>\n",
       "      <th>Global_reactive_power</th>\n",
       "      <th>Voltage</th>\n",
       "      <th>Global_intensity</th>\n",
       "      <th>Sub_metering_1</th>\n",
       "      <th>Sub_metering_2</th>\n",
       "      <th>Sub_metering_3</th>\n",
       "      <th>DateTime</th>\n",
       "    </tr>\n",
       "  </thead>\n",
       "  <tbody>\n",
       "    <tr>\n",
       "      <th>0</th>\n",
       "      <td>16/12/2006</td>\n",
       "      <td>17:24:00</td>\n",
       "      <td>4.216</td>\n",
       "      <td>0.418</td>\n",
       "      <td>234.84</td>\n",
       "      <td>18.4</td>\n",
       "      <td>0.0</td>\n",
       "      <td>1.0</td>\n",
       "      <td>17.0</td>\n",
       "      <td>2006-12-16 17:24:00</td>\n",
       "    </tr>\n",
       "    <tr>\n",
       "      <th>1</th>\n",
       "      <td>16/12/2006</td>\n",
       "      <td>17:25:00</td>\n",
       "      <td>5.360</td>\n",
       "      <td>0.436</td>\n",
       "      <td>233.63</td>\n",
       "      <td>23.0</td>\n",
       "      <td>0.0</td>\n",
       "      <td>1.0</td>\n",
       "      <td>16.0</td>\n",
       "      <td>2006-12-16 17:25:00</td>\n",
       "    </tr>\n",
       "    <tr>\n",
       "      <th>2</th>\n",
       "      <td>16/12/2006</td>\n",
       "      <td>17:26:00</td>\n",
       "      <td>5.374</td>\n",
       "      <td>0.498</td>\n",
       "      <td>233.29</td>\n",
       "      <td>23.0</td>\n",
       "      <td>0.0</td>\n",
       "      <td>2.0</td>\n",
       "      <td>17.0</td>\n",
       "      <td>2006-12-16 17:26:00</td>\n",
       "    </tr>\n",
       "    <tr>\n",
       "      <th>3</th>\n",
       "      <td>16/12/2006</td>\n",
       "      <td>17:27:00</td>\n",
       "      <td>5.388</td>\n",
       "      <td>0.502</td>\n",
       "      <td>233.74</td>\n",
       "      <td>23.0</td>\n",
       "      <td>0.0</td>\n",
       "      <td>1.0</td>\n",
       "      <td>17.0</td>\n",
       "      <td>2006-12-16 17:27:00</td>\n",
       "    </tr>\n",
       "    <tr>\n",
       "      <th>4</th>\n",
       "      <td>16/12/2006</td>\n",
       "      <td>17:28:00</td>\n",
       "      <td>3.666</td>\n",
       "      <td>0.528</td>\n",
       "      <td>235.68</td>\n",
       "      <td>15.8</td>\n",
       "      <td>0.0</td>\n",
       "      <td>1.0</td>\n",
       "      <td>17.0</td>\n",
       "      <td>2006-12-16 17:28:00</td>\n",
       "    </tr>\n",
       "  </tbody>\n",
       "</table>\n",
       "</div>"
      ],
      "text/plain": [
       "         Date      Time  Global_active_power  Global_reactive_power  Voltage  \\\n",
       "0  16/12/2006  17:24:00                4.216                  0.418   234.84   \n",
       "1  16/12/2006  17:25:00                5.360                  0.436   233.63   \n",
       "2  16/12/2006  17:26:00                5.374                  0.498   233.29   \n",
       "3  16/12/2006  17:27:00                5.388                  0.502   233.74   \n",
       "4  16/12/2006  17:28:00                3.666                  0.528   235.68   \n",
       "\n",
       "   Global_intensity  Sub_metering_1  Sub_metering_2  Sub_metering_3  \\\n",
       "0              18.4             0.0             1.0            17.0   \n",
       "1              23.0             0.0             1.0            16.0   \n",
       "2              23.0             0.0             2.0            17.0   \n",
       "3              23.0             0.0             1.0            17.0   \n",
       "4              15.8             0.0             1.0            17.0   \n",
       "\n",
       "             DateTime  \n",
       "0 2006-12-16 17:24:00  \n",
       "1 2006-12-16 17:25:00  \n",
       "2 2006-12-16 17:26:00  \n",
       "3 2006-12-16 17:27:00  \n",
       "4 2006-12-16 17:28:00  "
      ]
     },
     "execution_count": 120,
     "metadata": {},
     "output_type": "execute_result"
    }
   ],
   "source": [
    "# merge Date and Time into a datetime\n",
    "util_series = df['Date'] + ' ' + df['Time']\n",
    "df['DateTime'] = util_series.apply(lambda x: datetime.strptime(x,'%d/%m/%Y %H:%M:%S'))\n",
    "df.head(5)"
   ]
  },
  {
   "cell_type": "code",
   "execution_count": 121,
   "id": "316b3112",
   "metadata": {},
   "outputs": [],
   "source": [
    "dt = df.copy()"
   ]
  },
  {
   "cell_type": "code",
   "execution_count": 122,
   "id": "8b0e7209-0b42-4e53-8173-26f83cc258d4",
   "metadata": {},
   "outputs": [
    {
     "data": {
      "text/html": [
       "<div>\n",
       "<style scoped>\n",
       "    .dataframe tbody tr th:only-of-type {\n",
       "        vertical-align: middle;\n",
       "    }\n",
       "\n",
       "    .dataframe tbody tr th {\n",
       "        vertical-align: top;\n",
       "    }\n",
       "\n",
       "    .dataframe thead th {\n",
       "        text-align: right;\n",
       "    }\n",
       "</style>\n",
       "<table border=\"1\" class=\"dataframe\">\n",
       "  <thead>\n",
       "    <tr style=\"text-align: right;\">\n",
       "      <th></th>\n",
       "      <th>Global_active_power</th>\n",
       "      <th>Global_reactive_power</th>\n",
       "      <th>Voltage</th>\n",
       "      <th>Global_intensity</th>\n",
       "      <th>Sub_metering_1</th>\n",
       "      <th>Sub_metering_2</th>\n",
       "      <th>Sub_metering_3</th>\n",
       "      <th>DateTime</th>\n",
       "    </tr>\n",
       "  </thead>\n",
       "  <tbody>\n",
       "    <tr>\n",
       "      <th>0</th>\n",
       "      <td>4.216</td>\n",
       "      <td>0.418</td>\n",
       "      <td>234.84</td>\n",
       "      <td>18.4</td>\n",
       "      <td>0.0</td>\n",
       "      <td>1.0</td>\n",
       "      <td>17.0</td>\n",
       "      <td>2006-12-16 17:24:00</td>\n",
       "    </tr>\n",
       "    <tr>\n",
       "      <th>1</th>\n",
       "      <td>5.360</td>\n",
       "      <td>0.436</td>\n",
       "      <td>233.63</td>\n",
       "      <td>23.0</td>\n",
       "      <td>0.0</td>\n",
       "      <td>1.0</td>\n",
       "      <td>16.0</td>\n",
       "      <td>2006-12-16 17:25:00</td>\n",
       "    </tr>\n",
       "    <tr>\n",
       "      <th>2</th>\n",
       "      <td>5.374</td>\n",
       "      <td>0.498</td>\n",
       "      <td>233.29</td>\n",
       "      <td>23.0</td>\n",
       "      <td>0.0</td>\n",
       "      <td>2.0</td>\n",
       "      <td>17.0</td>\n",
       "      <td>2006-12-16 17:26:00</td>\n",
       "    </tr>\n",
       "    <tr>\n",
       "      <th>3</th>\n",
       "      <td>5.388</td>\n",
       "      <td>0.502</td>\n",
       "      <td>233.74</td>\n",
       "      <td>23.0</td>\n",
       "      <td>0.0</td>\n",
       "      <td>1.0</td>\n",
       "      <td>17.0</td>\n",
       "      <td>2006-12-16 17:27:00</td>\n",
       "    </tr>\n",
       "    <tr>\n",
       "      <th>4</th>\n",
       "      <td>3.666</td>\n",
       "      <td>0.528</td>\n",
       "      <td>235.68</td>\n",
       "      <td>15.8</td>\n",
       "      <td>0.0</td>\n",
       "      <td>1.0</td>\n",
       "      <td>17.0</td>\n",
       "      <td>2006-12-16 17:28:00</td>\n",
       "    </tr>\n",
       "    <tr>\n",
       "      <th>...</th>\n",
       "      <td>...</td>\n",
       "      <td>...</td>\n",
       "      <td>...</td>\n",
       "      <td>...</td>\n",
       "      <td>...</td>\n",
       "      <td>...</td>\n",
       "      <td>...</td>\n",
       "      <td>...</td>\n",
       "    </tr>\n",
       "    <tr>\n",
       "      <th>185706</th>\n",
       "      <td>0.320</td>\n",
       "      <td>0.082</td>\n",
       "      <td>235.19</td>\n",
       "      <td>1.6</td>\n",
       "      <td>0.0</td>\n",
       "      <td>2.0</td>\n",
       "      <td>0.0</td>\n",
       "      <td>2007-04-24 16:30:00</td>\n",
       "    </tr>\n",
       "    <tr>\n",
       "      <th>185707</th>\n",
       "      <td>0.328</td>\n",
       "      <td>0.078</td>\n",
       "      <td>234.53</td>\n",
       "      <td>1.6</td>\n",
       "      <td>0.0</td>\n",
       "      <td>1.0</td>\n",
       "      <td>0.0</td>\n",
       "      <td>2007-04-24 16:31:00</td>\n",
       "    </tr>\n",
       "    <tr>\n",
       "      <th>185708</th>\n",
       "      <td>0.344</td>\n",
       "      <td>0.088</td>\n",
       "      <td>234.90</td>\n",
       "      <td>1.8</td>\n",
       "      <td>0.0</td>\n",
       "      <td>1.0</td>\n",
       "      <td>0.0</td>\n",
       "      <td>2007-04-24 16:32:00</td>\n",
       "    </tr>\n",
       "    <tr>\n",
       "      <th>185709</th>\n",
       "      <td>0.416</td>\n",
       "      <td>0.174</td>\n",
       "      <td>235.29</td>\n",
       "      <td>2.0</td>\n",
       "      <td>0.0</td>\n",
       "      <td>1.0</td>\n",
       "      <td>0.0</td>\n",
       "      <td>2007-04-24 16:33:00</td>\n",
       "    </tr>\n",
       "    <tr>\n",
       "      <th>185710</th>\n",
       "      <td>0.408</td>\n",
       "      <td>0.174</td>\n",
       "      <td>234.82</td>\n",
       "      <td>2.0</td>\n",
       "      <td>0.0</td>\n",
       "      <td>1.0</td>\n",
       "      <td>0.0</td>\n",
       "      <td>2007-04-24 16:34:00</td>\n",
       "    </tr>\n",
       "  </tbody>\n",
       "</table>\n",
       "<p>185711 rows × 8 columns</p>\n",
       "</div>"
      ],
      "text/plain": [
       "        Global_active_power  Global_reactive_power  Voltage  Global_intensity  \\\n",
       "0                     4.216                  0.418   234.84              18.4   \n",
       "1                     5.360                  0.436   233.63              23.0   \n",
       "2                     5.374                  0.498   233.29              23.0   \n",
       "3                     5.388                  0.502   233.74              23.0   \n",
       "4                     3.666                  0.528   235.68              15.8   \n",
       "...                     ...                    ...      ...               ...   \n",
       "185706                0.320                  0.082   235.19               1.6   \n",
       "185707                0.328                  0.078   234.53               1.6   \n",
       "185708                0.344                  0.088   234.90               1.8   \n",
       "185709                0.416                  0.174   235.29               2.0   \n",
       "185710                0.408                  0.174   234.82               2.0   \n",
       "\n",
       "        Sub_metering_1  Sub_metering_2  Sub_metering_3            DateTime  \n",
       "0                  0.0             1.0            17.0 2006-12-16 17:24:00  \n",
       "1                  0.0             1.0            16.0 2006-12-16 17:25:00  \n",
       "2                  0.0             2.0            17.0 2006-12-16 17:26:00  \n",
       "3                  0.0             1.0            17.0 2006-12-16 17:27:00  \n",
       "4                  0.0             1.0            17.0 2006-12-16 17:28:00  \n",
       "...                ...             ...             ...                 ...  \n",
       "185706             0.0             2.0             0.0 2007-04-24 16:30:00  \n",
       "185707             0.0             1.0             0.0 2007-04-24 16:31:00  \n",
       "185708             0.0             1.0             0.0 2007-04-24 16:32:00  \n",
       "185709             0.0             1.0             0.0 2007-04-24 16:33:00  \n",
       "185710             0.0             1.0             0.0 2007-04-24 16:34:00  \n",
       "\n",
       "[185711 rows x 8 columns]"
      ]
     },
     "execution_count": 122,
     "metadata": {},
     "output_type": "execute_result"
    }
   ],
   "source": [
    "#drop old Date and Time columns\n",
    "df.drop(columns = ['Date','Time'],inplace = True)\n",
    "df"
   ]
  },
  {
   "cell_type": "code",
   "execution_count": 123,
   "id": "9c694574-2cc5-4166-ac20-1ae0a1942171",
   "metadata": {},
   "outputs": [
    {
     "data": {
      "text/html": [
       "<div>\n",
       "<style scoped>\n",
       "    .dataframe tbody tr th:only-of-type {\n",
       "        vertical-align: middle;\n",
       "    }\n",
       "\n",
       "    .dataframe tbody tr th {\n",
       "        vertical-align: top;\n",
       "    }\n",
       "\n",
       "    .dataframe thead th {\n",
       "        text-align: right;\n",
       "    }\n",
       "</style>\n",
       "<table border=\"1\" class=\"dataframe\">\n",
       "  <thead>\n",
       "    <tr style=\"text-align: right;\">\n",
       "      <th></th>\n",
       "      <th>DateTime</th>\n",
       "      <th>Global_active_power</th>\n",
       "      <th>Global_reactive_power</th>\n",
       "      <th>Voltage</th>\n",
       "      <th>Global_intensity</th>\n",
       "      <th>Sub_metering_1</th>\n",
       "      <th>Sub_metering_2</th>\n",
       "      <th>Sub_metering_3</th>\n",
       "    </tr>\n",
       "  </thead>\n",
       "  <tbody>\n",
       "    <tr>\n",
       "      <th>0</th>\n",
       "      <td>2006-12-16 17:24:00</td>\n",
       "      <td>4.216</td>\n",
       "      <td>0.418</td>\n",
       "      <td>234.84</td>\n",
       "      <td>18.4</td>\n",
       "      <td>0.0</td>\n",
       "      <td>1.0</td>\n",
       "      <td>17.0</td>\n",
       "    </tr>\n",
       "    <tr>\n",
       "      <th>1</th>\n",
       "      <td>2006-12-16 17:25:00</td>\n",
       "      <td>5.360</td>\n",
       "      <td>0.436</td>\n",
       "      <td>233.63</td>\n",
       "      <td>23.0</td>\n",
       "      <td>0.0</td>\n",
       "      <td>1.0</td>\n",
       "      <td>16.0</td>\n",
       "    </tr>\n",
       "    <tr>\n",
       "      <th>2</th>\n",
       "      <td>2006-12-16 17:26:00</td>\n",
       "      <td>5.374</td>\n",
       "      <td>0.498</td>\n",
       "      <td>233.29</td>\n",
       "      <td>23.0</td>\n",
       "      <td>0.0</td>\n",
       "      <td>2.0</td>\n",
       "      <td>17.0</td>\n",
       "    </tr>\n",
       "    <tr>\n",
       "      <th>3</th>\n",
       "      <td>2006-12-16 17:27:00</td>\n",
       "      <td>5.388</td>\n",
       "      <td>0.502</td>\n",
       "      <td>233.74</td>\n",
       "      <td>23.0</td>\n",
       "      <td>0.0</td>\n",
       "      <td>1.0</td>\n",
       "      <td>17.0</td>\n",
       "    </tr>\n",
       "    <tr>\n",
       "      <th>4</th>\n",
       "      <td>2006-12-16 17:28:00</td>\n",
       "      <td>3.666</td>\n",
       "      <td>0.528</td>\n",
       "      <td>235.68</td>\n",
       "      <td>15.8</td>\n",
       "      <td>0.0</td>\n",
       "      <td>1.0</td>\n",
       "      <td>17.0</td>\n",
       "    </tr>\n",
       "    <tr>\n",
       "      <th>...</th>\n",
       "      <td>...</td>\n",
       "      <td>...</td>\n",
       "      <td>...</td>\n",
       "      <td>...</td>\n",
       "      <td>...</td>\n",
       "      <td>...</td>\n",
       "      <td>...</td>\n",
       "      <td>...</td>\n",
       "    </tr>\n",
       "    <tr>\n",
       "      <th>185706</th>\n",
       "      <td>2007-04-24 16:30:00</td>\n",
       "      <td>0.320</td>\n",
       "      <td>0.082</td>\n",
       "      <td>235.19</td>\n",
       "      <td>1.6</td>\n",
       "      <td>0.0</td>\n",
       "      <td>2.0</td>\n",
       "      <td>0.0</td>\n",
       "    </tr>\n",
       "    <tr>\n",
       "      <th>185707</th>\n",
       "      <td>2007-04-24 16:31:00</td>\n",
       "      <td>0.328</td>\n",
       "      <td>0.078</td>\n",
       "      <td>234.53</td>\n",
       "      <td>1.6</td>\n",
       "      <td>0.0</td>\n",
       "      <td>1.0</td>\n",
       "      <td>0.0</td>\n",
       "    </tr>\n",
       "    <tr>\n",
       "      <th>185708</th>\n",
       "      <td>2007-04-24 16:32:00</td>\n",
       "      <td>0.344</td>\n",
       "      <td>0.088</td>\n",
       "      <td>234.90</td>\n",
       "      <td>1.8</td>\n",
       "      <td>0.0</td>\n",
       "      <td>1.0</td>\n",
       "      <td>0.0</td>\n",
       "    </tr>\n",
       "    <tr>\n",
       "      <th>185709</th>\n",
       "      <td>2007-04-24 16:33:00</td>\n",
       "      <td>0.416</td>\n",
       "      <td>0.174</td>\n",
       "      <td>235.29</td>\n",
       "      <td>2.0</td>\n",
       "      <td>0.0</td>\n",
       "      <td>1.0</td>\n",
       "      <td>0.0</td>\n",
       "    </tr>\n",
       "    <tr>\n",
       "      <th>185710</th>\n",
       "      <td>2007-04-24 16:34:00</td>\n",
       "      <td>0.408</td>\n",
       "      <td>0.174</td>\n",
       "      <td>234.82</td>\n",
       "      <td>2.0</td>\n",
       "      <td>0.0</td>\n",
       "      <td>1.0</td>\n",
       "      <td>0.0</td>\n",
       "    </tr>\n",
       "  </tbody>\n",
       "</table>\n",
       "<p>185711 rows × 8 columns</p>\n",
       "</div>"
      ],
      "text/plain": [
       "                  DateTime  Global_active_power  Global_reactive_power  \\\n",
       "0      2006-12-16 17:24:00                4.216                  0.418   \n",
       "1      2006-12-16 17:25:00                5.360                  0.436   \n",
       "2      2006-12-16 17:26:00                5.374                  0.498   \n",
       "3      2006-12-16 17:27:00                5.388                  0.502   \n",
       "4      2006-12-16 17:28:00                3.666                  0.528   \n",
       "...                    ...                  ...                    ...   \n",
       "185706 2007-04-24 16:30:00                0.320                  0.082   \n",
       "185707 2007-04-24 16:31:00                0.328                  0.078   \n",
       "185708 2007-04-24 16:32:00                0.344                  0.088   \n",
       "185709 2007-04-24 16:33:00                0.416                  0.174   \n",
       "185710 2007-04-24 16:34:00                0.408                  0.174   \n",
       "\n",
       "        Voltage  Global_intensity  Sub_metering_1  Sub_metering_2  \\\n",
       "0        234.84              18.4             0.0             1.0   \n",
       "1        233.63              23.0             0.0             1.0   \n",
       "2        233.29              23.0             0.0             2.0   \n",
       "3        233.74              23.0             0.0             1.0   \n",
       "4        235.68              15.8             0.0             1.0   \n",
       "...         ...               ...             ...             ...   \n",
       "185706   235.19               1.6             0.0             2.0   \n",
       "185707   234.53               1.6             0.0             1.0   \n",
       "185708   234.90               1.8             0.0             1.0   \n",
       "185709   235.29               2.0             0.0             1.0   \n",
       "185710   234.82               2.0             0.0             1.0   \n",
       "\n",
       "        Sub_metering_3  \n",
       "0                 17.0  \n",
       "1                 16.0  \n",
       "2                 17.0  \n",
       "3                 17.0  \n",
       "4                 17.0  \n",
       "...                ...  \n",
       "185706             0.0  \n",
       "185707             0.0  \n",
       "185708             0.0  \n",
       "185709             0.0  \n",
       "185710             0.0  \n",
       "\n",
       "[185711 rows x 8 columns]"
      ]
     },
     "execution_count": 123,
     "metadata": {},
     "output_type": "execute_result"
    }
   ],
   "source": [
    "# Rearranging columns\n",
    "cols = list(df.columns)\n",
    "cols = cols[-1:] + cols[:-1]\n",
    "data = df[cols]\n",
    "data"
   ]
  },
  {
   "cell_type": "markdown",
   "id": "4899f46a",
   "metadata": {},
   "source": [
    "## Data Analysis"
   ]
  },
  {
   "cell_type": "code",
   "execution_count": 124,
   "id": "3fdf3722",
   "metadata": {},
   "outputs": [
    {
     "data": {
      "text/plain": [
       "[<matplotlib.lines.Line2D at 0x28fbbf8eeb0>]"
      ]
     },
     "execution_count": 124,
     "metadata": {},
     "output_type": "execute_result"
    },
    {
     "data": {
      "image/png": "[encoded data removed]",
      "text/plain": [
       "<Figure size 2880x720 with 1 Axes>"
      ]
     },
     "metadata": {
      "needs_background": "light"
     },
     "output_type": "display_data"
    }
   ],
   "source": [
    "plt.figure(figsize=(40,10))\n",
    "\n",
    "# plot for 5 days = 7200 minutes\n",
    "plt.plot(data['DateTime'][:7200],[float(x) for x in data['Global_active_power']][:7200])"
   ]
  },
  {
   "cell_type": "code",
   "execution_count": 125,
   "id": "36bbcd20",
   "metadata": {},
   "outputs": [
    {
     "data": {
      "text/plain": [
       "0"
      ]
     },
     "execution_count": 125,
     "metadata": {},
     "output_type": "execute_result"
    }
   ],
   "source": [
    "data.isnull().any(axis = 1).sum()"
   ]
  },
  {
   "cell_type": "code",
   "execution_count": 126,
   "id": "799ed894",
   "metadata": {},
   "outputs": [
    {
     "data": {
      "image/png": "[encoded data removed]",
      "text/plain": [
       "<Figure size 432x432 with 3 Axes>"
      ]
     },
     "metadata": {
      "needs_background": "light"
     },
     "output_type": "display_data"
    }
   ],
   "source": [
    "# The correlations between 'Global_intensity', 'Global_active_power'\n",
    "sns.jointplot(x='Global_intensity', y='Global_active_power', data=df)  \n",
    "plt.show()"
   ]
  },
  {
   "cell_type": "code",
   "execution_count": 127,
   "id": "15a63be0",
   "metadata": {},
   "outputs": [
    {
     "data": {
      "image/png": "[encoded data removed]",
      "text/plain": [
       "<Figure size 432x432 with 3 Axes>"
      ]
     },
     "metadata": {
      "needs_background": "light"
     },
     "output_type": "display_data"
    }
   ],
   "source": [
    "# The correlations between 'Voltage' and  'Global_active_power'\n",
    "\n",
    "sns.jointplot(x='Voltage', y='Global_active_power', data=df)  \n",
    "plt.show()"
   ]
  },
  {
   "cell_type": "code",
   "execution_count": 128,
   "id": "cac5dbcc",
   "metadata": {},
   "outputs": [
    {
     "data": {
      "image/png": "[encoded data removed]",
      "text/plain": [
       "<Figure size 432x288 with 1 Axes>"
      ]
     },
     "metadata": {
      "needs_background": "light"
     },
     "output_type": "display_data"
    }
   ],
   "source": [
    "# rename columns\n",
    "names = ['Act_power', 'React_power', 'Sub_met_1', 'Sub_met_2', 'Sub_met_3'] \n",
    "values = [23.042456, 2.027712, 1.232561, 1.783675, 6.553521]\n",
    "plt.bar(names, values)\n",
    "plt.show()"
   ]
  },
  {
   "cell_type": "markdown",
   "id": "11666e0e",
   "metadata": {},
   "source": [
    "#### From above two plots it is seen that 'Global_intensity' and 'Global_active_power' correlated. But 'Voltage', 'Global_active_power' are less correlated. This is important observation for machine learning purpose."
   ]
  },
  {
   "cell_type": "code",
   "execution_count": 129,
   "id": "cc52b883",
   "metadata": {},
   "outputs": [
    {
     "data": {
      "image/png": "[encoded data removed]",
      "text/plain": [
       "<Figure size 720x720 with 2 Axes>"
      ]
     },
     "metadata": {
      "needs_background": "light"
     },
     "output_type": "display_data"
    }
   ],
   "source": [
    "# Calculate correlations among Columns\n",
    "#There is a strong correlation between 'Global_active_power and 'Global_intensity' beacuse P = V * I\n",
    "plt.figure(figsize=(10,10))\n",
    "ax=sns.heatmap(df.corr(), vmin=-1, cmap='coolwarm', annot=True);\n",
    "ax.set_ylim(8, 0)\n",
    "plt.show()\n"
   ]
  },
  {
   "cell_type": "code",
   "execution_count": 130,
   "id": "c7ec79cd",
   "metadata": {},
   "outputs": [
    {
     "name": "stderr",
     "output_type": "stream",
     "text": [
      "C:\\Users\\User\\AppData\\Local\\Temp\\ipykernel_2404\\3343078529.py:3: SettingWithCopyWarning: \n",
      "A value is trying to be set on a copy of a slice from a DataFrame.\n",
      "Try using .loc[row_indexer,col_indexer] = value instead\n",
      "\n",
      "See the caveats in the documentation: https://pandas.pydata.org/pandas-docs/stable/user_guide/indexing.html#returning-a-view-versus-a-copy\n",
      "  data['Month']= data['DateTime'].apply(lambda x: month(x))\n",
      "C:\\Users\\User\\AppData\\Local\\Temp\\ipykernel_2404\\3343078529.py:7: SettingWithCopyWarning: \n",
      "A value is trying to be set on a copy of a slice from a DataFrame.\n",
      "Try using .loc[row_indexer,col_indexer] = value instead\n",
      "\n",
      "See the caveats in the documentation: https://pandas.pydata.org/pandas-docs/stable/user_guide/indexing.html#returning-a-view-versus-a-copy\n",
      "  data['Day']=data['DateTime'].apply(lambda x: x.day)\n",
      "C:\\Users\\User\\AppData\\Local\\Temp\\ipykernel_2404\\3343078529.py:11: SettingWithCopyWarning: \n",
      "A value is trying to be set on a copy of a slice from a DataFrame.\n",
      "Try using .loc[row_indexer,col_indexer] = value instead\n",
      "\n",
      "See the caveats in the documentation: https://pandas.pydata.org/pandas-docs/stable/user_guide/indexing.html#returning-a-view-versus-a-copy\n",
      "  data['Hour']= data['DateTime'].apply(lambda x: hour(x))\n"
     ]
    }
   ],
   "source": [
    "def month(x):\n",
    "    return x.month\n",
    "data['Month']= data['DateTime'].apply(lambda x: month(x))\n",
    "\n",
    "def Day(x):\n",
    "    return x.Day\n",
    "data['Day']=data['DateTime'].apply(lambda x: x.day)\n",
    "\n",
    "def hour(x):\n",
    "    return x.hour\n",
    "data['Hour']= data['DateTime'].apply(lambda x: hour(x))"
   ]
  },
  {
   "cell_type": "code",
   "execution_count": 131,
   "id": "5a9d3a96",
   "metadata": {},
   "outputs": [
    {
     "name": "stderr",
     "output_type": "stream",
     "text": [
      "C:\\Users\\User\\AppData\\Local\\Temp\\ipykernel_2404\\1078037314.py:1: SettingWithCopyWarning: \n",
      "A value is trying to be set on a copy of a slice from a DataFrame\n",
      "\n",
      "See the caveats in the documentation: https://pandas.pydata.org/pandas-docs/stable/user_guide/indexing.html#returning-a-view-versus-a-copy\n",
      "  data.drop('DateTime',axis=1,inplace=True)\n"
     ]
    },
    {
     "data": {
      "text/html": [
       "<div>\n",
       "<style scoped>\n",
       "    .dataframe tbody tr th:only-of-type {\n",
       "        vertical-align: middle;\n",
       "    }\n",
       "\n",
       "    .dataframe tbody tr th {\n",
       "        vertical-align: top;\n",
       "    }\n",
       "\n",
       "    .dataframe thead th {\n",
       "        text-align: right;\n",
       "    }\n",
       "</style>\n",
       "<table border=\"1\" class=\"dataframe\">\n",
       "  <thead>\n",
       "    <tr style=\"text-align: right;\">\n",
       "      <th></th>\n",
       "      <th>Global_active_power</th>\n",
       "      <th>Global_reactive_power</th>\n",
       "      <th>Voltage</th>\n",
       "      <th>Global_intensity</th>\n",
       "      <th>Sub_metering_1</th>\n",
       "      <th>Sub_metering_2</th>\n",
       "      <th>Sub_metering_3</th>\n",
       "      <th>Month</th>\n",
       "      <th>Day</th>\n",
       "      <th>Hour</th>\n",
       "    </tr>\n",
       "  </thead>\n",
       "  <tbody>\n",
       "    <tr>\n",
       "      <th>185706</th>\n",
       "      <td>0.320</td>\n",
       "      <td>0.082</td>\n",
       "      <td>235.19</td>\n",
       "      <td>1.6</td>\n",
       "      <td>0.0</td>\n",
       "      <td>2.0</td>\n",
       "      <td>0.0</td>\n",
       "      <td>4</td>\n",
       "      <td>24</td>\n",
       "      <td>16</td>\n",
       "    </tr>\n",
       "    <tr>\n",
       "      <th>185707</th>\n",
       "      <td>0.328</td>\n",
       "      <td>0.078</td>\n",
       "      <td>234.53</td>\n",
       "      <td>1.6</td>\n",
       "      <td>0.0</td>\n",
       "      <td>1.0</td>\n",
       "      <td>0.0</td>\n",
       "      <td>4</td>\n",
       "      <td>24</td>\n",
       "      <td>16</td>\n",
       "    </tr>\n",
       "    <tr>\n",
       "      <th>185708</th>\n",
       "      <td>0.344</td>\n",
       "      <td>0.088</td>\n",
       "      <td>234.90</td>\n",
       "      <td>1.8</td>\n",
       "      <td>0.0</td>\n",
       "      <td>1.0</td>\n",
       "      <td>0.0</td>\n",
       "      <td>4</td>\n",
       "      <td>24</td>\n",
       "      <td>16</td>\n",
       "    </tr>\n",
       "    <tr>\n",
       "      <th>185709</th>\n",
       "      <td>0.416</td>\n",
       "      <td>0.174</td>\n",
       "      <td>235.29</td>\n",
       "      <td>2.0</td>\n",
       "      <td>0.0</td>\n",
       "      <td>1.0</td>\n",
       "      <td>0.0</td>\n",
       "      <td>4</td>\n",
       "      <td>24</td>\n",
       "      <td>16</td>\n",
       "    </tr>\n",
       "    <tr>\n",
       "      <th>185710</th>\n",
       "      <td>0.408</td>\n",
       "      <td>0.174</td>\n",
       "      <td>234.82</td>\n",
       "      <td>2.0</td>\n",
       "      <td>0.0</td>\n",
       "      <td>1.0</td>\n",
       "      <td>0.0</td>\n",
       "      <td>4</td>\n",
       "      <td>24</td>\n",
       "      <td>16</td>\n",
       "    </tr>\n",
       "  </tbody>\n",
       "</table>\n",
       "</div>"
      ],
      "text/plain": [
       "        Global_active_power  Global_reactive_power  Voltage  Global_intensity  \\\n",
       "185706                0.320                  0.082   235.19               1.6   \n",
       "185707                0.328                  0.078   234.53               1.6   \n",
       "185708                0.344                  0.088   234.90               1.8   \n",
       "185709                0.416                  0.174   235.29               2.0   \n",
       "185710                0.408                  0.174   234.82               2.0   \n",
       "\n",
       "        Sub_metering_1  Sub_metering_2  Sub_metering_3  Month  Day  Hour  \n",
       "185706             0.0             2.0             0.0      4   24    16  \n",
       "185707             0.0             1.0             0.0      4   24    16  \n",
       "185708             0.0             1.0             0.0      4   24    16  \n",
       "185709             0.0             1.0             0.0      4   24    16  \n",
       "185710             0.0             1.0             0.0      4   24    16  "
      ]
     },
     "execution_count": 131,
     "metadata": {},
     "output_type": "execute_result"
    }
   ],
   "source": [
    "data.drop('DateTime',axis=1,inplace=True)\n",
    "data.tail()"
   ]
  },
  {
   "cell_type": "code",
   "execution_count": 132,
   "id": "00d7596c",
   "metadata": {},
   "outputs": [
    {
     "data": {
      "text/plain": [
       "<AxesSubplot:xlabel='Month', ylabel='Global_active_power'>"
      ]
     },
     "execution_count": 132,
     "metadata": {},
     "output_type": "execute_result"
    },
    {
     "data": {
      "image/png": "[encoded data removed]",
      "text/plain": [
       "<Figure size 720x720 with 1 Axes>"
      ]
     },
     "metadata": {
      "needs_background": "light"
     },
     "output_type": "display_data"
    }
   ],
   "source": [
    "# Monthly change of Global_active_power\n",
    "plt.figure(figsize=(10,10))\n",
    "sns.lineplot(x=\"Month\", y=\"Global_active_power\",data=data)"
   ]
  },
  {
   "cell_type": "code",
   "execution_count": 133,
   "id": "db43c133",
   "metadata": {},
   "outputs": [
    {
     "data": {
      "text/plain": [
       "<AxesSubplot:xlabel='Day', ylabel='Global_active_power'>"
      ]
     },
     "execution_count": 133,
     "metadata": {},
     "output_type": "execute_result"
    },
    {
     "data": {
      "image/png": "[encoded data removed]",
      "text/plain": [
       "<Figure size 720x432 with 1 Axes>"
      ]
     },
     "metadata": {
      "needs_background": "light"
     },
     "output_type": "display_data"
    }
   ],
   "source": [
    "# Dayly change of Global_active_power\n",
    "plt.figure(figsize=(10,6))\n",
    "sns.lineplot(x=\"Day\", y=\"Global_active_power\",data=data)"
   ]
  },
  {
   "cell_type": "code",
   "execution_count": 134,
   "id": "aad94ce9",
   "metadata": {},
   "outputs": [
    {
     "data": {
      "text/plain": [
       "<AxesSubplot:xlabel='Month', ylabel='Global_active_power'>"
      ]
     },
     "execution_count": 134,
     "metadata": {},
     "output_type": "execute_result"
    },
    {
     "data": {
      "image/png": "[encoded data removed]",
      "text/plain": [
       "<Figure size 576x576 with 1 Axes>"
      ]
     },
     "metadata": {
      "needs_background": "light"
     },
     "output_type": "display_data"
    }
   ],
   "source": [
    "plt.figure(figsize=(8,8))\n",
    "sns.barplot(x=\"Month\", y=\"Global_active_power\",data=data)"
   ]
  },
  {
   "cell_type": "code",
   "execution_count": 135,
   "id": "b64a08bf",
   "metadata": {},
   "outputs": [
    {
     "data": {
      "text/plain": [
       "<AxesSubplot:xlabel='Day', ylabel='Global_active_power'>"
      ]
     },
     "execution_count": 135,
     "metadata": {},
     "output_type": "execute_result"
    },
    {
     "data": {
      "image/png": "[encoded data removed]",
      "text/plain": [
       "<Figure size 576x576 with 1 Axes>"
      ]
     },
     "metadata": {
      "needs_background": "light"
     },
     "output_type": "display_data"
    }
   ],
   "source": [
    "plt.figure(figsize=(8,8))\n",
    "sns.barplot(x=\"Day\", y=\"Global_active_power\",data=data)"
   ]
  },
  {
   "cell_type": "markdown",
   "id": "a6183e50",
   "metadata": {},
   "source": [
    "## Data Pre-processing"
   ]
  },
  {
   "cell_type": "code",
   "execution_count": 136,
   "id": "4d3b6eb3",
   "metadata": {},
   "outputs": [
    {
     "data": {
      "text/html": [
       "<div>\n",
       "<style scoped>\n",
       "    .dataframe tbody tr th:only-of-type {\n",
       "        vertical-align: middle;\n",
       "    }\n",
       "\n",
       "    .dataframe tbody tr th {\n",
       "        vertical-align: top;\n",
       "    }\n",
       "\n",
       "    .dataframe thead th {\n",
       "        text-align: right;\n",
       "    }\n",
       "</style>\n",
       "<table border=\"1\" class=\"dataframe\">\n",
       "  <thead>\n",
       "    <tr style=\"text-align: right;\">\n",
       "      <th></th>\n",
       "      <th>Date</th>\n",
       "      <th>Time</th>\n",
       "      <th>Global_active_power</th>\n",
       "      <th>Global_reactive_power</th>\n",
       "      <th>Voltage</th>\n",
       "      <th>Global_intensity</th>\n",
       "      <th>Sub_metering_1</th>\n",
       "      <th>Sub_metering_2</th>\n",
       "      <th>Sub_metering_3</th>\n",
       "      <th>DateTime</th>\n",
       "    </tr>\n",
       "  </thead>\n",
       "  <tbody>\n",
       "    <tr>\n",
       "      <th>0</th>\n",
       "      <td>16/12/2006</td>\n",
       "      <td>17:24:00</td>\n",
       "      <td>4.216</td>\n",
       "      <td>0.418</td>\n",
       "      <td>234.84</td>\n",
       "      <td>18.4</td>\n",
       "      <td>0.0</td>\n",
       "      <td>1.0</td>\n",
       "      <td>17.0</td>\n",
       "      <td>2006-12-16 17:24:00</td>\n",
       "    </tr>\n",
       "    <tr>\n",
       "      <th>1</th>\n",
       "      <td>16/12/2006</td>\n",
       "      <td>17:25:00</td>\n",
       "      <td>5.360</td>\n",
       "      <td>0.436</td>\n",
       "      <td>233.63</td>\n",
       "      <td>23.0</td>\n",
       "      <td>0.0</td>\n",
       "      <td>1.0</td>\n",
       "      <td>16.0</td>\n",
       "      <td>2006-12-16 17:25:00</td>\n",
       "    </tr>\n",
       "    <tr>\n",
       "      <th>2</th>\n",
       "      <td>16/12/2006</td>\n",
       "      <td>17:26:00</td>\n",
       "      <td>5.374</td>\n",
       "      <td>0.498</td>\n",
       "      <td>233.29</td>\n",
       "      <td>23.0</td>\n",
       "      <td>0.0</td>\n",
       "      <td>2.0</td>\n",
       "      <td>17.0</td>\n",
       "      <td>2006-12-16 17:26:00</td>\n",
       "    </tr>\n",
       "    <tr>\n",
       "      <th>3</th>\n",
       "      <td>16/12/2006</td>\n",
       "      <td>17:27:00</td>\n",
       "      <td>5.388</td>\n",
       "      <td>0.502</td>\n",
       "      <td>233.74</td>\n",
       "      <td>23.0</td>\n",
       "      <td>0.0</td>\n",
       "      <td>1.0</td>\n",
       "      <td>17.0</td>\n",
       "      <td>2006-12-16 17:27:00</td>\n",
       "    </tr>\n",
       "    <tr>\n",
       "      <th>4</th>\n",
       "      <td>16/12/2006</td>\n",
       "      <td>17:28:00</td>\n",
       "      <td>3.666</td>\n",
       "      <td>0.528</td>\n",
       "      <td>235.68</td>\n",
       "      <td>15.8</td>\n",
       "      <td>0.0</td>\n",
       "      <td>1.0</td>\n",
       "      <td>17.0</td>\n",
       "      <td>2006-12-16 17:28:00</td>\n",
       "    </tr>\n",
       "  </tbody>\n",
       "</table>\n",
       "</div>"
      ],
      "text/plain": [
       "         Date      Time  Global_active_power  Global_reactive_power  Voltage  \\\n",
       "0  16/12/2006  17:24:00                4.216                  0.418   234.84   \n",
       "1  16/12/2006  17:25:00                5.360                  0.436   233.63   \n",
       "2  16/12/2006  17:26:00                5.374                  0.498   233.29   \n",
       "3  16/12/2006  17:27:00                5.388                  0.502   233.74   \n",
       "4  16/12/2006  17:28:00                3.666                  0.528   235.68   \n",
       "\n",
       "   Global_intensity  Sub_metering_1  Sub_metering_2  Sub_metering_3  \\\n",
       "0              18.4             0.0             1.0            17.0   \n",
       "1              23.0             0.0             1.0            16.0   \n",
       "2              23.0             0.0             2.0            17.0   \n",
       "3              23.0             0.0             1.0            17.0   \n",
       "4              15.8             0.0             1.0            17.0   \n",
       "\n",
       "             DateTime  \n",
       "0 2006-12-16 17:24:00  \n",
       "1 2006-12-16 17:25:00  \n",
       "2 2006-12-16 17:26:00  \n",
       "3 2006-12-16 17:27:00  \n",
       "4 2006-12-16 17:28:00  "
      ]
     },
     "execution_count": 136,
     "metadata": {},
     "output_type": "execute_result"
    }
   ],
   "source": [
    "dt.head()"
   ]
  },
  {
   "cell_type": "code",
   "execution_count": 137,
   "id": "d83f65bc",
   "metadata": {},
   "outputs": [],
   "source": [
    "X = df[['Global_reactive_power','Voltage','Global_intensity','Sub_metering_1','Sub_metering_2','Sub_metering_3']]\n",
    "y = df['Global_active_power']"
   ]
  },
  {
   "cell_type": "code",
   "execution_count": 138,
   "id": "ade4a694",
   "metadata": {},
   "outputs": [
    {
     "data": {
      "text/html": [
       "<div>\n",
       "<style scoped>\n",
       "    .dataframe tbody tr th:only-of-type {\n",
       "        vertical-align: middle;\n",
       "    }\n",
       "\n",
       "    .dataframe tbody tr th {\n",
       "        vertical-align: top;\n",
       "    }\n",
       "\n",
       "    .dataframe thead th {\n",
       "        text-align: right;\n",
       "    }\n",
       "</style>\n",
       "<table border=\"1\" class=\"dataframe\">\n",
       "  <thead>\n",
       "    <tr style=\"text-align: right;\">\n",
       "      <th></th>\n",
       "      <th>Global_reactive_power</th>\n",
       "      <th>Voltage</th>\n",
       "      <th>Global_intensity</th>\n",
       "      <th>Sub_metering_1</th>\n",
       "      <th>Sub_metering_2</th>\n",
       "      <th>Sub_metering_3</th>\n",
       "    </tr>\n",
       "  </thead>\n",
       "  <tbody>\n",
       "    <tr>\n",
       "      <th>0</th>\n",
       "      <td>0.418</td>\n",
       "      <td>234.84</td>\n",
       "      <td>18.4</td>\n",
       "      <td>0.0</td>\n",
       "      <td>1.0</td>\n",
       "      <td>17.0</td>\n",
       "    </tr>\n",
       "    <tr>\n",
       "      <th>1</th>\n",
       "      <td>0.436</td>\n",
       "      <td>233.63</td>\n",
       "      <td>23.0</td>\n",
       "      <td>0.0</td>\n",
       "      <td>1.0</td>\n",
       "      <td>16.0</td>\n",
       "    </tr>\n",
       "    <tr>\n",
       "      <th>2</th>\n",
       "      <td>0.498</td>\n",
       "      <td>233.29</td>\n",
       "      <td>23.0</td>\n",
       "      <td>0.0</td>\n",
       "      <td>2.0</td>\n",
       "      <td>17.0</td>\n",
       "    </tr>\n",
       "    <tr>\n",
       "      <th>3</th>\n",
       "      <td>0.502</td>\n",
       "      <td>233.74</td>\n",
       "      <td>23.0</td>\n",
       "      <td>0.0</td>\n",
       "      <td>1.0</td>\n",
       "      <td>17.0</td>\n",
       "    </tr>\n",
       "    <tr>\n",
       "      <th>4</th>\n",
       "      <td>0.528</td>\n",
       "      <td>235.68</td>\n",
       "      <td>15.8</td>\n",
       "      <td>0.0</td>\n",
       "      <td>1.0</td>\n",
       "      <td>17.0</td>\n",
       "    </tr>\n",
       "  </tbody>\n",
       "</table>\n",
       "</div>"
      ],
      "text/plain": [
       "   Global_reactive_power  Voltage  Global_intensity  Sub_metering_1  \\\n",
       "0                  0.418   234.84              18.4             0.0   \n",
       "1                  0.436   233.63              23.0             0.0   \n",
       "2                  0.498   233.29              23.0             0.0   \n",
       "3                  0.502   233.74              23.0             0.0   \n",
       "4                  0.528   235.68              15.8             0.0   \n",
       "\n",
       "   Sub_metering_2  Sub_metering_3  \n",
       "0             1.0            17.0  \n",
       "1             1.0            16.0  \n",
       "2             2.0            17.0  \n",
       "3             1.0            17.0  \n",
       "4             1.0            17.0  "
      ]
     },
     "execution_count": 138,
     "metadata": {},
     "output_type": "execute_result"
    }
   ],
   "source": [
    "X.head()"
   ]
  },
  {
   "cell_type": "code",
   "execution_count": 139,
   "id": "51b1c212",
   "metadata": {},
   "outputs": [
    {
     "data": {
      "text/plain": [
       "array([[ 2.63170322, -1.83119543,  2.29981017, -0.18966632, -0.10940885,\n",
       "         1.23352804],\n",
       "       [ 2.79155707, -2.21309103,  3.14293801, -0.18966632, -0.10940885,\n",
       "         1.11544729],\n",
       "       [ 3.34216476, -2.32040053,  3.14293801, -0.18966632,  0.03020114,\n",
       "         1.23352804],\n",
       "       ...,\n",
       "       [-0.29895064, -1.81225846, -0.74278159, -0.18966632, -0.10940885,\n",
       "        -0.7738447 ],\n",
       "       [ 0.46479552, -1.68916814, -0.70612386, -0.18966632, -0.10940885,\n",
       "        -0.7738447 ],\n",
       "       [ 0.46479552, -1.83750775, -0.70612386, -0.18966632, -0.10940885,\n",
       "        -0.7738447 ]])"
      ]
     },
     "execution_count": 139,
     "metadata": {},
     "output_type": "execute_result"
    }
   ],
   "source": [
    "scaler = StandardScaler()\n",
    "scaler.fit_transform(X)"
   ]
  },
  {
   "cell_type": "code",
   "execution_count": 140,
   "id": "3542f8c6",
   "metadata": {},
   "outputs": [
    {
     "data": {
      "text/plain": [
       "(185711, 10)"
      ]
     },
     "execution_count": 140,
     "metadata": {},
     "output_type": "execute_result"
    }
   ],
   "source": [
    "dt.shape"
   ]
  },
  {
   "cell_type": "code",
   "execution_count": 141,
   "id": "25d8f275",
   "metadata": {},
   "outputs": [
    {
     "data": {
      "text/html": [
       "<div>\n",
       "<style scoped>\n",
       "    .dataframe tbody tr th:only-of-type {\n",
       "        vertical-align: middle;\n",
       "    }\n",
       "\n",
       "    .dataframe tbody tr th {\n",
       "        vertical-align: top;\n",
       "    }\n",
       "\n",
       "    .dataframe thead th {\n",
       "        text-align: right;\n",
       "    }\n",
       "</style>\n",
       "<table border=\"1\" class=\"dataframe\">\n",
       "  <thead>\n",
       "    <tr style=\"text-align: right;\">\n",
       "      <th></th>\n",
       "      <th>DateTime</th>\n",
       "      <th>Date</th>\n",
       "      <th>Time</th>\n",
       "      <th>Global_active_power</th>\n",
       "      <th>Global_reactive_power</th>\n",
       "      <th>Voltage</th>\n",
       "      <th>Global_intensity</th>\n",
       "      <th>Sub_metering_1</th>\n",
       "      <th>Sub_metering_2</th>\n",
       "      <th>Sub_metering_3</th>\n",
       "    </tr>\n",
       "  </thead>\n",
       "  <tbody>\n",
       "    <tr>\n",
       "      <th>0</th>\n",
       "      <td>2006-12-16 17:24:00</td>\n",
       "      <td>16/12/2006</td>\n",
       "      <td>17:24:00</td>\n",
       "      <td>4.216</td>\n",
       "      <td>0.418</td>\n",
       "      <td>234.84</td>\n",
       "      <td>18.4</td>\n",
       "      <td>0.0</td>\n",
       "      <td>1.0</td>\n",
       "      <td>17.0</td>\n",
       "    </tr>\n",
       "    <tr>\n",
       "      <th>1</th>\n",
       "      <td>2006-12-16 17:25:00</td>\n",
       "      <td>16/12/2006</td>\n",
       "      <td>17:25:00</td>\n",
       "      <td>5.360</td>\n",
       "      <td>0.436</td>\n",
       "      <td>233.63</td>\n",
       "      <td>23.0</td>\n",
       "      <td>0.0</td>\n",
       "      <td>1.0</td>\n",
       "      <td>16.0</td>\n",
       "    </tr>\n",
       "    <tr>\n",
       "      <th>2</th>\n",
       "      <td>2006-12-16 17:26:00</td>\n",
       "      <td>16/12/2006</td>\n",
       "      <td>17:26:00</td>\n",
       "      <td>5.374</td>\n",
       "      <td>0.498</td>\n",
       "      <td>233.29</td>\n",
       "      <td>23.0</td>\n",
       "      <td>0.0</td>\n",
       "      <td>2.0</td>\n",
       "      <td>17.0</td>\n",
       "    </tr>\n",
       "    <tr>\n",
       "      <th>3</th>\n",
       "      <td>2006-12-16 17:27:00</td>\n",
       "      <td>16/12/2006</td>\n",
       "      <td>17:27:00</td>\n",
       "      <td>5.388</td>\n",
       "      <td>0.502</td>\n",
       "      <td>233.74</td>\n",
       "      <td>23.0</td>\n",
       "      <td>0.0</td>\n",
       "      <td>1.0</td>\n",
       "      <td>17.0</td>\n",
       "    </tr>\n",
       "    <tr>\n",
       "      <th>4</th>\n",
       "      <td>2006-12-16 17:28:00</td>\n",
       "      <td>16/12/2006</td>\n",
       "      <td>17:28:00</td>\n",
       "      <td>3.666</td>\n",
       "      <td>0.528</td>\n",
       "      <td>235.68</td>\n",
       "      <td>15.8</td>\n",
       "      <td>0.0</td>\n",
       "      <td>1.0</td>\n",
       "      <td>17.0</td>\n",
       "    </tr>\n",
       "  </tbody>\n",
       "</table>\n",
       "</div>"
      ],
      "text/plain": [
       "             DateTime        Date      Time  Global_active_power  \\\n",
       "0 2006-12-16 17:24:00  16/12/2006  17:24:00                4.216   \n",
       "1 2006-12-16 17:25:00  16/12/2006  17:25:00                5.360   \n",
       "2 2006-12-16 17:26:00  16/12/2006  17:26:00                5.374   \n",
       "3 2006-12-16 17:27:00  16/12/2006  17:27:00                5.388   \n",
       "4 2006-12-16 17:28:00  16/12/2006  17:28:00                3.666   \n",
       "\n",
       "   Global_reactive_power  Voltage  Global_intensity  Sub_metering_1  \\\n",
       "0                  0.418   234.84              18.4             0.0   \n",
       "1                  0.436   233.63              23.0             0.0   \n",
       "2                  0.498   233.29              23.0             0.0   \n",
       "3                  0.502   233.74              23.0             0.0   \n",
       "4                  0.528   235.68              15.8             0.0   \n",
       "\n",
       "   Sub_metering_2  Sub_metering_3  \n",
       "0             1.0            17.0  \n",
       "1             1.0            16.0  \n",
       "2             2.0            17.0  \n",
       "3             1.0            17.0  \n",
       "4             1.0            17.0  "
      ]
     },
     "execution_count": 141,
     "metadata": {},
     "output_type": "execute_result"
    }
   ],
   "source": [
    "# Rearranging columns\n",
    "cols = list(dt.columns)\n",
    "cols = cols[-1:] + cols[:-1]\n",
    "dt2 = dt[cols]\n",
    "dt2.head(5)"
   ]
  },
  {
   "cell_type": "code",
   "execution_count": 142,
   "id": "53b4017a",
   "metadata": {},
   "outputs": [
    {
     "name": "stderr",
     "output_type": "stream",
     "text": [
      "C:\\Users\\User\\AppData\\Local\\Temp\\ipykernel_2404\\3323042364.py:4: SettingWithCopyWarning: \n",
      "A value is trying to be set on a copy of a slice from a DataFrame.\n",
      "Try using .loc[row_indexer,col_indexer] = value instead\n",
      "\n",
      "See the caveats in the documentation: https://pandas.pydata.org/pandas-docs/stable/user_guide/indexing.html#returning-a-view-versus-a-copy\n",
      "  dt2['Sub_metering_4'] = eq1 - eq2\n"
     ]
    },
    {
     "data": {
      "text/html": [
       "<div>\n",
       "<style scoped>\n",
       "    .dataframe tbody tr th:only-of-type {\n",
       "        vertical-align: middle;\n",
       "    }\n",
       "\n",
       "    .dataframe tbody tr th {\n",
       "        vertical-align: top;\n",
       "    }\n",
       "\n",
       "    .dataframe thead th {\n",
       "        text-align: right;\n",
       "    }\n",
       "</style>\n",
       "<table border=\"1\" class=\"dataframe\">\n",
       "  <thead>\n",
       "    <tr style=\"text-align: right;\">\n",
       "      <th></th>\n",
       "      <th>DateTime</th>\n",
       "      <th>Date</th>\n",
       "      <th>Time</th>\n",
       "      <th>Global_active_power</th>\n",
       "      <th>Global_reactive_power</th>\n",
       "      <th>Voltage</th>\n",
       "      <th>Global_intensity</th>\n",
       "      <th>Sub_metering_1</th>\n",
       "      <th>Sub_metering_2</th>\n",
       "      <th>Sub_metering_3</th>\n",
       "      <th>Sub_metering_4</th>\n",
       "    </tr>\n",
       "  </thead>\n",
       "  <tbody>\n",
       "    <tr>\n",
       "      <th>0</th>\n",
       "      <td>2006-12-16 17:24:00</td>\n",
       "      <td>16/12/2006</td>\n",
       "      <td>17:24:00</td>\n",
       "      <td>4.216</td>\n",
       "      <td>0.418</td>\n",
       "      <td>234.84</td>\n",
       "      <td>18.4</td>\n",
       "      <td>0.0</td>\n",
       "      <td>1.0</td>\n",
       "      <td>17.0</td>\n",
       "      <td>52.266667</td>\n",
       "    </tr>\n",
       "    <tr>\n",
       "      <th>1</th>\n",
       "      <td>2006-12-16 17:25:00</td>\n",
       "      <td>16/12/2006</td>\n",
       "      <td>17:25:00</td>\n",
       "      <td>5.360</td>\n",
       "      <td>0.436</td>\n",
       "      <td>233.63</td>\n",
       "      <td>23.0</td>\n",
       "      <td>0.0</td>\n",
       "      <td>1.0</td>\n",
       "      <td>16.0</td>\n",
       "      <td>72.333333</td>\n",
       "    </tr>\n",
       "    <tr>\n",
       "      <th>2</th>\n",
       "      <td>2006-12-16 17:26:00</td>\n",
       "      <td>16/12/2006</td>\n",
       "      <td>17:26:00</td>\n",
       "      <td>5.374</td>\n",
       "      <td>0.498</td>\n",
       "      <td>233.29</td>\n",
       "      <td>23.0</td>\n",
       "      <td>0.0</td>\n",
       "      <td>2.0</td>\n",
       "      <td>17.0</td>\n",
       "      <td>70.566667</td>\n",
       "    </tr>\n",
       "  </tbody>\n",
       "</table>\n",
       "</div>"
      ],
      "text/plain": [
       "             DateTime        Date      Time  Global_active_power  \\\n",
       "0 2006-12-16 17:24:00  16/12/2006  17:24:00                4.216   \n",
       "1 2006-12-16 17:25:00  16/12/2006  17:25:00                5.360   \n",
       "2 2006-12-16 17:26:00  16/12/2006  17:26:00                5.374   \n",
       "\n",
       "   Global_reactive_power  Voltage  Global_intensity  Sub_metering_1  \\\n",
       "0                  0.418   234.84              18.4             0.0   \n",
       "1                  0.436   233.63              23.0             0.0   \n",
       "2                  0.498   233.29              23.0             0.0   \n",
       "\n",
       "   Sub_metering_2  Sub_metering_3  Sub_metering_4  \n",
       "0             1.0            17.0       52.266667  \n",
       "1             1.0            16.0       72.333333  \n",
       "2             2.0            17.0       70.566667  "
      ]
     },
     "execution_count": 142,
     "metadata": {},
     "output_type": "execute_result"
    }
   ],
   "source": [
    "# add a column for for the remainder of sub metering\n",
    "eq1 = (dt2['Global_active_power'] * 1000/60) \n",
    "eq2 = dt2['Sub_metering_1'] + dt2['Sub_metering_2'] + dt2['Sub_metering_3']\n",
    "dt2['Sub_metering_4'] = eq1 - eq2\n",
    "dt2.head(3)"
   ]
  },
  {
   "cell_type": "code",
   "execution_count": 143,
   "id": "71ec04b3",
   "metadata": {},
   "outputs": [
    {
     "name": "stderr",
     "output_type": "stream",
     "text": [
      "C:\\Users\\User\\AppData\\Local\\Temp\\ipykernel_2404\\3920541985.py:2: SettingWithCopyWarning: \n",
      "A value is trying to be set on a copy of a slice from a DataFrame\n",
      "\n",
      "See the caveats in the documentation: https://pandas.pydata.org/pandas-docs/stable/user_guide/indexing.html#returning-a-view-versus-a-copy\n",
      "  dt2.drop(columns = ['Date','Time'],inplace = True)\n"
     ]
    },
    {
     "data": {
      "text/html": [
       "<div>\n",
       "<style scoped>\n",
       "    .dataframe tbody tr th:only-of-type {\n",
       "        vertical-align: middle;\n",
       "    }\n",
       "\n",
       "    .dataframe tbody tr th {\n",
       "        vertical-align: top;\n",
       "    }\n",
       "\n",
       "    .dataframe thead th {\n",
       "        text-align: right;\n",
       "    }\n",
       "</style>\n",
       "<table border=\"1\" class=\"dataframe\">\n",
       "  <thead>\n",
       "    <tr style=\"text-align: right;\">\n",
       "      <th></th>\n",
       "      <th>DateTime</th>\n",
       "      <th>Global_active_power</th>\n",
       "      <th>Global_reactive_power</th>\n",
       "      <th>Voltage</th>\n",
       "      <th>Global_intensity</th>\n",
       "      <th>Sub_metering_1</th>\n",
       "      <th>Sub_metering_2</th>\n",
       "      <th>Sub_metering_3</th>\n",
       "      <th>Sub_metering_4</th>\n",
       "    </tr>\n",
       "  </thead>\n",
       "  <tbody>\n",
       "    <tr>\n",
       "      <th>0</th>\n",
       "      <td>2006-12-16 17:24:00</td>\n",
       "      <td>4.216</td>\n",
       "      <td>0.418</td>\n",
       "      <td>234.84</td>\n",
       "      <td>18.4</td>\n",
       "      <td>0.0</td>\n",
       "      <td>1.0</td>\n",
       "      <td>17.0</td>\n",
       "      <td>52.266667</td>\n",
       "    </tr>\n",
       "    <tr>\n",
       "      <th>1</th>\n",
       "      <td>2006-12-16 17:25:00</td>\n",
       "      <td>5.360</td>\n",
       "      <td>0.436</td>\n",
       "      <td>233.63</td>\n",
       "      <td>23.0</td>\n",
       "      <td>0.0</td>\n",
       "      <td>1.0</td>\n",
       "      <td>16.0</td>\n",
       "      <td>72.333333</td>\n",
       "    </tr>\n",
       "    <tr>\n",
       "      <th>2</th>\n",
       "      <td>2006-12-16 17:26:00</td>\n",
       "      <td>5.374</td>\n",
       "      <td>0.498</td>\n",
       "      <td>233.29</td>\n",
       "      <td>23.0</td>\n",
       "      <td>0.0</td>\n",
       "      <td>2.0</td>\n",
       "      <td>17.0</td>\n",
       "      <td>70.566667</td>\n",
       "    </tr>\n",
       "  </tbody>\n",
       "</table>\n",
       "</div>"
      ],
      "text/plain": [
       "             DateTime  Global_active_power  Global_reactive_power  Voltage  \\\n",
       "0 2006-12-16 17:24:00                4.216                  0.418   234.84   \n",
       "1 2006-12-16 17:25:00                5.360                  0.436   233.63   \n",
       "2 2006-12-16 17:26:00                5.374                  0.498   233.29   \n",
       "\n",
       "   Global_intensity  Sub_metering_1  Sub_metering_2  Sub_metering_3  \\\n",
       "0              18.4             0.0             1.0            17.0   \n",
       "1              23.0             0.0             1.0            16.0   \n",
       "2              23.0             0.0             2.0            17.0   \n",
       "\n",
       "   Sub_metering_4  \n",
       "0       52.266667  \n",
       "1       72.333333  \n",
       "2       70.566667  "
      ]
     },
     "execution_count": 143,
     "metadata": {},
     "output_type": "execute_result"
    }
   ],
   "source": [
    "# drop old Date and Time columns\n",
    "dt2.drop(columns = ['Date','Time'],inplace = True)\n",
    "dt2.head(3)"
   ]
  },
  {
   "cell_type": "code",
   "execution_count": 144,
   "id": "bb7a6441",
   "metadata": {},
   "outputs": [],
   "source": [
    "X_train, X_test, y_train, y_test = train_test_split(X, y, test_size=0.3)"
   ]
  },
  {
   "cell_type": "code",
   "execution_count": 145,
   "id": "086349a5",
   "metadata": {},
   "outputs": [
    {
     "data": {
      "text/plain": [
       "(129997, 6)"
      ]
     },
     "execution_count": 145,
     "metadata": {},
     "output_type": "execute_result"
    }
   ],
   "source": [
    "X_train.shape"
   ]
  },
  {
   "cell_type": "code",
   "execution_count": 146,
   "id": "0c7d41c7",
   "metadata": {},
   "outputs": [
    {
     "data": {
      "text/plain": [
       "(129997,)"
      ]
     },
     "execution_count": 146,
     "metadata": {},
     "output_type": "execute_result"
    }
   ],
   "source": [
    "y_train.shape"
   ]
  },
  {
   "cell_type": "markdown",
   "id": "48a84a3d",
   "metadata": {},
   "source": [
    "### Normalizing the Data\n",
    "\n",
    "**Using a MinMaxScaler to normalize the feature data X_train and X_test. Recall we don't want data leakge from the test set so we only fit on the X_train data.**"
   ]
  },
  {
   "cell_type": "code",
   "execution_count": 147,
   "id": "029489d6",
   "metadata": {},
   "outputs": [],
   "source": [
    "scaler = MinMaxScaler()"
   ]
  },
  {
   "cell_type": "code",
   "execution_count": 148,
   "id": "60395af3",
   "metadata": {},
   "outputs": [],
   "source": [
    "X_train = scaler.fit_transform(X_train)"
   ]
  },
  {
   "cell_type": "code",
   "execution_count": 149,
   "id": "72115070",
   "metadata": {},
   "outputs": [],
   "source": [
    "X_test = scaler.transform(X_test)"
   ]
  },
  {
   "cell_type": "markdown",
   "id": "5c10b6d2",
   "metadata": {},
   "source": [
    "### Linear Regression"
   ]
  },
  {
   "cell_type": "code",
   "execution_count": 150,
   "id": "6589393f",
   "metadata": {},
   "outputs": [],
   "source": [
    "lm = LinearRegression()"
   ]
  },
  {
   "cell_type": "code",
   "execution_count": 151,
   "id": "1478f282",
   "metadata": {},
   "outputs": [
    {
     "data": {
      "text/plain": [
       "LinearRegression()"
      ]
     },
     "execution_count": 151,
     "metadata": {},
     "output_type": "execute_result"
    }
   ],
   "source": [
    "lm.fit(X_train,y_train)"
   ]
  },
  {
   "cell_type": "code",
   "execution_count": 152,
   "id": "6076fff4",
   "metadata": {},
   "outputs": [],
   "source": [
    "predictions = lm.predict( X_test)"
   ]
  },
  {
   "cell_type": "code",
   "execution_count": 153,
   "id": "f4070267",
   "metadata": {},
   "outputs": [
    {
     "data": {
      "text/plain": [
       "Text(0, 0.5, 'Predicted Y')"
      ]
     },
     "execution_count": 153,
     "metadata": {},
     "output_type": "execute_result"
    },
    {
     "data": {
      "image/png": "[encoded data removed]",
      "text/plain": [
       "<Figure size 432x288 with 1 Axes>"
      ]
     },
     "metadata": {
      "needs_background": "light"
     },
     "output_type": "display_data"
    }
   ],
   "source": [
    "plt.scatter(y_test,predictions)\n",
    "plt.xlabel('Y Test')\n",
    "plt.ylabel('Predicted Y')"
   ]
  },
  {
   "cell_type": "code",
   "execution_count": 154,
   "id": "d41f9e5f",
   "metadata": {},
   "outputs": [
    {
     "name": "stdout",
     "output_type": "stream",
     "text": [
      "MSE: 0.0025329523998657943\n"
     ]
    }
   ],
   "source": [
    "print('MSE:', metrics.mean_squared_error(y_test, predictions))"
   ]
  },
  {
   "cell_type": "code",
   "execution_count": 155,
   "id": "3e5287dc",
   "metadata": {},
   "outputs": [
    {
     "name": "stderr",
     "output_type": "stream",
     "text": [
      "C:\\Users\\User\\anaconda\\lib\\site-packages\\seaborn\\distributions.py:2619: FutureWarning: `distplot` is a deprecated function and will be removed in a future version. Please adapt your code to use either `displot` (a figure-level function with similar flexibility) or `histplot` (an axes-level function for histograms).\n",
      "  warnings.warn(msg, FutureWarning)\n"
     ]
    },
    {
     "data": {
      "text/plain": [
       "<AxesSubplot:xlabel='Global_active_power', ylabel='Density'>"
      ]
     },
     "execution_count": 155,
     "metadata": {},
     "output_type": "execute_result"
    },
    {
     "data": {
      "image/png": "[encoded data removed]",
      "text/plain": [
       "<Figure size 432x288 with 1 Axes>"
      ]
     },
     "metadata": {
      "needs_background": "light"
     },
     "output_type": "display_data"
    }
   ],
   "source": [
    "sns.distplot((y_test-predictions),bins=50)"
   ]
  },
  {
   "cell_type": "code",
   "execution_count": 156,
   "id": "4b026ad6",
   "metadata": {},
   "outputs": [
    {
     "data": {
      "text/html": [
       "<div>\n",
       "<style scoped>\n",
       "    .dataframe tbody tr th:only-of-type {\n",
       "        vertical-align: middle;\n",
       "    }\n",
       "\n",
       "    .dataframe tbody tr th {\n",
       "        vertical-align: top;\n",
       "    }\n",
       "\n",
       "    .dataframe thead th {\n",
       "        text-align: right;\n",
       "    }\n",
       "</style>\n",
       "<table border=\"1\" class=\"dataframe\">\n",
       "  <thead>\n",
       "    <tr style=\"text-align: right;\">\n",
       "      <th></th>\n",
       "      <th>Actual Value</th>\n",
       "      <th>Predicted Value</th>\n",
       "    </tr>\n",
       "  </thead>\n",
       "  <tbody>\n",
       "    <tr>\n",
       "      <th>77102</th>\n",
       "      <td>0.228</td>\n",
       "      <td>0.244972</td>\n",
       "    </tr>\n",
       "    <tr>\n",
       "      <th>144113</th>\n",
       "      <td>0.662</td>\n",
       "      <td>0.612754</td>\n",
       "    </tr>\n",
       "    <tr>\n",
       "      <th>58627</th>\n",
       "      <td>0.382</td>\n",
       "      <td>0.429736</td>\n",
       "    </tr>\n",
       "    <tr>\n",
       "      <th>106706</th>\n",
       "      <td>0.310</td>\n",
       "      <td>0.305229</td>\n",
       "    </tr>\n",
       "    <tr>\n",
       "      <th>38342</th>\n",
       "      <td>2.222</td>\n",
       "      <td>2.219387</td>\n",
       "    </tr>\n",
       "    <tr>\n",
       "      <th>...</th>\n",
       "      <td>...</td>\n",
       "      <td>...</td>\n",
       "    </tr>\n",
       "    <tr>\n",
       "      <th>5105</th>\n",
       "      <td>0.210</td>\n",
       "      <td>0.202512</td>\n",
       "    </tr>\n",
       "    <tr>\n",
       "      <th>77928</th>\n",
       "      <td>2.992</td>\n",
       "      <td>3.002913</td>\n",
       "    </tr>\n",
       "    <tr>\n",
       "      <th>101966</th>\n",
       "      <td>0.320</td>\n",
       "      <td>0.328599</td>\n",
       "    </tr>\n",
       "    <tr>\n",
       "      <th>62738</th>\n",
       "      <td>0.716</td>\n",
       "      <td>0.727449</td>\n",
       "    </tr>\n",
       "    <tr>\n",
       "      <th>116301</th>\n",
       "      <td>1.824</td>\n",
       "      <td>1.779337</td>\n",
       "    </tr>\n",
       "  </tbody>\n",
       "</table>\n",
       "<p>55714 rows × 2 columns</p>\n",
       "</div>"
      ],
      "text/plain": [
       "        Actual Value  Predicted Value\n",
       "77102          0.228         0.244972\n",
       "144113         0.662         0.612754\n",
       "58627          0.382         0.429736\n",
       "106706         0.310         0.305229\n",
       "38342          2.222         2.219387\n",
       "...              ...              ...\n",
       "5105           0.210         0.202512\n",
       "77928          2.992         3.002913\n",
       "101966         0.320         0.328599\n",
       "62738          0.716         0.727449\n",
       "116301         1.824         1.779337\n",
       "\n",
       "[55714 rows x 2 columns]"
      ]
     },
     "execution_count": 156,
     "metadata": {},
     "output_type": "execute_result"
    }
   ],
   "source": [
    "df_result = pd.DataFrame({'Actual Value': y_test, 'Predicted Value': predictions})\n",
    "df_result"
   ]
  },
  {
   "cell_type": "markdown",
   "id": "ad7b121f",
   "metadata": {},
   "source": [
    "# Non Linear Regression"
   ]
  },
  {
   "cell_type": "code",
   "execution_count": 157,
   "id": "30890b46",
   "metadata": {},
   "outputs": [
    {
     "data": {
      "text/html": [
       "<div>\n",
       "<style scoped>\n",
       "    .dataframe tbody tr th:only-of-type {\n",
       "        vertical-align: middle;\n",
       "    }\n",
       "\n",
       "    .dataframe tbody tr th {\n",
       "        vertical-align: top;\n",
       "    }\n",
       "\n",
       "    .dataframe thead th {\n",
       "        text-align: right;\n",
       "    }\n",
       "</style>\n",
       "<table border=\"1\" class=\"dataframe\">\n",
       "  <thead>\n",
       "    <tr style=\"text-align: right;\">\n",
       "      <th></th>\n",
       "      <th>Global_reactive_power</th>\n",
       "      <th>Voltage</th>\n",
       "      <th>Global_intensity</th>\n",
       "      <th>Sub_metering_1</th>\n",
       "      <th>Sub_metering_2</th>\n",
       "      <th>Sub_metering_3</th>\n",
       "    </tr>\n",
       "  </thead>\n",
       "  <tbody>\n",
       "    <tr>\n",
       "      <th>0</th>\n",
       "      <td>0.418</td>\n",
       "      <td>234.84</td>\n",
       "      <td>18.4</td>\n",
       "      <td>0.0</td>\n",
       "      <td>1.0</td>\n",
       "      <td>17.0</td>\n",
       "    </tr>\n",
       "    <tr>\n",
       "      <th>1</th>\n",
       "      <td>0.436</td>\n",
       "      <td>233.63</td>\n",
       "      <td>23.0</td>\n",
       "      <td>0.0</td>\n",
       "      <td>1.0</td>\n",
       "      <td>16.0</td>\n",
       "    </tr>\n",
       "    <tr>\n",
       "      <th>2</th>\n",
       "      <td>0.498</td>\n",
       "      <td>233.29</td>\n",
       "      <td>23.0</td>\n",
       "      <td>0.0</td>\n",
       "      <td>2.0</td>\n",
       "      <td>17.0</td>\n",
       "    </tr>\n",
       "    <tr>\n",
       "      <th>3</th>\n",
       "      <td>0.502</td>\n",
       "      <td>233.74</td>\n",
       "      <td>23.0</td>\n",
       "      <td>0.0</td>\n",
       "      <td>1.0</td>\n",
       "      <td>17.0</td>\n",
       "    </tr>\n",
       "    <tr>\n",
       "      <th>4</th>\n",
       "      <td>0.528</td>\n",
       "      <td>235.68</td>\n",
       "      <td>15.8</td>\n",
       "      <td>0.0</td>\n",
       "      <td>1.0</td>\n",
       "      <td>17.0</td>\n",
       "    </tr>\n",
       "  </tbody>\n",
       "</table>\n",
       "</div>"
      ],
      "text/plain": [
       "   Global_reactive_power  Voltage  Global_intensity  Sub_metering_1  \\\n",
       "0                  0.418   234.84              18.4             0.0   \n",
       "1                  0.436   233.63              23.0             0.0   \n",
       "2                  0.498   233.29              23.0             0.0   \n",
       "3                  0.502   233.74              23.0             0.0   \n",
       "4                  0.528   235.68              15.8             0.0   \n",
       "\n",
       "   Sub_metering_2  Sub_metering_3  \n",
       "0             1.0            17.0  \n",
       "1             1.0            16.0  \n",
       "2             2.0            17.0  \n",
       "3             1.0            17.0  \n",
       "4             1.0            17.0  "
      ]
     },
     "execution_count": 157,
     "metadata": {},
     "output_type": "execute_result"
    }
   ],
   "source": [
    "X.head()"
   ]
  },
  {
   "cell_type": "code",
   "execution_count": 158,
   "id": "5c99137a",
   "metadata": {},
   "outputs": [
    {
     "data": {
      "text/plain": [
       "0    4.216\n",
       "1    5.360\n",
       "2    5.374\n",
       "3    5.388\n",
       "4    3.666\n",
       "Name: Global_active_power, dtype: float64"
      ]
     },
     "execution_count": 158,
     "metadata": {},
     "output_type": "execute_result"
    }
   ],
   "source": [
    "y.head()"
   ]
  },
  {
   "cell_type": "code",
   "execution_count": 159,
   "id": "5817528f",
   "metadata": {},
   "outputs": [
    {
     "data": {
      "text/plain": [
       "(185711, 6)"
      ]
     },
     "execution_count": 159,
     "metadata": {},
     "output_type": "execute_result"
    }
   ],
   "source": [
    "X.shape"
   ]
  },
  {
   "cell_type": "code",
   "execution_count": 160,
   "id": "97461ed2",
   "metadata": {},
   "outputs": [
    {
     "data": {
      "text/plain": [
       "(185711,)"
      ]
     },
     "execution_count": 160,
     "metadata": {},
     "output_type": "execute_result"
    }
   ],
   "source": [
    "y.shape"
   ]
  },
  {
   "cell_type": "markdown",
   "id": "bfd47c09",
   "metadata": {},
   "source": [
    "# Helper Function : Evaluate Model"
   ]
  },
  {
   "cell_type": "code",
   "execution_count": 161,
   "id": "b1c6f116",
   "metadata": {},
   "outputs": [],
   "source": [
    "from sklearn.metrics import r2_score\n",
    "\n",
    "def eval_model(model, x_train, y_train, x_val, y_val):\n",
    "    model.fit(x_train, y_train)\n",
    "    y_pred_train = model.predict(x_train)\n",
    "    y_pred_val = model.predict(x_val)\n",
    "    r2_train = r2_score(y_train, y_pred_train)\n",
    "    r2_val = r2_score(y_val, y_pred_val)\n",
    "    return r2_train, r2_val"
   ]
  },
  {
   "cell_type": "markdown",
   "id": "a912d419",
   "metadata": {},
   "source": [
    "Splitting data into train, test and validation"
   ]
  },
  {
   "cell_type": "code",
   "execution_count": 162,
   "id": "00758790",
   "metadata": {},
   "outputs": [
    {
     "name": "stdout",
     "output_type": "stream",
     "text": [
      "x_train (90997, 6)\n",
      "y_train (90997,)\n",
      "---------------------\n",
      "x_test (55714, 6)\n",
      "y_test (55714,)\n",
      "---------------------\n",
      "x_val (39000, 6)\n",
      "y_val (39000,)\n"
     ]
    }
   ],
   "source": [
    "# First, split the data into testing 30% and the rest (training + validation) 70%\n",
    "x_rem, x_test, y_rem, y_test = train_test_split(\n",
    "    X,\n",
    "    y,\n",
    "    random_state=0,\n",
    "    test_size=0.30,\n",
    ")\n",
    "\n",
    "# Second, split the remaining data (training + validation) into validation 30%\n",
    "x_train, x_val, y_train, y_val = train_test_split(\n",
    "    x_rem,\n",
    "    y_rem,\n",
    "    random_state=0,\n",
    "    test_size=0.30,\n",
    ")\n",
    "\n",
    "print(\"x_train\", x_train.shape)\n",
    "print(\"y_train\", y_train.shape)\n",
    "print(\"---------------------\")\n",
    "print(\"x_test\", x_test.shape)\n",
    "print(\"y_test\", y_test.shape)\n",
    "print(\"---------------------\")\n",
    "print(\"x_val\", x_val.shape)\n",
    "print(\"y_val\", y_val.shape)"
   ]
  },
  {
   "cell_type": "code",
   "execution_count": 163,
   "id": "1f91c162",
   "metadata": {},
   "outputs": [
    {
     "data": {
      "text/plain": [
       "(0.9987945006247804, 0.9987229511387336)"
      ]
     },
     "execution_count": 163,
     "metadata": {},
     "output_type": "execute_result"
    }
   ],
   "source": [
    "from sklearn.preprocessing import PolynomialFeatures\n",
    "\n",
    "# first, we create an object of PolynomialFeatures transformer and in parameters gives degree = 2\n",
    "pf = PolynomialFeatures(degree=2)\n",
    "\n",
    "# then we transform our features\n",
    "X_train_poly = pf.fit_transform(x_train)\n",
    "X_val_poly = pf.transform(x_val)\n",
    "X_test_poly = pf.transform(x_test)\n",
    "\n",
    "nonlinear_reg = LinearRegression()\n",
    "eval_model(nonlinear_reg, X_train_poly, y_train, X_val_poly, y_val)"
   ]
  },
  {
   "cell_type": "markdown",
   "id": "91a30c18",
   "metadata": {},
   "source": [
    "<p style=\"font-size: 18px\"> Correlation Coefficient </p>"
   ]
  },
  {
   "cell_type": "code",
   "execution_count": 164,
   "id": "332d0040",
   "metadata": {},
   "outputs": [],
   "source": [
    "import math"
   ]
  },
  {
   "cell_type": "code",
   "execution_count": 165,
   "id": "e32b48a6",
   "metadata": {},
   "outputs": [
    {
     "data": {
      "text/plain": [
       "0.9993612715823711"
      ]
     },
     "execution_count": 165,
     "metadata": {},
     "output_type": "execute_result"
    }
   ],
   "source": [
    "math.sqrt(0.9987229511387337)"
   ]
  },
  {
   "cell_type": "markdown",
   "id": "b56438ef",
   "metadata": {},
   "source": [
    "# Hyper Parameters Tuning for degree in Polynomial Features"
   ]
  },
  {
   "cell_type": "code",
   "execution_count": 166,
   "id": "4cfc5547",
   "metadata": {},
   "outputs": [],
   "source": [
    "from sklearn.pipeline import Pipeline"
   ]
  },
  {
   "cell_type": "code",
   "execution_count": 167,
   "id": "be391cb1",
   "metadata": {},
   "outputs": [
    {
     "data": {
      "text/html": [
       "<div>\n",
       "<style scoped>\n",
       "    .dataframe tbody tr th:only-of-type {\n",
       "        vertical-align: middle;\n",
       "    }\n",
       "\n",
       "    .dataframe tbody tr th {\n",
       "        vertical-align: top;\n",
       "    }\n",
       "\n",
       "    .dataframe thead th {\n",
       "        text-align: right;\n",
       "    }\n",
       "</style>\n",
       "<table border=\"1\" class=\"dataframe\">\n",
       "  <thead>\n",
       "    <tr style=\"text-align: right;\">\n",
       "      <th></th>\n",
       "      <th>degree</th>\n",
       "      <th>r2_train</th>\n",
       "      <th>r2_val</th>\n",
       "    </tr>\n",
       "  </thead>\n",
       "  <tbody>\n",
       "    <tr>\n",
       "      <th>0</th>\n",
       "      <td>1</td>\n",
       "      <td>0.998498</td>\n",
       "      <td>0.998422</td>\n",
       "    </tr>\n",
       "    <tr>\n",
       "      <th>1</th>\n",
       "      <td>2</td>\n",
       "      <td>0.998795</td>\n",
       "      <td>0.998723</td>\n",
       "    </tr>\n",
       "    <tr>\n",
       "      <th>2</th>\n",
       "      <td>3</td>\n",
       "      <td>0.998898</td>\n",
       "      <td>0.998827</td>\n",
       "    </tr>\n",
       "    <tr>\n",
       "      <th>3</th>\n",
       "      <td>4</td>\n",
       "      <td>0.998953</td>\n",
       "      <td>0.998863</td>\n",
       "    </tr>\n",
       "  </tbody>\n",
       "</table>\n",
       "</div>"
      ],
      "text/plain": [
       "   degree  r2_train    r2_val\n",
       "0       1  0.998498  0.998422\n",
       "1       2  0.998795  0.998723\n",
       "2       3  0.998898  0.998827\n",
       "3       4  0.998953  0.998863"
      ]
     },
     "execution_count": 167,
     "metadata": {},
     "output_type": "execute_result"
    }
   ],
   "source": [
    "degree_values = list(range(1, 5)) # 1 2 3 4\n",
    "r2_train_values = []\n",
    "r2_val_values = []\n",
    "\n",
    "for degree in degree_values:\n",
    "    nonlinear_reg = Pipeline([\n",
    "        ('feature_scaling', StandardScaler()),\n",
    "        ('polynomial_features', PolynomialFeatures(degree=degree)),\n",
    "        ('regression', LinearRegression()),\n",
    "    ])\n",
    "    r2_train, r2_val = eval_model(nonlinear_reg, x_train, y_train, x_val, y_val)\n",
    "    r2_train_values.append(r2_train)\n",
    "    r2_val_values.append(r2_val)\n",
    "    \n",
    "results = pd.DataFrame({\n",
    "    'degree': degree_values,\n",
    "    'r2_train': r2_train_values,\n",
    "    'r2_val': r2_val_values,\n",
    "})\n",
    "\n",
    "results"
   ]
  },
  {
   "cell_type": "markdown",
   "id": "1d8ebf31",
   "metadata": {},
   "source": [
    "<p style=\"font-size: 16px\"> from above DataFrame we take R2-Scores with degree 4</p>"
   ]
  },
  {
   "cell_type": "markdown",
   "id": "e0dacf10",
   "metadata": {},
   "source": [
    "<p style=\"font-size: 18px\"> ploting degree in x-axis and r2-score (r2_train, r2_val) in y-axis</p>"
   ]
  },
  {
   "cell_type": "code",
   "execution_count": 168,
   "id": "300f2dd7",
   "metadata": {},
   "outputs": [
    {
     "data": {
      "image/png": "[encoded data removed]",
      "text/plain": [
       "<Figure size 432x288 with 1 Axes>"
      ]
     },
     "metadata": {
      "needs_background": "light"
     },
     "output_type": "display_data"
    }
   ],
   "source": [
    "import matplotlib.pyplot as plt\n",
    "\n",
    "\n",
    "# Plotting the training R2 scores\n",
    "plt.plot(results['degree'], results['r2_train'], label='Training R2', marker='.')\n",
    "\n",
    "# Plotting the validation R2 scores\n",
    "plt.plot(results['degree'], results['r2_val'], label='Validation R2', marker='.')\n",
    "\n",
    "# Adding labels and title\n",
    "plt.xlabel('Polynomial Degree')\n",
    "plt.ylabel('R2 Score')\n",
    "plt.title('Polynomial Regression')\n",
    "plt.legend()\n",
    "\n",
    "# Show the plot\n",
    "plt.show()\n"
   ]
  },
  {
   "cell_type": "code",
   "execution_count": 169,
   "id": "476621a3",
   "metadata": {},
   "outputs": [
    {
     "data": {
      "text/plain": [
       "0.9990067332841905"
      ]
     },
     "execution_count": 169,
     "metadata": {},
     "output_type": "execute_result"
    }
   ],
   "source": [
    "best_model = Pipeline([\n",
    "    ('feature_scaling', StandardScaler()),\n",
    "    ('polynomial_features', PolynomialFeatures(degree=4)),\n",
    "    ('regression', LinearRegression()),\n",
    "])\n",
    "best_model.fit(x_train, y_train)\n",
    "y_pred_test = best_model.predict(x_test)\n",
    "r2_score(y_test, y_pred_test)"
   ]
  },
  {
   "cell_type": "markdown",
   "id": "09da7d8a",
   "metadata": {},
   "source": [
    "<p style=\"font-size: 18px\"> correlation coefficient </p>"
   ]
  },
  {
   "cell_type": "code",
   "execution_count": 170,
   "id": "e6f1dd62",
   "metadata": {},
   "outputs": [
    {
     "data": {
      "text/plain": [
       "0.9994398500615305"
      ]
     },
     "execution_count": 170,
     "metadata": {},
     "output_type": "execute_result"
    }
   ],
   "source": [
    "math.sqrt(0.9988800138910146)"
   ]
  },
  {
   "cell_type": "markdown",
   "id": "918f397a",
   "metadata": {},
   "source": [
    "# Visualizing Our test predictions"
   ]
  },
  {
   "cell_type": "code",
   "execution_count": 171,
   "id": "cc4e83db",
   "metadata": {},
   "outputs": [
    {
     "data": {
      "text/plain": [
       "9.922"
      ]
     },
     "execution_count": 171,
     "metadata": {},
     "output_type": "execute_result"
    }
   ],
   "source": [
    "y_test.max()"
   ]
  },
  {
   "cell_type": "code",
   "execution_count": 172,
   "id": "f30fd41e",
   "metadata": {},
   "outputs": [
    {
     "data": {
      "text/plain": [
       "9.958673040876562"
      ]
     },
     "execution_count": 172,
     "metadata": {},
     "output_type": "execute_result"
    }
   ],
   "source": [
    "y_pred_test.max()"
   ]
  },
  {
   "cell_type": "code",
   "execution_count": 173,
   "id": "3c4f2fba",
   "metadata": {},
   "outputs": [
    {
     "data": {
      "image/png": "[encoded data removed]",
      "text/plain": [
       "<Figure size 360x360 with 1 Axes>"
      ]
     },
     "metadata": {
      "needs_background": "light"
     },
     "output_type": "display_data"
    }
   ],
   "source": [
    "plt.figure(figsize=(5, 5))\n",
    "plt.scatter(y_test, y_pred_test, alpha=0.4)\n",
    "plt.plot([0, 10], [0, 10], c='red')\n",
    "plt.xlabel('y_true')\n",
    "plt.ylabel('y_pred')\n",
    "plt.grid(axis='both')\n",
    "plt.show()"
   ]
  },
  {
   "cell_type": "code",
   "execution_count": 174,
   "id": "15dd9634",
   "metadata": {},
   "outputs": [],
   "source": [
    "#Dision Tree (no scale)"
   ]
  },
  {
   "cell_type": "code",
   "execution_count": 175,
   "id": "819f5632",
   "metadata": {},
   "outputs": [],
   "source": [
    "from sklearn.metrics import accuracy_score\n",
    "\n",
    "def evaluate_model(model, X_train, y_train, X_val, y_val):\n",
    "    model.fit(X_train, y_train)\n",
    "    y_pred_train = model.predict(X_train)\n",
    "    y_pred_val = model.predict(X_val)\n",
    "    acc_train = accuracy_score(y_train, y_pred_train)\n",
    "    acc_val = accuracy_score(y_val, y_pred_val)\n",
    "    return acc_train, acc_val"
   ]
  },
  {
   "cell_type": "code",
   "execution_count": 178,
   "id": "6f531636",
   "metadata": {},
   "outputs": [],
   "source": [
    "from sklearn.tree import DecisionTreeRegressor"
   ]
  },
  {
   "cell_type": "code",
   "execution_count": 184,
   "id": "2e33330f",
   "metadata": {},
   "outputs": [],
   "source": [
    "db_nan = dt2.dropna(how='any') #to drop if any value in the row has a nan"
   ]
  },
  {
   "cell_type": "code",
   "execution_count": 187,
   "id": "3fcbab3f",
   "metadata": {},
   "outputs": [
    {
     "data": {
      "text/plain": [
       "<bound method NDFrame.head of                   DateTime  Global_active_power  Global_reactive_power  \\\n",
       "0      2006-12-16 17:24:00                4.216                  0.418   \n",
       "1      2006-12-16 17:25:00                5.360                  0.436   \n",
       "2      2006-12-16 17:26:00                5.374                  0.498   \n",
       "3      2006-12-16 17:27:00                5.388                  0.502   \n",
       "4      2006-12-16 17:28:00                3.666                  0.528   \n",
       "...                    ...                  ...                    ...   \n",
       "185706 2007-04-24 16:30:00                0.320                  0.082   \n",
       "185707 2007-04-24 16:31:00                0.328                  0.078   \n",
       "185708 2007-04-24 16:32:00                0.344                  0.088   \n",
       "185709 2007-04-24 16:33:00                0.416                  0.174   \n",
       "185710 2007-04-24 16:34:00                0.408                  0.174   \n",
       "\n",
       "        Voltage  Global_intensity  Sub_metering_1  Sub_metering_2  \\\n",
       "0        234.84              18.4             0.0             1.0   \n",
       "1        233.63              23.0             0.0             1.0   \n",
       "2        233.29              23.0             0.0             2.0   \n",
       "3        233.74              23.0             0.0             1.0   \n",
       "4        235.68              15.8             0.0             1.0   \n",
       "...         ...               ...             ...             ...   \n",
       "185706   235.19               1.6             0.0             2.0   \n",
       "185707   234.53               1.6             0.0             1.0   \n",
       "185708   234.90               1.8             0.0             1.0   \n",
       "185709   235.29               2.0             0.0             1.0   \n",
       "185710   234.82               2.0             0.0             1.0   \n",
       "\n",
       "        Sub_metering_3  Sub_metering_4  \n",
       "0                 17.0       52.266667  \n",
       "1                 16.0       72.333333  \n",
       "2                 17.0       70.566667  \n",
       "3                 17.0       71.800000  \n",
       "4                 17.0       43.100000  \n",
       "...                ...             ...  \n",
       "185706             0.0        3.333333  \n",
       "185707             0.0        4.466667  \n",
       "185708             0.0        4.733333  \n",
       "185709             0.0        5.933333  \n",
       "185710             0.0        5.800000  \n",
       "\n",
       "[185711 rows x 9 columns]>"
      ]
     },
     "execution_count": 187,
     "metadata": {},
     "output_type": "execute_result"
    }
   ],
   "source": [
    "db_nan.head"
   ]
  },
  {
   "cell_type": "code",
   "execution_count": 193,
   "id": "a792b3ea",
   "metadata": {},
   "outputs": [],
   "source": [
    "from sklearn.datasets import load_diabetes\n",
    "from sklearn.tree import DecisionTreeRegressor\n",
    "from graphviz import Source"
   ]
  },
  {
   "cell_type": "code",
   "execution_count": 216,
   "id": "53364c28",
   "metadata": {},
   "outputs": [],
   "source": [
    "diabetes = load_diabetes()"
   ]
  },
  {
   "cell_type": "code",
   "execution_count": null,
   "id": "c315dbff",
   "metadata": {},
   "outputs": [],
   "source": []
  },
  {
   "cell_type": "code",
   "execution_count": 217,
   "id": "9e1829ef",
   "metadata": {},
   "outputs": [],
   "source": [
    "X = diabetes.data\n",
    "y = diabetes.target"
   ]
  },
  {
   "cell_type": "code",
   "execution_count": 218,
   "id": "60f55659",
   "metadata": {},
   "outputs": [],
   "source": [
    "# DecisionTreeRegressor\n",
    "tree_reg = DecisionTreeRegressor(criterion = 'squared_error',\n",
    "                                 max_depth=2)"
   ]
  },
  {
   "cell_type": "code",
   "execution_count": 219,
   "id": "54cea0f0",
   "metadata": {},
   "outputs": [
    {
     "data": {
      "text/plain": [
       "DecisionTreeRegressor(max_depth=2)"
      ]
     },
     "execution_count": 219,
     "metadata": {},
     "output_type": "execute_result"
    }
   ],
   "source": [
    "tree_reg.fit(X, y)"
   ]
  },
  {
   "cell_type": "code",
   "execution_count": 220,
   "id": "87193889",
   "metadata": {},
   "outputs": [],
   "source": [
    "# Plot the decision tree graph\n",
    "from sklearn.tree import export_graphviz\n",
    "\n",
    "export_graphviz(\n",
    "    tree_reg,\n",
    "    out_file=\"diabetes_tree.dot\",\n",
    "    feature_names=iabetes.feature_names,\n",
    "    class_names=iabetes.target,\n",
    "    rounded=True,\n",
    "    filled=True\n",
    " )"
   ]
  },
  {
   "cell_type": "code",
   "execution_count": 221,
   "id": "790dd520",
   "metadata": {},
   "outputs": [
    {
     "ename": "NameError",
     "evalue": "name 'Source' is not defined",
     "output_type": "error",
     "traceback": [
      "\u001b[1;31m---------------------------------------------------------------------------\u001b[0m",
      "\u001b[1;31mNameError\u001b[0m                                 Traceback (most recent call last)",
      "Input \u001b[1;32mIn [221]\u001b[0m, in \u001b[0;36m<cell line: 4>\u001b[1;34m()\u001b[0m\n\u001b[0;32m      1\u001b[0m \u001b[38;5;28;01mwith\u001b[39;00m \u001b[38;5;28mopen\u001b[39m(\u001b[38;5;124m\"\u001b[39m\u001b[38;5;124mdiabetes_tree.dot\u001b[39m\u001b[38;5;124m\"\u001b[39m) \u001b[38;5;28;01mas\u001b[39;00m f:\n\u001b[0;32m      2\u001b[0m     dot_graph \u001b[38;5;241m=\u001b[39m f\u001b[38;5;241m.\u001b[39mread()\n\u001b[1;32m----> 4\u001b[0m \u001b[43mSource\u001b[49m(dot_graph)\n",
      "\u001b[1;31mNameError\u001b[0m: name 'Source' is not defined"
     ]
    }
   ],
   "source": [
    "with open(\"diabetes_tree.dot\") as f:\n",
    "    dot_graph = f.read()\n",
    "     \n",
    "Source(dot_graph)"
   ]
  },
  {
   "cell_type": "code",
   "execution_count": null,
   "id": "1521346b",
   "metadata": {},
   "outputs": [],
   "source": []
  }
 ],
 "metadata": {
  "kernelspec": {
   "display_name": "Python 3 (ipykernel)",
   "language": "python",
   "name": "python3"
  },
  "language_info": {
   "codemirror_mode": {
    "name": "ipython",
    "version": 3
   },
   "file_extension": ".py",
   "mimetype": "text/x-python",
   "name": "python",
   "nbconvert_exporter": "python",
   "pygments_lexer": "ipython3",
   "version": "3.9.12"
  },
  "vscode": {
   "interpreter": {
    "hash": "4abe8f0d43810da8e0599c92fa77ff1bc3ba49df42db1369ea5b9c66bb667179"
   }
  }
 },
 "nbformat": 4,
 "nbformat_minor": 5
}
